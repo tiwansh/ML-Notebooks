{
 "cells": [
  {
   "cell_type": "markdown",
   "metadata": {},
   "source": [
    "<a href=\"https://www.skills.network/\"><img src=\"https://cf-courses-data.s3.us.cloud-object-storage.appdomain.cloud/IBM-DL0120ENedX/labs/Template%20for%20Instructional%20Hands-on%20Labs/images/IDSNlogo.png\" width=\"400px\" align=\"center\"></a>\n",
    "\n",
    "<h1 align=\"center\"><font size=\"5\">RESTRICTED BOLTZMANN MACHINES</font></h1>\n"
   ]
  },
  {
   "cell_type": "markdown",
   "metadata": {},
   "source": [
    "<h3>Introduction</h3>\n",
    "<b>Restricted Boltzmann Machine (RBM):</b>  RBMs are shallow neural nets that learn to reconstruct data by themselves in an unsupervised fashion.  \n",
    "\n",
    "<h4>Why are RBMs important?</h4>\n",
    "An RBM are a basic form of autoencoder.  It can automatically extract <b>meaningful</b> features from a given input.\n",
    "\n",
    "<h4>How does it work?</h4>\n",
    "RBM is a 2 layer neural network. Simply, RBM takes the inputs and translates those into a set of binary values that represents them in the hidden layer. Then, these numbers can be translated back to reconstruct the inputs. Through several forward and backward passes, the RBM will be trained, and a trained RBM can reveal which features are the most important ones when detecting patterns.   \n",
    "\n",
    "<h4>What are the applications of an RBM?</h4>\n",
    "RBM is useful for <a href='http://www.cs.utoronto.ca/~hinton/absps/netflixICML.pdf'>  Collaborative Filtering</a>, dimensionality reduction, classification, regression, feature learning, topic modeling and even <b>Deep Belief Networks</b>.\n",
    "\n",
    "<h4>Is RBM a generative or Discriminative model?</h4>\n",
    "RBM is a generative model. Let me explain it by first, see what is different between discriminative and generative models: \n",
    "\n",
    "<b>Discriminative:</b> Consider a classification problem where we want to learn to distinguish between Sedan cars (y = 1) and SUV cars (y = 0), based on some features of cars. Given a training set, an algorithm like logistic regression tries to find a straight line, or <i>decision boundary</i>, that separates the suv and sedan.  \n",
    "\n",
    "<b>Generative:</b> looking at cars, we can build a model of what Sedan cars look like. Then, looking at SUVs, we can build a separate model of what SUV cars look like. Finally, to classify a new car, we can match the new car against the Sedan model, and match it against the SUV model, to see whether the new car looks more like the SUV or Sedan. \n",
    "\n",
    "Generative Models specify a probability distribution over a dataset of input vectors. We can carry out both supervised and unsupervised tasks with generative models:\n",
    "\n",
    "<ul>\n",
    "    <li>In an unsupervised task, we try to form a model for $P(x)$, where $P$ is the probability given $x$ as an input vector.</li>\n",
    "    <li>In the supervised task, we first form a model for $P(x|y)$, where $P$ is the probability of $x$ given $y$(the label for $x$). For example, if $y = 0$ indicates that a car is an SUV, and $y = 1$ indicates that a car is a sedan, then $p(x|y = 0)$ models the distribution of SUV features, and $p(x|y = 1)$ models the distribution of sedan features. If we manage to find $P(x|y)$ and $P(y)$, then we can use <b>Bayes rule</b> to estimate $P(y|x)$, because:   \n",
    "        $$p(y|x) = \\frac{p(x|y)p(y)}{p(x)}$$</li>\n",
    "</ul>\n",
    "Now the question is, can we build a generative model, and then use it to create synthetic data by directly sampling from the modeled probability distributions? Lets see. \n"
   ]
  },
  {
   "cell_type": "markdown",
   "metadata": {},
   "source": [
    "<h2>Table of Contents</h2>\n",
    "<ol>\n",
    "    <li><a href=\"#ref1\">Initialization</a></li>\n",
    "    <li><a href=\"#ref2\">RBM layers</a></li>\n",
    "    <li><a href=\"#ref3\">What RBM can do after training?</a></li>\n",
    "    <li><a href=\"#ref4\">How to train the model?</a></li>\n",
    "    <li><a href=\"#ref5\">Learned features</a></li>\n",
    "</ol>\n",
    "<p></p>\n",
    "</div>\n",
    "<br>\n",
    "\n",
    "<hr>\n"
   ]
  },
  {
   "cell_type": "markdown",
   "metadata": {},
   "source": [
    "<a id=\"ref1\"></a>\n",
    "\n",
    "<h3>Initialization</h3>\n",
    "\n",
    "First, we have to load the utility file which contains different utility functions that are not connected\n",
    "in any way to the networks presented in the tutorials, but rather help in\n",
    "processing the outputs into a more understandable way.\n"
   ]
  },
  {
   "cell_type": "code",
   "execution_count": 1,
   "metadata": {},
   "outputs": [],
   "source": [
    "import urllib.request\n",
    "with urllib.request.urlopen(\"https://cf-courses-data.s3.us.cloud-object-storage.appdomain.cloud/IBMDeveloperSkillsNetwork-DL0120EN-SkillsNetwork/labs/Week4/data/utils.py\") as url:\n",
    "    response = url.read()\n",
    "target = open('utils.py', 'w')\n",
    "target.write(response.decode('utf-8'))\n",
    "target.close()"
   ]
  },
  {
   "cell_type": "markdown",
   "metadata": {},
   "source": [
    "<h2>Installing TensorFlow </h2>\n",
    "\n",
    "We will installing TensorFlow version 2.2.0 and its required prerequistes.  Also installing pillow...\n"
   ]
  },
  {
   "cell_type": "code",
   "execution_count": 2,
   "metadata": {},
   "outputs": [
    {
     "name": "stdout",
     "output_type": "stream",
     "text": [
      "Requirement already satisfied: grpcio==1.24.3 in /home/local/SIRIONLABS/anshuman.tiwari1/virtual_environments/ml_venv/lib/python3.7/site-packages (1.24.3)\n",
      "Requirement already satisfied: six>=1.5.2 in /home/local/SIRIONLABS/anshuman.tiwari1/virtual_environments/ml_venv/lib/python3.7/site-packages (from grpcio==1.24.3) (1.13.0)\n",
      "\u001b[33mWARNING: You are using pip version 20.0.2; however, version 20.3.3 is available.\n",
      "You should consider upgrading via the '/home/local/SIRIONLABS/anshuman.tiwari1/virtual_environments/ml_venv/bin/python3 -m pip install --upgrade pip' command.\u001b[0m\n",
      "Collecting tensorflow==2.2.0\n",
      "  Using cached tensorflow-2.2.0-cp37-cp37m-manylinux2010_x86_64.whl (516.2 MB)\n",
      "Requirement already satisfied: google-pasta>=0.1.8 in /home/local/SIRIONLABS/anshuman.tiwari1/virtual_environments/ml_venv/lib/python3.7/site-packages (from tensorflow==2.2.0) (0.2.0)\n",
      "Requirement already satisfied: gast==0.3.3 in /home/local/SIRIONLABS/anshuman.tiwari1/virtual_environments/ml_venv/lib/python3.7/site-packages (from tensorflow==2.2.0) (0.3.3)\n",
      "Requirement already satisfied: h5py<2.11.0,>=2.10.0 in /home/local/SIRIONLABS/anshuman.tiwari1/virtual_environments/ml_venv/lib/python3.7/site-packages (from tensorflow==2.2.0) (2.10.0)\n",
      "Requirement already satisfied: protobuf>=3.8.0 in /home/local/SIRIONLABS/anshuman.tiwari1/virtual_environments/ml_venv/lib/python3.7/site-packages (from tensorflow==2.2.0) (3.13.0)\n",
      "Requirement already satisfied: keras-preprocessing>=1.1.0 in /home/local/SIRIONLABS/anshuman.tiwari1/virtual_environments/ml_venv/lib/python3.7/site-packages (from tensorflow==2.2.0) (1.1.2)\n",
      "Collecting tensorboard<2.3.0,>=2.2.0\n",
      "  Using cached tensorboard-2.2.2-py3-none-any.whl (3.0 MB)\n",
      "Requirement already satisfied: termcolor>=1.1.0 in /home/local/SIRIONLABS/anshuman.tiwari1/virtual_environments/ml_venv/lib/python3.7/site-packages (from tensorflow==2.2.0) (1.1.0)\n",
      "Requirement already satisfied: wrapt>=1.11.1 in /home/local/SIRIONLABS/anshuman.tiwari1/virtual_environments/ml_venv/lib/python3.7/site-packages (from tensorflow==2.2.0) (1.12.1)\n",
      "Requirement already satisfied: opt-einsum>=2.3.2 in /home/local/SIRIONLABS/anshuman.tiwari1/virtual_environments/ml_venv/lib/python3.7/site-packages (from tensorflow==2.2.0) (3.3.0)\n",
      "Requirement already satisfied: six>=1.12.0 in /home/local/SIRIONLABS/anshuman.tiwari1/virtual_environments/ml_venv/lib/python3.7/site-packages (from tensorflow==2.2.0) (1.13.0)\n",
      "Requirement already satisfied: absl-py>=0.7.0 in /home/local/SIRIONLABS/anshuman.tiwari1/virtual_environments/ml_venv/lib/python3.7/site-packages (from tensorflow==2.2.0) (0.9.0)\n",
      "Requirement already satisfied: scipy==1.4.1; python_version >= \"3\" in /home/local/SIRIONLABS/anshuman.tiwari1/virtual_environments/ml_venv/lib/python3.7/site-packages (from tensorflow==2.2.0) (1.4.1)\n",
      "Requirement already satisfied: grpcio>=1.8.6 in /home/local/SIRIONLABS/anshuman.tiwari1/virtual_environments/ml_venv/lib/python3.7/site-packages (from tensorflow==2.2.0) (1.24.3)\n",
      "Collecting tensorflow-estimator<2.3.0,>=2.2.0\n",
      "  Using cached tensorflow_estimator-2.2.0-py2.py3-none-any.whl (454 kB)\n",
      "Requirement already satisfied: astunparse==1.6.3 in /home/local/SIRIONLABS/anshuman.tiwari1/virtual_environments/ml_venv/lib/python3.7/site-packages (from tensorflow==2.2.0) (1.6.3)\n",
      "Requirement already satisfied: wheel>=0.26; python_version >= \"3\" in /home/local/SIRIONLABS/anshuman.tiwari1/virtual_environments/ml_venv/lib/python3.7/site-packages (from tensorflow==2.2.0) (0.34.2)\n",
      "Requirement already satisfied: numpy<2.0,>=1.16.0 in /home/local/SIRIONLABS/anshuman.tiwari1/virtual_environments/ml_venv/lib/python3.7/site-packages (from tensorflow==2.2.0) (1.18.1)\n",
      "Requirement already satisfied: setuptools in /home/local/SIRIONLABS/anshuman.tiwari1/virtual_environments/ml_venv/lib/python3.7/site-packages (from protobuf>=3.8.0->tensorflow==2.2.0) (45.1.0)\n",
      "Requirement already satisfied: google-auth-oauthlib<0.5,>=0.4.1 in /home/local/SIRIONLABS/anshuman.tiwari1/virtual_environments/ml_venv/lib/python3.7/site-packages (from tensorboard<2.3.0,>=2.2.0->tensorflow==2.2.0) (0.4.1)\n",
      "Requirement already satisfied: werkzeug>=0.11.15 in /home/local/SIRIONLABS/anshuman.tiwari1/virtual_environments/ml_venv/lib/python3.7/site-packages (from tensorboard<2.3.0,>=2.2.0->tensorflow==2.2.0) (1.0.1)\n",
      "Requirement already satisfied: markdown>=2.6.8 in /home/local/SIRIONLABS/anshuman.tiwari1/virtual_environments/ml_venv/lib/python3.7/site-packages (from tensorboard<2.3.0,>=2.2.0->tensorflow==2.2.0) (3.2.2)\n",
      "Requirement already satisfied: requests<3,>=2.21.0 in /home/local/SIRIONLABS/anshuman.tiwari1/virtual_environments/ml_venv/lib/python3.7/site-packages (from tensorboard<2.3.0,>=2.2.0->tensorflow==2.2.0) (2.22.0)\n",
      "Requirement already satisfied: google-auth<2,>=1.6.3 in /home/local/SIRIONLABS/anshuman.tiwari1/virtual_environments/ml_venv/lib/python3.7/site-packages (from tensorboard<2.3.0,>=2.2.0->tensorflow==2.2.0) (1.20.1)\n",
      "Requirement already satisfied: tensorboard-plugin-wit>=1.6.0 in /home/local/SIRIONLABS/anshuman.tiwari1/virtual_environments/ml_venv/lib/python3.7/site-packages (from tensorboard<2.3.0,>=2.2.0->tensorflow==2.2.0) (1.7.0)\n",
      "Requirement already satisfied: requests-oauthlib>=0.7.0 in /home/local/SIRIONLABS/anshuman.tiwari1/virtual_environments/ml_venv/lib/python3.7/site-packages (from google-auth-oauthlib<0.5,>=0.4.1->tensorboard<2.3.0,>=2.2.0->tensorflow==2.2.0) (1.3.0)\n",
      "Requirement already satisfied: importlib-metadata; python_version < \"3.8\" in /home/local/SIRIONLABS/anshuman.tiwari1/virtual_environments/ml_venv/lib/python3.7/site-packages (from markdown>=2.6.8->tensorboard<2.3.0,>=2.2.0->tensorflow==2.2.0) (1.5.0)\n",
      "Requirement already satisfied: certifi>=2017.4.17 in /home/local/SIRIONLABS/anshuman.tiwari1/virtual_environments/ml_venv/lib/python3.7/site-packages (from requests<3,>=2.21.0->tensorboard<2.3.0,>=2.2.0->tensorflow==2.2.0) (2019.11.28)\n",
      "Requirement already satisfied: urllib3!=1.25.0,!=1.25.1,<1.26,>=1.21.1 in /home/local/SIRIONLABS/anshuman.tiwari1/virtual_environments/ml_venv/lib/python3.7/site-packages (from requests<3,>=2.21.0->tensorboard<2.3.0,>=2.2.0->tensorflow==2.2.0) (1.25.8)\n",
      "Requirement already satisfied: chardet<3.1.0,>=3.0.2 in /home/local/SIRIONLABS/anshuman.tiwari1/virtual_environments/ml_venv/lib/python3.7/site-packages (from requests<3,>=2.21.0->tensorboard<2.3.0,>=2.2.0->tensorflow==2.2.0) (3.0.4)\n",
      "Requirement already satisfied: idna<2.9,>=2.5 in /home/local/SIRIONLABS/anshuman.tiwari1/virtual_environments/ml_venv/lib/python3.7/site-packages (from requests<3,>=2.21.0->tensorboard<2.3.0,>=2.2.0->tensorflow==2.2.0) (2.8)\n",
      "Requirement already satisfied: cachetools<5.0,>=2.0.0 in /home/local/SIRIONLABS/anshuman.tiwari1/virtual_environments/ml_venv/lib/python3.7/site-packages (from google-auth<2,>=1.6.3->tensorboard<2.3.0,>=2.2.0->tensorflow==2.2.0) (4.1.1)\n",
      "Requirement already satisfied: rsa<5,>=3.1.4; python_version >= \"3.5\" in /home/local/SIRIONLABS/anshuman.tiwari1/virtual_environments/ml_venv/lib/python3.7/site-packages (from google-auth<2,>=1.6.3->tensorboard<2.3.0,>=2.2.0->tensorflow==2.2.0) (4.6)\n",
      "Requirement already satisfied: pyasn1-modules>=0.2.1 in /home/local/SIRIONLABS/anshuman.tiwari1/virtual_environments/ml_venv/lib/python3.7/site-packages (from google-auth<2,>=1.6.3->tensorboard<2.3.0,>=2.2.0->tensorflow==2.2.0) (0.2.8)\n",
      "Requirement already satisfied: oauthlib>=3.0.0 in /home/local/SIRIONLABS/anshuman.tiwari1/virtual_environments/ml_venv/lib/python3.7/site-packages (from requests-oauthlib>=0.7.0->google-auth-oauthlib<0.5,>=0.4.1->tensorboard<2.3.0,>=2.2.0->tensorflow==2.2.0) (3.1.0)\n",
      "Requirement already satisfied: zipp>=0.5 in /home/local/SIRIONLABS/anshuman.tiwari1/virtual_environments/ml_venv/lib/python3.7/site-packages (from importlib-metadata; python_version < \"3.8\"->markdown>=2.6.8->tensorboard<2.3.0,>=2.2.0->tensorflow==2.2.0) (2.1.0)\n",
      "Requirement already satisfied: pyasn1>=0.1.3 in /home/local/SIRIONLABS/anshuman.tiwari1/virtual_environments/ml_venv/lib/python3.7/site-packages (from rsa<5,>=3.1.4; python_version >= \"3.5\"->google-auth<2,>=1.6.3->tensorboard<2.3.0,>=2.2.0->tensorflow==2.2.0) (0.4.8)\n",
      "Installing collected packages: tensorboard, tensorflow-estimator, tensorflow\n",
      "  Attempting uninstall: tensorboard\n",
      "    Found existing installation: tensorboard 2.1.1\n",
      "    Uninstalling tensorboard-2.1.1:\n",
      "      Successfully uninstalled tensorboard-2.1.1\n",
      "  Attempting uninstall: tensorflow-estimator\n",
      "    Found existing installation: tensorflow-estimator 2.1.0\n",
      "    Uninstalling tensorflow-estimator-2.1.0:\n",
      "      Successfully uninstalled tensorflow-estimator-2.1.0\n",
      "  Attempting uninstall: tensorflow\n",
      "    Found existing installation: tensorflow 2.2.0rc0\n",
      "    Uninstalling tensorflow-2.2.0rc0:\n",
      "      Successfully uninstalled tensorflow-2.2.0rc0\n",
      "Successfully installed tensorboard-2.2.2 tensorflow-2.2.0 tensorflow-estimator-2.2.0\n",
      "\u001b[33mWARNING: You are using pip version 20.0.2; however, version 20.3.3 is available.\n",
      "You should consider upgrading via the '/home/local/SIRIONLABS/anshuman.tiwari1/virtual_environments/ml_venv/bin/python3 -m pip install --upgrade pip' command.\u001b[0m\n",
      "Requirement already satisfied: pillow in /home/local/SIRIONLABS/anshuman.tiwari1/virtual_environments/ml_venv/lib/python3.7/site-packages (7.2.0)\n",
      "\u001b[33mWARNING: You are using pip version 20.0.2; however, version 20.3.3 is available.\n",
      "You should consider upgrading via the '/home/local/SIRIONLABS/anshuman.tiwari1/virtual_environments/ml_venv/bin/python3 -m pip install --upgrade pip' command.\u001b[0m\n"
     ]
    }
   ],
   "source": [
    "!pip install grpcio==1.24.3\n",
    "!pip install tensorflow==2.2.0\n",
    "!pip install pillow"
   ]
  },
  {
   "cell_type": "markdown",
   "metadata": {},
   "source": [
    "<b>Notice:</b> This notebook has been created with TensorFlow version 2.2, and might not work with other versions. Therefore we check:\n"
   ]
  },
  {
   "cell_type": "code",
   "execution_count": 4,
   "metadata": {},
   "outputs": [],
   "source": [
    "import tensorflow as tf\n",
    "from IPython.display import Markdown, display\n",
    "\n",
    "def printmd(string):\n",
    "    display(Markdown('# <span style=\"color:red\">'+string+'</span>'))\n",
    "\n",
    "\n",
    "if not tf.__version__ == '2.2.0':\n",
    "    printmd('<<<<<!!!!! ERROR !!!! please upgrade to TensorFlow 2.2.0, or restart your Kernel (Kernel->Restart & Clear Output)>>>>>')"
   ]
  },
  {
   "cell_type": "markdown",
   "metadata": {},
   "source": [
    "Now, we load in all the packages that we use to create the net including the TensorFlow package:\n"
   ]
  },
  {
   "cell_type": "code",
   "execution_count": 5,
   "metadata": {},
   "outputs": [],
   "source": [
    "import tensorflow as tf\n",
    "import numpy as np\n",
    "\n",
    "from PIL import Image\n",
    "from utils import tile_raster_images\n",
    "import matplotlib.pyplot as plt\n",
    "%matplotlib inline"
   ]
  },
  {
   "cell_type": "markdown",
   "metadata": {},
   "source": [
    "<hr>\n"
   ]
  },
  {
   "cell_type": "markdown",
   "metadata": {},
   "source": [
    "<a id=\"ref2\"></a>\n",
    "\n",
    "<h3>RBM layers</h3>\n",
    "\n",
    "An RBM has two layers. The first layer of the RBM is called the <b>visible</b> (or input layer). Imagine that our toy example, has only vectors with 7 values, so the visible layer must have $V=7$ input nodes. \n",
    "The second layer is the <b>hidden</b> layer, which has $H$ neurons in our case. Each hidden node takes on values of either 0 or 1 (i.e., $h_i = 1$ or $h_i$ = 0), with a probability that is a logistic function of the inputs it receives from the other $V$ visible units, called for example, $p(h_i = 1)$. For our toy sample, we'll use 2 nodes in the hidden layer, so $H = 2$.\n",
    "\n",
    "<center><img src=\"https://ibm.box.com/shared/static/eu26opvcefgls6vnwuo29uwp0nudmokh.png\" alt=\"RBM Model\" style=\"width: 400px;\"></center>\n"
   ]
  },
  {
   "cell_type": "markdown",
   "metadata": {},
   "source": [
    "Each node in the first layer also has a <b>bias</b>. We will denote the bias as $v_{bias}$, and this single value is shared among the $V$ visible units.\n",
    "\n",
    "The <b>bias</b> of the second is defined similarly as $h_{bias}$, and this single value among the $H$ hidden units.\n"
   ]
  },
  {
   "cell_type": "code",
   "execution_count": 8,
   "metadata": {},
   "outputs": [],
   "source": [
    "v_bias = tf.Variable(tf.zeros([7]), tf.float32)\n",
    "h_bias = tf.Variable(tf.zeros([2]), tf.float32)"
   ]
  },
  {
   "cell_type": "markdown",
   "metadata": {},
   "source": [
    "We have to define weights among the input layer and hidden layer nodes. In the weight matrix, the number of rows are equal to the input nodes, and the number of columns are equal to the output nodes. We define a tensor $\\mathbf{W}$ of shape = (7,2), where the number of visible neurons = 7, and the number of hidden neurons = 2. \n"
   ]
  },
  {
   "cell_type": "code",
   "execution_count": 9,
   "metadata": {},
   "outputs": [],
   "source": [
    "W = tf.constant(np.random.normal(loc=0.0, scale=1.0, size=(7, 2)).astype(np.float32))"
   ]
  },
  {
   "cell_type": "markdown",
   "metadata": {},
   "source": [
    "<hr>\n"
   ]
  },
  {
   "cell_type": "markdown",
   "metadata": {},
   "source": [
    "<a id=\"ref3\"></a>\n",
    "\n",
    "<h3>What RBM can do after training?</h3>\n",
    "Think of RBM as a model that has been trained based on images of a dataset of many SUV and sedan cars. Also, imagine that the RBM network has only two hidden nodes, where one node encodes the weight and, and the other encodes the size.  \n",
    "In a sense, the different configurations represent different cars, where one is an SUV and the other is Sedan.  In a training process, through many forward and backward passes, the RBM adjust its weights to send a stronger signal to either the SUV node (0, 1) or the sedan node (1, 0) in the hidden layer, given the pixels of images. Now, given an SUV in hidden layer, which distribution of pixels should we expect? RBM can give you 2 things. First, it encodes your images in hidden layer. Second, it gives you the probability of observing a case, given some hidden values.\n",
    "\n",
    "<h3>The Inference Process</h3>\n",
    "\n",
    "RBM has two phases:\n",
    "\n",
    "<ul>\n",
    "    <li>Forward Pass</li>  \n",
    "    <li>Backward Pass or Reconstruction</li>\n",
    "</ul>\n",
    "\n",
    "<b>Phase 1) Forward pass:</b>  \n",
    "\n",
    "Input one training sample (one image) $\\mathbf{x}$ through all visible nodes, and pass it to all hidden nodes. Processing happens in each node in the hidden layer. This computation begins by making stochastic decisions about whether to transmit that input or not (i.e. to determine the state of each hidden layer).  First, the probability vector is computed using the input feature vector $\\mathbf{x}$, the weight matrix $\\mathbf{W}$, and the bias term $h_{bias}$, as \n",
    "\n",
    "$p({h_j}|\\mathbf x)= \\sigma(\\sum_{i=1}^V W_{ij} x_i + h_{bias} )$, \n",
    "\n",
    "where $\\sigma(z) = (1+e^{-z})^{-1}$ is the logistic function.\n",
    "\n",
    "So, what does $p({h_j})$ represent? It is the <b>probability distribution</b> of the hidden units. That is, RBM uses inputs $x_i$ to make predictions about hidden node activations. For example, imagine that the hidden node activation values are [0.51 0.84] for the first training item. It tells you that the conditional probability for each hidden neuron for Phase 1 is: \n",
    "\n",
    "$$p(h_{1} = 1|\\mathbf{v}) = 0.51$$\n",
    "$$p(h_{2} = 1|\\mathbf{v}) = 0.84$$\n",
    "\n",
    "As a result, for each row in the training set, vector of probabilities is generated.  In TensorFlow, this is referred to as a `tensor` with a shape of (1,2). \n",
    "\n",
    "We then turn unit $j$ with probability $p(h_{j}|\\mathbf{v})$, and turn it off with probability $1 - p(h_{j}|\\mathbf{v})$ by generating a uniform random number vector $\\mathbf{\\xi}$, and comparing it to the activation probability as \n",
    "\n",
    "<center>If $\\xi_j>p(h_{j}|\\mathbf{v})$, then $h_j=1$, else $h_j=0$.</center>\n",
    "\n",
    "Therefore, the conditional probability of a configuration of $\\mathbf{h}$ given $\\mathbf{v}$ (for a training sample) is:\n",
    "\n",
    "$$p(\\mathbf{h} \\mid \\mathbf{v}) = \\prod_{j=1}^H p(h_j \\mid \\mathbf{v})$$\n",
    "\n",
    "where $H$ is the number of hidden units.\n"
   ]
  },
  {
   "cell_type": "markdown",
   "metadata": {},
   "source": [
    "Before we go further, let's look at a toy example for one case out of all input. Assume that we have a trained RBM, and a very simple input vector, such as [1.0, 0.0, 0.0, 1.0, 0.0, 0.0, 0.0].  \n",
    "Let's see what the output of forward pass would look like:\n"
   ]
  },
  {
   "cell_type": "code",
   "execution_count": 10,
   "metadata": {},
   "outputs": [
    {
     "name": "stdout",
     "output_type": "stream",
     "text": [
      "Input:  tf.Tensor([[1. 0. 0. 1. 0. 0. 0.]], shape=(1, 7), dtype=float32)\n",
      "hb:  tf.Tensor([0.1 0.1], shape=(2,), dtype=float32)\n",
      "w:  tf.Tensor(\n",
      "[[ 1.5711787   0.5968385 ]\n",
      " [ 0.8982189   1.8866774 ]\n",
      " [ 0.17571788 -0.795838  ]\n",
      " [-1.1291206  -0.84906834]\n",
      " [-1.2866657   1.8027492 ]\n",
      " [ 0.8502322  -0.172608  ]\n",
      " [ 0.0570574   0.7270086 ]], shape=(7, 2), dtype=float32)\n",
      "p(h|v):  tf.Tensor([[0.6322911 0.4620159]], shape=(1, 2), dtype=float32)\n",
      "h0 states: tf.Tensor([[0. 0.]], shape=(1, 2), dtype=float32)\n"
     ]
    }
   ],
   "source": [
    "X = tf.constant([[1.0, 0.0, 0.0, 1.0, 0.0, 0.0, 0.0]], tf.float32)\n",
    "\n",
    "v_state = X\n",
    "print (\"Input: \", v_state)\n",
    "\n",
    "h_bias = tf.constant([0.1, 0.1])\n",
    "print (\"hb: \", h_bias)\n",
    "print (\"w: \", W)\n",
    "\n",
    "# Calculate the probabilities of turning the hidden units on:\n",
    "h_prob = tf.nn.sigmoid(tf.matmul(v_state, W) + h_bias)  #probabilities of the hidden units\n",
    "print (\"p(h|v): \", h_prob)\n",
    "\n",
    "# Draw samples from the distribution:\n",
    "h_state = tf.nn.relu(tf.sign(h_prob - tf.random.uniform(tf.shape(h_prob)))) #states\n",
    "print (\"h0 states:\", h_state)"
   ]
  },
  {
   "cell_type": "markdown",
   "metadata": {},
   "source": [
    "<b>Phase 2) Backward Pass (Reconstruction):</b>\n",
    "The RBM reconstructs data by making several forward and backward passes between the visible and hidden layers.\n",
    "\n",
    "So, in the second phase (i.e. reconstruction phase), the samples from the hidden layer (i.e. $\\mathbf h$) becomes the input in the backward pass. The same weight matrix and visible layer biases are used to passed to the sigmoid function. The reproduced output is a reconstruction which is an approximation of the original input.\n"
   ]
  },
  {
   "cell_type": "code",
   "execution_count": 11,
   "metadata": {},
   "outputs": [
    {
     "name": "stdout",
     "output_type": "stream",
     "text": [
      "b:  tf.Tensor([0.1 0.2 0.1 0.1 0.1 0.2 0.1], shape=(7,), dtype=float32)\n",
      "p(vi∣h):  tf.Tensor(\n",
      "[[0.5249792  0.54983395 0.5249792  0.5249792  0.5249792  0.54983395\n",
      "  0.5249792 ]], shape=(1, 7), dtype=float32)\n",
      "v probability states:  tf.Tensor([[0. 0. 0. 0. 0. 1. 1.]], shape=(1, 7), dtype=float32)\n"
     ]
    }
   ],
   "source": [
    "vb = tf.constant([0.1, 0.2, 0.1, 0.1, 0.1, 0.2, 0.1])\n",
    "print (\"b: \", vb)\n",
    "v_prob = tf.nn.sigmoid(tf.matmul(h_state, tf.transpose(W)) + vb)\n",
    "print (\"p(vi∣h): \", v_prob)\n",
    "v_state = tf.nn.relu(tf.sign(v_prob - tf.random.uniform(tf.shape(v_prob))))\n",
    "print (\"v probability states: \", v_state)"
   ]
  },
  {
   "cell_type": "markdown",
   "metadata": {},
   "source": [
    "RBM learns a probability distribution over the input, and then, after being trained, the RBM can generate new samples from the learned probability distribution. As you know, <b>probability distribution</b>, is a mathematical function that provides the probabilities of occurrence of different possible outcomes in an experiment.\n",
    "\n",
    "The (conditional) probability distribution over the visible units v is given by\n",
    "\n",
    "$p(\\mathbf{v} \\mid \\mathbf{h}) = \\prod_{i=1}^V p(v_i \\mid \\mathbf{h}),$\n",
    "\n",
    "where,\n",
    "\n",
    "$p(v_i \\mid \\mathbf{h}) = \\sigma\\left(\\sum_{j=1}^H W_{ji} h_j + v_{bias} \\right)$\n",
    "\n",
    "so, given current state of hidden units and weights, what is the probability of generating [1. 0. 0. 1. 0. 0. 0.] in reconstruction phase, based on the above <b>probability distribution</b> function?\n"
   ]
  },
  {
   "cell_type": "code",
   "execution_count": 12,
   "metadata": {},
   "outputs": [
    {
     "name": "stdout",
     "output_type": "stream",
     "text": [
      "input X: [[1. 0. 0. 1. 0. 0. 0.]]\n",
      "probablity vector: [0.5249792  0.54983395 0.5249792  0.5249792  0.5249792  0.54983395\n",
      " 0.5249792 ]\n",
      "probability of generating X:  0.0059864256\n"
     ]
    }
   ],
   "source": [
    "inp = X\n",
    "print(\"input X:\" , inp.numpy())\n",
    "\n",
    "print(\"probablity vector:\" , v_prob[0].numpy())\n",
    "v_probability = 1\n",
    "\n",
    "for elm, p in zip(inp[0],v_prob[0]) :\n",
    "    if elm ==1:\n",
    "        v_probability *= p\n",
    "    else:\n",
    "        v_probability *= (1-p)\n",
    "\n",
    "print(\"probability of generating X: \" , v_probability.numpy())"
   ]
  },
  {
   "cell_type": "markdown",
   "metadata": {},
   "source": [
    "How similar are vectors $\\mathbf{x}$ and $\\mathbf{v}$? Of course, the reconstructed values most likely will not look anything like the input vector, because our network has not been trained yet. Our objective is to train the model in such a way that the input vector and reconstructed vector to be same. Therefore, based on how different the input values look to the ones that we just reconstructed, the weights are adjusted. \n"
   ]
  },
  {
   "cell_type": "markdown",
   "metadata": {},
   "source": [
    "<hr>\n"
   ]
  },
  {
   "cell_type": "markdown",
   "metadata": {},
   "source": [
    "<h2>MNIST</h2>\n"
   ]
  },
  {
   "cell_type": "markdown",
   "metadata": {},
   "source": [
    "We will be using the MNIST dataset to practice the usage of RBMs. The following cell loads the MNIST dataset.\n"
   ]
  },
  {
   "cell_type": "code",
   "execution_count": 13,
   "metadata": {},
   "outputs": [],
   "source": [
    "#loading training and test data\n",
    "mnist = tf.keras.datasets.mnist\n",
    "(trX, trY), (teX, teY) = mnist.load_data()\n",
    "\n",
    "# showing an example of the Flatten class and operation\n",
    "from tensorflow.keras.layers import Flatten\n",
    "flatten = Flatten(dtype='float32')\n",
    "trX = flatten(trX/255.0)\n",
    "trY = flatten(trY/255.0)"
   ]
  },
  {
   "cell_type": "markdown",
   "metadata": {},
   "source": [
    "Lets look at the dimension of the images.\n"
   ]
  },
  {
   "cell_type": "markdown",
   "metadata": {},
   "source": [
    "MNIST images have 784 pixels, so the visible layer must have 784 input nodes.  For our case, we'll use 50 nodes in the hidden layer, so i = 50.\n"
   ]
  },
  {
   "cell_type": "code",
   "execution_count": 14,
   "metadata": {},
   "outputs": [],
   "source": [
    "vb = tf.Variable(tf.zeros([784]), tf.float32)\n",
    "hb = tf.Variable(tf.zeros([50]), tf.float32)"
   ]
  },
  {
   "cell_type": "markdown",
   "metadata": {},
   "source": [
    "Let $\\mathbf W$ be the Tensor of 784x50 (784 - number of visible neurons, 50 - number of hidden neurons) that represents weights between the neurons. \n"
   ]
  },
  {
   "cell_type": "code",
   "execution_count": 15,
   "metadata": {},
   "outputs": [],
   "source": [
    "W = tf.Variable(tf.zeros([784,50]), tf.float32)"
   ]
  },
  {
   "cell_type": "markdown",
   "metadata": {},
   "source": [
    "Lets define the visible layer:\n"
   ]
  },
  {
   "cell_type": "code",
   "execution_count": 16,
   "metadata": {},
   "outputs": [
    {
     "data": {
      "text/plain": [
       "<tf.Tensor: shape=(1, 50), dtype=float32, numpy=\n",
       "array([[0., 0., 0., 0., 0., 0., 0., 0., 0., 0., 0., 0., 0., 0., 0., 0.,\n",
       "        0., 0., 0., 0., 0., 0., 0., 0., 0., 0., 0., 0., 0., 0., 0., 0.,\n",
       "        0., 0., 0., 0., 0., 0., 0., 0., 0., 0., 0., 0., 0., 0., 0., 0.,\n",
       "        0., 0.]], dtype=float32)>"
      ]
     },
     "execution_count": 16,
     "metadata": {},
     "output_type": "execute_result"
    }
   ],
   "source": [
    "v0_state = tf.Variable(tf.zeros([784]), tf.float32)\n",
    "\n",
    "#testing to see if the matrix product works\n",
    "tf.matmul( [v0_state], W)"
   ]
  },
  {
   "cell_type": "markdown",
   "metadata": {},
   "source": [
    "Now, we can define hidden layer:\n"
   ]
  },
  {
   "cell_type": "code",
   "execution_count": 17,
   "metadata": {},
   "outputs": [
    {
     "name": "stdout",
     "output_type": "stream",
     "text": [
      "h0_state shape:  tf.Tensor([ 1 50], shape=(2,), dtype=int32)\n",
      "first 15 hidden states:  tf.Tensor([0. 1. 1. 1. 0. 0. 0. 1. 0. 1. 1. 1. 1. 1. 0.], shape=(15,), dtype=float32)\n"
     ]
    }
   ],
   "source": [
    "#computing the hidden nodes probability vector and checking shape\n",
    "h0_prob = tf.nn.sigmoid(tf.matmul([v0_state], W) + hb)  #probabilities of the hidden units\n",
    "print(\"h0_state shape: \" , tf.shape(h0_prob))\n",
    "\n",
    "#defining a function to return only the generated hidden states \n",
    "def hidden_layer(v0_state, W, hb):\n",
    "    h0_prob = tf.nn.sigmoid(tf.matmul([v0_state], W) + hb)  #probabilities of the hidden units\n",
    "    h0_state = tf.nn.relu(tf.sign(h0_prob - tf.random.uniform(tf.shape(h0_prob)))) #sample_h_given_X\n",
    "    return h0_state\n",
    "\n",
    "\n",
    "h0_state = hidden_layer(v0_state, W, hb)\n",
    "print(\"first 15 hidden states: \", h0_state[0][0:15])"
   ]
  },
  {
   "cell_type": "markdown",
   "metadata": {},
   "source": [
    "Now, we define reconstruction part:\n"
   ]
  },
  {
   "cell_type": "code",
   "execution_count": 18,
   "metadata": {},
   "outputs": [
    {
     "name": "stdout",
     "output_type": "stream",
     "text": [
      "hidden state shape:  (1, 50)\n",
      "v0 state shape:   (784,)\n",
      "v1 state shape:   (784,)\n"
     ]
    }
   ],
   "source": [
    "def reconstructed_output(h0_state, W, vb):\n",
    "    v1_prob = tf.nn.sigmoid(tf.matmul(h0_state, tf.transpose(W)) + vb) \n",
    "    v1_state = tf.nn.relu(tf.sign(v1_prob - tf.random.uniform(tf.shape(v1_prob)))) #sample_v_given_h\n",
    "    return v1_state[0]\n",
    "\n",
    "v1_state = reconstructed_output(h0_state, W, vb)\n",
    "print(\"hidden state shape: \", h0_state.shape)\n",
    "print(\"v0 state shape:  \", v0_state.shape)\n",
    "print(\"v1 state shape:  \", v1_state.shape)"
   ]
  },
  {
   "cell_type": "markdown",
   "metadata": {},
   "source": [
    "<h3>What is the objective function?</h3>\n",
    "\n",
    "<b>Goal</b>: Maximize the likelihood of our data being drawn from that distribution\n",
    "\n",
    "<b>Calculate error:</b>  \n",
    "In each epoch, we compute the \"error\" as a sum of the squared difference between step 1 and step n,\n",
    "e.g the error shows the difference between the data and its reconstruction.\n",
    "\n",
    "<b>Note:</b> tf.reduce_mean computes the mean of elements across dimensions of a tensor.\n"
   ]
  },
  {
   "cell_type": "code",
   "execution_count": 19,
   "metadata": {},
   "outputs": [
    {
     "name": "stdout",
     "output_type": "stream",
     "text": [
      "error 0.5127551\n"
     ]
    }
   ],
   "source": [
    "def error(v0_state, v1_state):\n",
    "    return tf.reduce_mean(tf.square(v0_state - v1_state))\n",
    "\n",
    "err = tf.reduce_mean(tf.square(v0_state - v1_state))\n",
    "print(\"error\" , err.numpy())"
   ]
  },
  {
   "cell_type": "markdown",
   "metadata": {},
   "source": [
    "<a id=\"ref4\"></a>\n",
    "\n",
    "<h3>Training the Model</h3>\n",
    "<b>Warning...</b> The following part is math-heavy, but you can skip it if you just want to run the cells in the next section.\n",
    "\n",
    "As mentioned, we want to give a high probability to the input data we train on. So, in order to train an RBM, we have to maximize the product of probabilities assigned to all rows $\\mathbf{v}$ (images) in the training set $\\mathbf{V}$ (a matrix, where each row of it is treated as a visible vector $\\mathbf{v}$)\n",
    "\n",
    "$$\\arg\\max_W\\prod_{\\mathbf{v}\\in\\mathbf{V}_T}p(\\mathbf{v}),$$\n",
    "\n",
    "which is equivalent to maximizing the expectation of the log probability, given as\n",
    "\n",
    "$$\\arg\\max_W\\left[ \\mathbb{E} \\left(\\prod_{\\mathbf v\\in \\mathbf V}\\text{log} \\left(p(\\mathbf v)\\right) \\right) \\right].$$\n",
    "\n",
    "So, we have to update the weights $W_{ij}$  to increase $p(\\mathbf{v})$ for all $\\mathbf{v}$ in our training data during training. So we have to calculate the derivative:\n",
    "\n",
    "$$\\frac{\\partial \\log p(\\mathbf v)}{\\partial W_{ij}}$$\n",
    "\n",
    "This cannot be easily done by typical <b>gradient descent (SGD)</b>, so we can use another approach, which has 2 steps:\n",
    "\n",
    "<ol>\n",
    "    <li>Gibbs Sampling</li>\n",
    "    <li>Contrastive Divergence</li>\n",
    "</ol>    \n",
    "    \n",
    "<h3>Gibbs Sampling</h3>   \n",
    "\n",
    "<h4>Gibbs Sampling Step 1</h4> \n",
    "Given an input vector $\\mathbf{v}$, we are using $p(\\mathbf{h}|\\mathbf{v})$ to predict the hidden values $\\mathbf{h}$. \n",
    "  $$p({h_j}|\\mathbf v)= \\sigma\\left(\\sum_{i=1}^V W_{ij} v_i + h_{bias} \\right)$$\n",
    "The samples are generated from this distribution by generating the uniform random variate vector $\\mathbf{\\xi} \\sim U[0,1]$ of length $H$ and comparing to the computed probabilities as\n",
    "\n",
    "<center>If $\\xi_j>p(h_{j}|\\mathbf{v})$, then $h_j=1$, else $h_j=0$.</center>\n",
    "\n",
    "<h4>Gibbs Sampling Step 2</h4> \n",
    "Then, knowing the hidden values, we use $p(\\mathbf v| \\mathbf h)$ for reconstructing of new input values v. \n",
    "\n",
    "   $$p({v_i}|\\mathbf h)= \\sigma\\left(\\sum_{j=1}^H W^{T}_{ij} h_j + v_{bias} \\right)$$\n",
    "\n",
    "The samples are generated from this distribution by generating a uniform random variate vector $\\mathbf{\\xi} \\sim U[0,1]$ of length $V$ and comparing to the computed probabilities as\n",
    "\n",
    "<center>If $\\xi_i>p(v_{i}|\\mathbf{h})$, then $v_i=1$, else $v_i=0$.</center>\n",
    "\n",
    "Let vectors $\\mathbf v_k$ and $\\mathbf h_k$ be for the $k$th iteration.  In general, the $kth$ state is generrated as: \n",
    "\n",
    "<b>Iteration</b> $k$: \n",
    "\n",
    "$$\\mathbf v_{k-1} \\Rightarrow p(\\mathbf h_{k-1}|\\mathbf v_{k-1})\\Rightarrow \\mathbf h_{k-1}\\Rightarrow p(\\mathbf v_{k}|\\mathbf h_{k-1})\\Rightarrow \\mathbf v_k$$       \n",
    "\n",
    "<h3>Contrastive Divergence (CD-k)</h3>\n",
    "The update of the weight matrix is done during the Contrastive Divergence step. \n",
    "\n",
    "Vectors v0 and vk are used to calculate the activation probabilities for hidden values h0 and hk. The difference between the outer products of those probabilities with input vectors v0 and vk results in the update matrix:\n",
    "\n",
    "$\\Delta \\mathbf W_k =\\mathbf v_k \\otimes \\mathbf h_k - \\mathbf v_{k-1} \\otimes \\mathbf h_{k-1}$ \n",
    "\n",
    "Contrastive Divergence is actually matrix of values that is computed and used to adjust values of the $\\mathbf W$ matrix. Changing $\\mathbf W$ incrementally leads to training of the  $\\mathbf W$ values. Then, on each step (epoch), $\\mathbf W$ is updated using the following:\n",
    "\n",
    "$\\mathbf W_k = \\mathbf W_{k-1} + \\alpha * \\Delta \\mathbf W_k$ \n",
    "\n",
    "Reconstruction steps:\n",
    "\n",
    "<ul>\n",
    "    <li> Get one data point from data set, like <i>x</i>, and pass it through the following steps:</li>\n",
    "    \n",
    "<b>Iteration</b> $k=1$: \n",
    "    \n",
    "Sampling (starting with input image)\n",
    "    $$\\mathbf x = \\mathbf v_0 \\Rightarrow p(\\mathbf h_0|\\mathbf v_0)\\Rightarrow \\mathbf h_0 \\Rightarrow p(\\mathbf v_1|\\mathbf h_0)\\Rightarrow \\mathbf v_1$$   \n",
    "    followed by the CD-k step\n",
    "$$\\Delta \\mathbf W_1 =\\mathbf v_1 \\otimes \\mathbf h_1 - \\mathbf v_{0} \\otimes \\mathbf h_{0}$$     \n",
    "$$\\mathbf W_1 = \\mathbf W_{0} + \\alpha * \\Delta \\mathbf W_1$$ \n",
    " \n",
    "<li> $\\mathbf v_1$ is the reconstruction of $\\mathbf x$ sent to the next iteration).</li>\n",
    "\n",
    "<b>Iteration</b> $k=2$: \n",
    "\n",
    "Sampling (starting with $\\mathbf v_1$)\n",
    "\n",
    "$$\\mathbf v_1 \\Rightarrow p(\\mathbf h_1|\\mathbf v_1)\\Rightarrow \\mathbf h_1\\Rightarrow p(\\mathbf v_2|\\mathbf h_1)\\Rightarrow \\mathbf v_2$$   \n",
    "\n",
    "followed by the CD-k step\n",
    "$$\\Delta \\mathbf W_2 =\\mathbf v_2 \\otimes \\mathbf h_2 - \\mathbf v_{1} \\otimes \\mathbf h_{1}$$  \n",
    "$$\\mathbf W_2 = \\mathbf W_{1} + \\alpha * \\Delta \\mathbf W_2$$ \n",
    "\n",
    "<li> $\\mathbf v_2$ is the reconstruction of $\\mathbf v_1$ sent to the next iteration).</li>    \n",
    "      \n",
    "<b>Iteration</b> $k=K$:\n",
    "    \n",
    "Sampling (starting with $\\mathbf v_{K-1}$)\n",
    "\n",
    "$$\\mathbf v_{K-1} \\Rightarrow p(\\mathbf h_{K-1}|\\mathbf v_{K-1})\\Rightarrow \\mathbf h_{K-1}\\Rightarrow p(\\mathbf v_K|\\mathbf h_{K-1})\\Rightarrow \\mathbf v_K$$   \n",
    "\n",
    "followed by the CD-k step\n",
    "$$\\Delta \\mathbf W_K =\\mathbf v_K \\otimes \\mathbf h_K - \\mathbf v_{K-1} \\otimes \\mathbf h_{K-1}$$  \n",
    "$$\\mathbf W_K = \\mathbf W_{K-1} + \\alpha * \\Delta \\mathbf W_K$$ \n",
    "\n",
    "<b>What is $\\alpha$?</b>  \n",
    "Here, alpha is some small step size, and is also known as the \"learning rate\".\n"
   ]
  },
  {
   "cell_type": "markdown",
   "metadata": {},
   "source": [
    "$K$ is adjustable, and good performance can be achieved with $K=1$, so that we just take one set of sampling steps per image.\n"
   ]
  },
  {
   "cell_type": "code",
   "execution_count": 20,
   "metadata": {},
   "outputs": [],
   "source": [
    "h1_prob = tf.nn.sigmoid(tf.matmul([v1_state], W) + hb)\n",
    "h1_state = tf.nn.relu(tf.sign(h1_prob - tf.random.uniform(tf.shape(h1_prob)))) #sample_h_given_X"
   ]
  },
  {
   "cell_type": "markdown",
   "metadata": {},
   "source": [
    "Lets look at the error of the first run:\n"
   ]
  },
  {
   "cell_type": "code",
   "execution_count": 21,
   "metadata": {},
   "outputs": [
    {
     "name": "stdout",
     "output_type": "stream",
     "text": [
      "error:  tf.Tensor(0.5127551, shape=(), dtype=float32)\n"
     ]
    }
   ],
   "source": [
    "print(\"error: \", error(v0_state, v1_state))"
   ]
  },
  {
   "cell_type": "code",
   "execution_count": 22,
   "metadata": {},
   "outputs": [
    {
     "name": "stdout",
     "output_type": "stream",
     "text": [
      "Epoch: 0 batch #: 1  of 300 sample #: 199 reconstruction error: 0.161447\n",
      "Epoch: 0 batch #: 2  of 300 sample #: 199 reconstruction error: 0.229769\n",
      "Epoch: 0 batch #: 3  of 300 sample #: 199 reconstruction error: 0.105774\n",
      "Epoch: 0 batch #: 4  of 300 sample #: 199 reconstruction error: 0.128147\n",
      "Epoch: 0 batch #: 5  of 300 sample #: 199 reconstruction error: 0.110432\n",
      "Epoch: 0 batch #: 6  of 300 sample #: 199 reconstruction error: 0.195322\n",
      "Epoch: 0 batch #: 7  of 300 sample #: 199 reconstruction error: 0.083482\n",
      "Epoch: 0 batch #: 8  of 300 sample #: 199 reconstruction error: 0.106814\n",
      "Epoch: 0 batch #: 9  of 300 sample #: 199 reconstruction error: 0.085206\n",
      "Epoch: 0 batch #: 10  of 300 sample #: 199 reconstruction error: 0.153527\n",
      "Epoch: 0 batch #: 11  of 300 sample #: 199 reconstruction error: 0.088250\n",
      "Epoch: 0 batch #: 12  of 300 sample #: 199 reconstruction error: 0.135965\n",
      "Epoch: 0 batch #: 13  of 300 sample #: 199 reconstruction error: 0.055205\n",
      "Epoch: 0 batch #: 14  of 300 sample #: 199 reconstruction error: 0.102302\n",
      "Epoch: 0 batch #: 15  of 300 sample #: 199 reconstruction error: 0.122445\n",
      "Epoch: 0 batch #: 16  of 300 sample #: 199 reconstruction error: 0.112759\n",
      "Epoch: 0 batch #: 17  of 300 sample #: 199 reconstruction error: 0.085512\n",
      "Epoch: 0 batch #: 18  of 300 sample #: 199 reconstruction error: 0.113852\n",
      "Epoch: 0 batch #: 19  of 300 sample #: 199 reconstruction error: 0.150350\n",
      "Epoch: 0 batch #: 20  of 300 sample #: 199 reconstruction error: 0.101991\n",
      "Epoch: 0 batch #: 21  of 300 sample #: 199 reconstruction error: 0.077959\n",
      "Epoch: 0 batch #: 22  of 300 sample #: 199 reconstruction error: 0.078214\n",
      "Epoch: 0 batch #: 23  of 300 sample #: 199 reconstruction error: 0.112706\n",
      "Epoch: 0 batch #: 24  of 300 sample #: 199 reconstruction error: 0.144922\n",
      "Epoch: 0 batch #: 25  of 300 sample #: 199 reconstruction error: 0.093697\n",
      "Epoch: 0 batch #: 26  of 300 sample #: 199 reconstruction error: 0.110061\n",
      "Epoch: 0 batch #: 27  of 300 sample #: 199 reconstruction error: 0.111949\n",
      "Epoch: 0 batch #: 28  of 300 sample #: 199 reconstruction error: 0.088372\n",
      "Epoch: 0 batch #: 29  of 300 sample #: 199 reconstruction error: 0.099935\n",
      "Epoch: 0 batch #: 30  of 300 sample #: 199 reconstruction error: 0.063768\n",
      "Epoch: 0 batch #: 31  of 300 sample #: 199 reconstruction error: 0.118669\n",
      "Epoch: 0 batch #: 32  of 300 sample #: 199 reconstruction error: 0.108315\n",
      "Epoch: 0 batch #: 33  of 300 sample #: 199 reconstruction error: 0.064595\n",
      "Epoch: 0 batch #: 34  of 300 sample #: 199 reconstruction error: 0.076126\n",
      "Epoch: 0 batch #: 35  of 300 sample #: 199 reconstruction error: 0.082773\n",
      "Epoch: 0 batch #: 36  of 300 sample #: 199 reconstruction error: 0.081698\n",
      "Epoch: 0 batch #: 37  of 300 sample #: 199 reconstruction error: 0.061878\n",
      "Epoch: 0 batch #: 38  of 300 sample #: 199 reconstruction error: 0.068117\n",
      "Epoch: 0 batch #: 39  of 300 sample #: 199 reconstruction error: 0.084569\n",
      "Epoch: 0 batch #: 40  of 300 sample #: 199 reconstruction error: 0.135058\n",
      "Epoch: 0 batch #: 41  of 300 sample #: 199 reconstruction error: 0.082660\n",
      "Epoch: 0 batch #: 42  of 300 sample #: 199 reconstruction error: 0.070586\n",
      "Epoch: 0 batch #: 43  of 300 sample #: 199 reconstruction error: 0.119701\n",
      "Epoch: 0 batch #: 44  of 300 sample #: 199 reconstruction error: 0.101797\n",
      "Epoch: 0 batch #: 45  of 300 sample #: 199 reconstruction error: 0.074492\n",
      "Epoch: 0 batch #: 46  of 300 sample #: 199 reconstruction error: 0.041775\n",
      "Epoch: 0 batch #: 47  of 300 sample #: 199 reconstruction error: 0.043427\n",
      "Epoch: 0 batch #: 48  of 300 sample #: 199 reconstruction error: 0.028112\n",
      "Epoch: 0 batch #: 49  of 300 sample #: 199 reconstruction error: 0.126739\n",
      "Epoch: 0 batch #: 50  of 300 sample #: 199 reconstruction error: 0.043025\n",
      "Epoch: 0 batch #: 51  of 300 sample #: 199 reconstruction error: 0.069968\n",
      "Epoch: 0 batch #: 52  of 300 sample #: 199 reconstruction error: 0.039572\n",
      "Epoch: 0 batch #: 53  of 300 sample #: 199 reconstruction error: 0.094878\n",
      "Epoch: 0 batch #: 54  of 300 sample #: 199 reconstruction error: 0.060087\n",
      "Epoch: 0 batch #: 55  of 300 sample #: 199 reconstruction error: 0.121804\n",
      "Epoch: 0 batch #: 56  of 300 sample #: 199 reconstruction error: 0.063393\n",
      "Epoch: 0 batch #: 57  of 300 sample #: 199 reconstruction error: 0.042067\n",
      "Epoch: 0 batch #: 58  of 300 sample #: 199 reconstruction error: 0.072511\n",
      "Epoch: 0 batch #: 59  of 300 sample #: 199 reconstruction error: 0.051879\n",
      "Epoch: 0 batch #: 60  of 300 sample #: 199 reconstruction error: 0.082660\n",
      "Epoch: 0 batch #: 61  of 300 sample #: 199 reconstruction error: 0.080002\n",
      "Epoch: 0 batch #: 62  of 300 sample #: 199 reconstruction error: 0.085695\n",
      "Epoch: 0 batch #: 63  of 300 sample #: 199 reconstruction error: 0.050634\n",
      "Epoch: 0 batch #: 64  of 300 sample #: 199 reconstruction error: 0.085717\n",
      "Epoch: 0 batch #: 65  of 300 sample #: 199 reconstruction error: 0.093498\n",
      "Epoch: 0 batch #: 66  of 300 sample #: 199 reconstruction error: 0.055694\n",
      "Epoch: 0 batch #: 67  of 300 sample #: 199 reconstruction error: 0.042942\n",
      "Epoch: 0 batch #: 68  of 300 sample #: 199 reconstruction error: 0.052339\n",
      "Epoch: 0 batch #: 69  of 300 sample #: 199 reconstruction error: 0.086644\n",
      "Epoch: 0 batch #: 70  of 300 sample #: 199 reconstruction error: 0.082698\n",
      "Epoch: 0 batch #: 71  of 300 sample #: 199 reconstruction error: 0.072629\n",
      "Epoch: 0 batch #: 72  of 300 sample #: 199 reconstruction error: 0.072560\n",
      "Epoch: 0 batch #: 73  of 300 sample #: 199 reconstruction error: 0.080276\n",
      "Epoch: 0 batch #: 74  of 300 sample #: 199 reconstruction error: 0.107974\n",
      "Epoch: 0 batch #: 75  of 300 sample #: 199 reconstruction error: 0.052364\n",
      "Epoch: 0 batch #: 76  of 300 sample #: 199 reconstruction error: 0.089025\n",
      "Epoch: 0 batch #: 77  of 300 sample #: 199 reconstruction error: 0.098568\n",
      "Epoch: 0 batch #: 78  of 300 sample #: 199 reconstruction error: 0.113373\n",
      "Epoch: 0 batch #: 79  of 300 sample #: 199 reconstruction error: 0.130971\n",
      "Epoch: 0 batch #: 80  of 300 sample #: 199 reconstruction error: 0.028705\n",
      "Epoch: 0 batch #: 81  of 300 sample #: 199 reconstruction error: 0.073433\n",
      "Epoch: 0 batch #: 82  of 300 sample #: 199 reconstruction error: 0.050609\n",
      "Epoch: 0 batch #: 83  of 300 sample #: 199 reconstruction error: 0.083153\n",
      "Epoch: 0 batch #: 84  of 300 sample #: 199 reconstruction error: 0.078233\n",
      "Epoch: 0 batch #: 85  of 300 sample #: 199 reconstruction error: 0.049124\n",
      "Epoch: 0 batch #: 86  of 300 sample #: 199 reconstruction error: 0.065476\n",
      "Epoch: 0 batch #: 87  of 300 sample #: 199 reconstruction error: 0.084454\n",
      "Epoch: 0 batch #: 88  of 300 sample #: 199 reconstruction error: 0.026341\n",
      "Epoch: 0 batch #: 89  of 300 sample #: 199 reconstruction error: 0.063910\n",
      "Epoch: 0 batch #: 90  of 300 sample #: 199 reconstruction error: 0.076780\n",
      "Epoch: 0 batch #: 91  of 300 sample #: 199 reconstruction error: 0.066928\n",
      "Epoch: 0 batch #: 92  of 300 sample #: 199 reconstruction error: 0.064783\n",
      "Epoch: 0 batch #: 93  of 300 sample #: 199 reconstruction error: 0.106589\n",
      "Epoch: 0 batch #: 94  of 300 sample #: 199 reconstruction error: 0.106692\n",
      "Epoch: 0 batch #: 95  of 300 sample #: 199 reconstruction error: 0.064210\n",
      "Epoch: 0 batch #: 96  of 300 sample #: 199 reconstruction error: 0.057647\n",
      "Epoch: 0 batch #: 97  of 300 sample #: 199 reconstruction error: 0.116990\n",
      "Epoch: 0 batch #: 98  of 300 sample #: 199 reconstruction error: 0.073938\n",
      "Epoch: 0 batch #: 99  of 300 sample #: 199 reconstruction error: 0.066950\n",
      "Epoch: 0 batch #: 100  of 300 sample #: 199 reconstruction error: 0.089020\n",
      "Epoch: 0 batch #: 101  of 300 sample #: 199 reconstruction error: 0.067640\n",
      "Epoch: 0 batch #: 102  of 300 sample #: 199 reconstruction error: 0.072178\n",
      "Epoch: 0 batch #: 103  of 300 sample #: 199 reconstruction error: 0.067425\n",
      "Epoch: 0 batch #: 104  of 300 sample #: 199 reconstruction error: 0.065115\n",
      "Epoch: 0 batch #: 105  of 300 sample #: 199 reconstruction error: 0.056955\n",
      "Epoch: 0 batch #: 106  of 300 sample #: 199 reconstruction error: 0.118362\n",
      "Epoch: 0 batch #: 107  of 300 sample #: 199 reconstruction error: 0.148392\n",
      "Epoch: 0 batch #: 108  of 300 sample #: 199 reconstruction error: 0.066326\n",
      "Epoch: 0 batch #: 109  of 300 sample #: 199 reconstruction error: 0.106834\n",
      "Epoch: 0 batch #: 110  of 300 sample #: 199 reconstruction error: 0.051078\n",
      "Epoch: 0 batch #: 111  of 300 sample #: 199 reconstruction error: 0.126772\n",
      "Epoch: 0 batch #: 112  of 300 sample #: 199 reconstruction error: 0.043097\n",
      "Epoch: 0 batch #: 113  of 300 sample #: 199 reconstruction error: 0.071518\n",
      "Epoch: 0 batch #: 114  of 300 sample #: 199 reconstruction error: 0.066916\n",
      "Epoch: 0 batch #: 115  of 300 sample #: 199 reconstruction error: 0.060301\n",
      "Epoch: 0 batch #: 116  of 300 sample #: 199 reconstruction error: 0.049975\n",
      "Epoch: 0 batch #: 117  of 300 sample #: 199 reconstruction error: 0.041437\n",
      "Epoch: 0 batch #: 118  of 300 sample #: 199 reconstruction error: 0.076472\n",
      "Epoch: 0 batch #: 119  of 300 sample #: 199 reconstruction error: 0.122498\n",
      "Epoch: 0 batch #: 120  of 300 sample #: 199 reconstruction error: 0.072805\n",
      "Epoch: 0 batch #: 121  of 300 sample #: 199 reconstruction error: 0.050881\n",
      "Epoch: 0 batch #: 122  of 300 sample #: 199 reconstruction error: 0.107140\n",
      "Epoch: 0 batch #: 123  of 300 sample #: 199 reconstruction error: 0.059541\n",
      "Epoch: 0 batch #: 124  of 300 sample #: 199 reconstruction error: 0.077185\n",
      "Epoch: 0 batch #: 125  of 300 sample #: 199 reconstruction error: 0.042835\n",
      "Epoch: 0 batch #: 126  of 300 sample #: 199 reconstruction error: 0.087038\n",
      "Epoch: 0 batch #: 127  of 300 sample #: 199 reconstruction error: 0.093461\n",
      "Epoch: 0 batch #: 128  of 300 sample #: 199 reconstruction error: 0.072123\n",
      "Epoch: 0 batch #: 129  of 300 sample #: 199 reconstruction error: 0.058028\n",
      "Epoch: 0 batch #: 130  of 300 sample #: 199 reconstruction error: 0.080016\n",
      "Epoch: 0 batch #: 131  of 300 sample #: 199 reconstruction error: 0.053318\n",
      "Epoch: 0 batch #: 132  of 300 sample #: 199 reconstruction error: 0.052018\n",
      "Epoch: 0 batch #: 133  of 300 sample #: 199 reconstruction error: 0.059106\n",
      "Epoch: 0 batch #: 134  of 300 sample #: 199 reconstruction error: 0.103005\n",
      "Epoch: 0 batch #: 135  of 300 sample #: 199 reconstruction error: 0.095744\n",
      "Epoch: 0 batch #: 136  of 300 sample #: 199 reconstruction error: 0.125804\n",
      "Epoch: 0 batch #: 137  of 300 sample #: 199 reconstruction error: 0.072322\n",
      "Epoch: 0 batch #: 138  of 300 sample #: 199 reconstruction error: 0.073312\n",
      "Epoch: 0 batch #: 139  of 300 sample #: 199 reconstruction error: 0.107404\n",
      "Epoch: 0 batch #: 140  of 300 sample #: 199 reconstruction error: 0.079137\n",
      "Epoch: 0 batch #: 141  of 300 sample #: 199 reconstruction error: 0.082870\n",
      "Epoch: 0 batch #: 142  of 300 sample #: 199 reconstruction error: 0.068549\n",
      "Epoch: 0 batch #: 143  of 300 sample #: 199 reconstruction error: 0.060798\n",
      "Epoch: 0 batch #: 144  of 300 sample #: 199 reconstruction error: 0.060920\n",
      "Epoch: 0 batch #: 145  of 300 sample #: 199 reconstruction error: 0.100549\n",
      "Epoch: 0 batch #: 146  of 300 sample #: 199 reconstruction error: 0.098453\n",
      "Epoch: 0 batch #: 147  of 300 sample #: 199 reconstruction error: 0.074157\n",
      "Epoch: 0 batch #: 148  of 300 sample #: 199 reconstruction error: 0.068967\n",
      "Epoch: 0 batch #: 149  of 300 sample #: 199 reconstruction error: 0.042567\n",
      "Epoch: 0 batch #: 150  of 300 sample #: 199 reconstruction error: 0.041744\n",
      "Epoch: 0 batch #: 151  of 300 sample #: 199 reconstruction error: 0.110583\n",
      "Epoch: 0 batch #: 152  of 300 sample #: 199 reconstruction error: 0.075701\n",
      "Epoch: 0 batch #: 153  of 300 sample #: 199 reconstruction error: 0.063498\n",
      "Epoch: 0 batch #: 154  of 300 sample #: 199 reconstruction error: 0.078869\n",
      "Epoch: 0 batch #: 155  of 300 sample #: 199 reconstruction error: 0.072027\n",
      "Epoch: 0 batch #: 156  of 300 sample #: 199 reconstruction error: 0.065653\n",
      "Epoch: 0 batch #: 157  of 300 sample #: 199 reconstruction error: 0.083915\n",
      "Epoch: 0 batch #: 158  of 300 sample #: 199 reconstruction error: 0.084870\n",
      "Epoch: 0 batch #: 159  of 300 sample #: 199 reconstruction error: 0.068005\n",
      "Epoch: 0 batch #: 160  of 300 sample #: 199 reconstruction error: 0.072924\n",
      "Epoch: 0 batch #: 161  of 300 sample #: 199 reconstruction error: 0.074212\n",
      "Epoch: 0 batch #: 162  of 300 sample #: 199 reconstruction error: 0.114684\n",
      "Epoch: 0 batch #: 163  of 300 sample #: 199 reconstruction error: 0.046370\n",
      "Epoch: 0 batch #: 164  of 300 sample #: 199 reconstruction error: 0.064890\n",
      "Epoch: 0 batch #: 165  of 300 sample #: 199 reconstruction error: 0.100578\n",
      "Epoch: 0 batch #: 166  of 300 sample #: 199 reconstruction error: 0.053763\n",
      "Epoch: 0 batch #: 167  of 300 sample #: 199 reconstruction error: 0.098139\n",
      "Epoch: 0 batch #: 168  of 300 sample #: 199 reconstruction error: 0.062852\n",
      "Epoch: 0 batch #: 169  of 300 sample #: 199 reconstruction error: 0.045104\n",
      "Epoch: 0 batch #: 170  of 300 sample #: 199 reconstruction error: 0.063180\n",
      "Epoch: 0 batch #: 171  of 300 sample #: 199 reconstruction error: 0.029805\n",
      "Epoch: 0 batch #: 172  of 300 sample #: 199 reconstruction error: 0.063992\n",
      "Epoch: 0 batch #: 173  of 300 sample #: 199 reconstruction error: 0.085124\n",
      "Epoch: 0 batch #: 174  of 300 sample #: 199 reconstruction error: 0.094888\n",
      "Epoch: 0 batch #: 175  of 300 sample #: 199 reconstruction error: 0.072798\n",
      "Epoch: 0 batch #: 176  of 300 sample #: 199 reconstruction error: 0.042380\n",
      "Epoch: 0 batch #: 177  of 300 sample #: 199 reconstruction error: 0.040834\n",
      "Epoch: 0 batch #: 178  of 300 sample #: 199 reconstruction error: 0.115164\n",
      "Epoch: 0 batch #: 179  of 300 sample #: 199 reconstruction error: 0.069792\n",
      "Epoch: 0 batch #: 180  of 300 sample #: 199 reconstruction error: 0.091609\n",
      "Epoch: 0 batch #: 181  of 300 sample #: 199 reconstruction error: 0.083223\n",
      "Epoch: 0 batch #: 182  of 300 sample #: 199 reconstruction error: 0.082154\n",
      "Epoch: 0 batch #: 183  of 300 sample #: 199 reconstruction error: 0.104792\n",
      "Epoch: 0 batch #: 184  of 300 sample #: 199 reconstruction error: 0.069030\n",
      "Epoch: 0 batch #: 185  of 300 sample #: 199 reconstruction error: 0.069457\n",
      "Epoch: 0 batch #: 186  of 300 sample #: 199 reconstruction error: 0.103844\n",
      "Epoch: 0 batch #: 187  of 300 sample #: 199 reconstruction error: 0.061920\n",
      "Epoch: 0 batch #: 188  of 300 sample #: 199 reconstruction error: 0.101496\n",
      "Epoch: 0 batch #: 189  of 300 sample #: 199 reconstruction error: 0.080998\n",
      "Epoch: 0 batch #: 190  of 300 sample #: 199 reconstruction error: 0.068450\n",
      "Epoch: 0 batch #: 191  of 300 sample #: 199 reconstruction error: 0.108239\n",
      "Epoch: 0 batch #: 192  of 300 sample #: 199 reconstruction error: 0.126942\n",
      "Epoch: 0 batch #: 193  of 300 sample #: 199 reconstruction error: 0.099782\n",
      "Epoch: 0 batch #: 194  of 300 sample #: 199 reconstruction error: 0.073107\n",
      "Epoch: 0 batch #: 195  of 300 sample #: 199 reconstruction error: 0.043152\n",
      "Epoch: 0 batch #: 196  of 300 sample #: 199 reconstruction error: 0.041681\n",
      "Epoch: 0 batch #: 197  of 300 sample #: 199 reconstruction error: 0.057826\n",
      "Epoch: 0 batch #: 198  of 300 sample #: 199 reconstruction error: 0.086177\n",
      "Epoch: 0 batch #: 199  of 300 sample #: 199 reconstruction error: 0.080219\n",
      "Epoch: 0 batch #: 200  of 300 sample #: 199 reconstruction error: 0.117972\n",
      "Epoch: 0 batch #: 201  of 300 sample #: 199 reconstruction error: 0.085645\n",
      "Epoch: 0 batch #: 202  of 300 sample #: 199 reconstruction error: 0.026843\n",
      "Epoch: 0 batch #: 203  of 300 sample #: 199 reconstruction error: 0.095979\n",
      "Epoch: 0 batch #: 204  of 300 sample #: 199 reconstruction error: 0.046668\n",
      "Epoch: 0 batch #: 205  of 300 sample #: 199 reconstruction error: 0.025917\n",
      "Epoch: 0 batch #: 206  of 300 sample #: 199 reconstruction error: 0.073191\n",
      "Epoch: 0 batch #: 207  of 300 sample #: 199 reconstruction error: 0.084969\n",
      "Epoch: 0 batch #: 208  of 300 sample #: 199 reconstruction error: 0.052214\n",
      "Epoch: 0 batch #: 209  of 300 sample #: 199 reconstruction error: 0.025869\n",
      "Epoch: 0 batch #: 210  of 300 sample #: 199 reconstruction error: 0.101223\n",
      "Epoch: 0 batch #: 211  of 300 sample #: 199 reconstruction error: 0.080269\n",
      "Epoch: 0 batch #: 212  of 300 sample #: 199 reconstruction error: 0.088749\n",
      "Epoch: 0 batch #: 213  of 300 sample #: 199 reconstruction error: 0.085967\n",
      "Epoch: 0 batch #: 214  of 300 sample #: 199 reconstruction error: 0.096471\n",
      "Epoch: 0 batch #: 215  of 300 sample #: 199 reconstruction error: 0.033614\n",
      "Epoch: 0 batch #: 216  of 300 sample #: 199 reconstruction error: 0.088267\n",
      "Epoch: 0 batch #: 217  of 300 sample #: 199 reconstruction error: 0.081341\n",
      "Epoch: 0 batch #: 218  of 300 sample #: 199 reconstruction error: 0.063510\n",
      "Epoch: 0 batch #: 219  of 300 sample #: 199 reconstruction error: 0.073817\n",
      "Epoch: 0 batch #: 220  of 300 sample #: 199 reconstruction error: 0.064233\n",
      "Epoch: 0 batch #: 221  of 300 sample #: 199 reconstruction error: 0.112408\n",
      "Epoch: 0 batch #: 222  of 300 sample #: 199 reconstruction error: 0.096875\n",
      "Epoch: 0 batch #: 223  of 300 sample #: 199 reconstruction error: 0.087049\n",
      "Epoch: 0 batch #: 224  of 300 sample #: 199 reconstruction error: 0.054447\n",
      "Epoch: 0 batch #: 225  of 300 sample #: 199 reconstruction error: 0.079887\n",
      "Epoch: 0 batch #: 226  of 300 sample #: 199 reconstruction error: 0.119799\n",
      "Epoch: 0 batch #: 227  of 300 sample #: 199 reconstruction error: 0.069158\n",
      "Epoch: 0 batch #: 228  of 300 sample #: 199 reconstruction error: 0.067326\n",
      "Epoch: 0 batch #: 229  of 300 sample #: 199 reconstruction error: 0.078391\n",
      "Epoch: 0 batch #: 230  of 300 sample #: 199 reconstruction error: 0.038530\n",
      "Epoch: 0 batch #: 231  of 300 sample #: 199 reconstruction error: 0.027100\n",
      "Epoch: 0 batch #: 232  of 300 sample #: 199 reconstruction error: 0.060995\n",
      "Epoch: 0 batch #: 233  of 300 sample #: 199 reconstruction error: 0.095180\n",
      "Epoch: 0 batch #: 234  of 300 sample #: 199 reconstruction error: 0.072700\n",
      "Epoch: 0 batch #: 235  of 300 sample #: 199 reconstruction error: 0.080939\n",
      "Epoch: 0 batch #: 236  of 300 sample #: 199 reconstruction error: 0.103343\n",
      "Epoch: 0 batch #: 237  of 300 sample #: 199 reconstruction error: 0.077219\n",
      "Epoch: 0 batch #: 238  of 300 sample #: 199 reconstruction error: 0.131287\n",
      "Epoch: 0 batch #: 239  of 300 sample #: 199 reconstruction error: 0.028170\n",
      "Epoch: 0 batch #: 240  of 300 sample #: 199 reconstruction error: 0.099157\n",
      "Epoch: 0 batch #: 241  of 300 sample #: 199 reconstruction error: 0.089063\n",
      "Epoch: 0 batch #: 242  of 300 sample #: 199 reconstruction error: 0.062677\n",
      "Epoch: 0 batch #: 243  of 300 sample #: 199 reconstruction error: 0.082865\n",
      "Epoch: 0 batch #: 244  of 300 sample #: 199 reconstruction error: 0.077377\n",
      "Epoch: 0 batch #: 245  of 300 sample #: 199 reconstruction error: 0.061568\n",
      "Epoch: 0 batch #: 246  of 300 sample #: 199 reconstruction error: 0.083848\n",
      "Epoch: 0 batch #: 247  of 300 sample #: 199 reconstruction error: 0.057765\n",
      "Epoch: 0 batch #: 248  of 300 sample #: 199 reconstruction error: 0.051716\n",
      "Epoch: 0 batch #: 249  of 300 sample #: 199 reconstruction error: 0.034106\n",
      "Epoch: 0 batch #: 250  of 300 sample #: 199 reconstruction error: 0.074436\n",
      "Epoch: 0 batch #: 251  of 300 sample #: 199 reconstruction error: 0.046896\n",
      "Epoch: 0 batch #: 252  of 300 sample #: 199 reconstruction error: 0.066610\n",
      "Epoch: 0 batch #: 253  of 300 sample #: 199 reconstruction error: 0.066144\n",
      "Epoch: 0 batch #: 254  of 300 sample #: 199 reconstruction error: 0.028152\n",
      "Epoch: 0 batch #: 255  of 300 sample #: 199 reconstruction error: 0.050541\n",
      "Epoch: 0 batch #: 256  of 300 sample #: 199 reconstruction error: 0.097883\n",
      "Epoch: 0 batch #: 257  of 300 sample #: 199 reconstruction error: 0.088218\n",
      "Epoch: 0 batch #: 258  of 300 sample #: 199 reconstruction error: 0.066280\n",
      "Epoch: 0 batch #: 259  of 300 sample #: 199 reconstruction error: 0.056061\n",
      "Epoch: 0 batch #: 260  of 300 sample #: 199 reconstruction error: 0.086223\n",
      "Epoch: 0 batch #: 261  of 300 sample #: 199 reconstruction error: 0.038148\n",
      "Epoch: 0 batch #: 262  of 300 sample #: 199 reconstruction error: 0.047275\n",
      "Epoch: 0 batch #: 263  of 300 sample #: 199 reconstruction error: 0.072365\n",
      "Epoch: 0 batch #: 264  of 300 sample #: 199 reconstruction error: 0.065876\n",
      "Epoch: 0 batch #: 265  of 300 sample #: 199 reconstruction error: 0.078847\n",
      "Epoch: 0 batch #: 266  of 300 sample #: 199 reconstruction error: 0.032027\n",
      "Epoch: 0 batch #: 267  of 300 sample #: 199 reconstruction error: 0.059583\n",
      "Epoch: 0 batch #: 268  of 300 sample #: 199 reconstruction error: 0.031628\n",
      "Epoch: 0 batch #: 269  of 300 sample #: 199 reconstruction error: 0.074752\n",
      "Epoch: 0 batch #: 270  of 300 sample #: 199 reconstruction error: 0.096967\n",
      "Epoch: 0 batch #: 271  of 300 sample #: 199 reconstruction error: 0.047789\n",
      "Epoch: 0 batch #: 272  of 300 sample #: 199 reconstruction error: 0.060385\n",
      "Epoch: 0 batch #: 273  of 300 sample #: 199 reconstruction error: 0.058224\n",
      "Epoch: 0 batch #: 274  of 300 sample #: 199 reconstruction error: 0.052311\n",
      "Epoch: 0 batch #: 275  of 300 sample #: 199 reconstruction error: 0.085120\n",
      "Epoch: 0 batch #: 276  of 300 sample #: 199 reconstruction error: 0.062257\n",
      "Epoch: 0 batch #: 277  of 300 sample #: 199 reconstruction error: 0.067392\n",
      "Epoch: 0 batch #: 278  of 300 sample #: 199 reconstruction error: 0.053187\n",
      "Epoch: 0 batch #: 279  of 300 sample #: 199 reconstruction error: 0.048470\n",
      "Epoch: 0 batch #: 280  of 300 sample #: 199 reconstruction error: 0.065974\n",
      "Epoch: 0 batch #: 281  of 300 sample #: 199 reconstruction error: 0.071163\n",
      "Epoch: 0 batch #: 282  of 300 sample #: 199 reconstruction error: 0.087018\n",
      "Epoch: 0 batch #: 283  of 300 sample #: 199 reconstruction error: 0.052539\n",
      "Epoch: 0 batch #: 284  of 300 sample #: 199 reconstruction error: 0.066194\n",
      "Epoch: 0 batch #: 285  of 300 sample #: 199 reconstruction error: 0.060634\n",
      "Epoch: 0 batch #: 286  of 300 sample #: 199 reconstruction error: 0.091532\n",
      "Epoch: 0 batch #: 287  of 300 sample #: 199 reconstruction error: 0.063862\n",
      "Epoch: 0 batch #: 288  of 300 sample #: 199 reconstruction error: 0.024926\n",
      "Epoch: 0 batch #: 289  of 300 sample #: 199 reconstruction error: 0.082791\n",
      "Epoch: 0 batch #: 290  of 300 sample #: 199 reconstruction error: 0.088545\n",
      "Epoch: 0 batch #: 291  of 300 sample #: 199 reconstruction error: 0.095623\n",
      "Epoch: 0 batch #: 292  of 300 sample #: 199 reconstruction error: 0.056907\n",
      "Epoch: 0 batch #: 293  of 300 sample #: 199 reconstruction error: 0.058031\n",
      "Epoch: 0 batch #: 294  of 300 sample #: 199 reconstruction error: 0.096062\n",
      "Epoch: 0 batch #: 295  of 300 sample #: 199 reconstruction error: 0.067159\n",
      "Epoch: 0 batch #: 296  of 300 sample #: 199 reconstruction error: 0.023887\n",
      "Epoch: 0 batch #: 297  of 300 sample #: 199 reconstruction error: 0.109119\n",
      "Epoch: 0 batch #: 298  of 300 sample #: 199 reconstruction error: 0.054343\n",
      "Epoch: 0 batch #: 299  of 300 sample #: 199 reconstruction error: 0.040517\n",
      "Epoch: 0 batch #: 300  of 300 sample #: 199 reconstruction error: 0.082780\n"
     ]
    }
   ],
   "source": [
    "#Parameters\n",
    "alpha = 0.01\n",
    "epochs = 1\n",
    "batchsize = 200\n",
    "weights = []\n",
    "errors = []\n",
    "batch_number = 0\n",
    "K = 1\n",
    "\n",
    "#creating datasets\n",
    "train_ds = \\\n",
    "    tf.data.Dataset.from_tensor_slices((trX, trY)).batch(batchsize)\n",
    "\n",
    "for epoch in range(epochs):\n",
    "    for batch_x, batch_y in train_ds:\n",
    "        batch_number += 1\n",
    "        for i_sample in range(batchsize):           \n",
    "            for k in range(K):\n",
    "                v0_state = batch_x[i_sample]\n",
    "                h0_state = hidden_layer(v0_state, W, hb)\n",
    "                v1_state = reconstructed_output(h0_state, W, vb)\n",
    "                h1_state = hidden_layer(v1_state, W, hb)\n",
    "\n",
    "                delta_W = tf.matmul(tf.transpose([v0_state]), h0_state) - tf.matmul(tf.transpose([v1_state]), h1_state)\n",
    "                W = W + alpha * delta_W\n",
    "\n",
    "                vb = vb + alpha * tf.reduce_mean(v0_state - v1_state, 0)\n",
    "                hb = hb + alpha * tf.reduce_mean(h0_state - h1_state, 0) \n",
    "\n",
    "                v0_state = v1_state\n",
    "\n",
    "            if i_sample == batchsize-1:\n",
    "                err = error(batch_x[i_sample], v1_state)\n",
    "                errors.append(err)\n",
    "                weights.append(W)\n",
    "                print ( 'Epoch: %d' % epoch, \n",
    "                       \"batch #: %i \" % batch_number, \"of %i\" % int(60e3/batchsize), \n",
    "                       \"sample #: %i\" % i_sample,\n",
    "                       'reconstruction error: %f' % err)\n",
    "\n"
   ]
  },
  {
   "cell_type": "markdown",
   "metadata": {},
   "source": [
    "Let's take a look at the errors at the end of each batch:\n"
   ]
  },
  {
   "cell_type": "code",
   "execution_count": 23,
   "metadata": {},
   "outputs": [
    {
     "data": {
      "image/png": "[encoded data removed]",
      "text/plain": [
       "<Figure size 432x288 with 1 Axes>"
      ]
     },
     "metadata": {
      "needs_background": "light"
     },
     "output_type": "display_data"
    }
   ],
   "source": [
    "plt.plot(errors)\n",
    "plt.xlabel(\"Batch Number\")\n",
    "plt.ylabel(\"Error\")\n",
    "plt.show()"
   ]
  },
  {
   "cell_type": "markdown",
   "metadata": {},
   "source": [
    "What is the final weight matrix $W$ after training?\n"
   ]
  },
  {
   "cell_type": "code",
   "execution_count": 24,
   "metadata": {},
   "outputs": [
    {
     "name": "stdout",
     "output_type": "stream",
     "text": [
      "[[-0.13999999 -0.42999986 -0.29999998 ... -0.5299998  -0.3799999\n",
      "  -0.29      ]\n",
      " [-0.20000002 -0.32999995 -0.28       ... -0.5299998  -0.40999988\n",
      "  -0.22000003]\n",
      " [-0.19000001 -0.34999993 -0.29999998 ... -0.4999998  -0.3999999\n",
      "  -0.28      ]\n",
      " ...\n",
      " [-0.18       -0.3899999  -0.32999995 ... -0.5099998  -0.44999984\n",
      "  -0.25000003]\n",
      " [-0.19000001 -0.3899999  -0.30999997 ... -0.5499998  -0.32999995\n",
      "  -0.25000003]\n",
      " [-0.12999998 -0.41999987 -0.24000004 ... -0.4899998  -0.36999992\n",
      "  -0.30999997]]\n"
     ]
    }
   ],
   "source": [
    "print(W.numpy()) # a weight matrix of shape (50,784)"
   ]
  },
  {
   "cell_type": "markdown",
   "metadata": {},
   "source": [
    "<a id=\"ref5\"></a>\n",
    "\n",
    "<h3>Learned features</h3> \n"
   ]
  },
  {
   "cell_type": "markdown",
   "metadata": {},
   "source": [
    "We can take each hidden unit and visualize the connections between that hidden unit and each element in the input vector. In our case, we have 50 hidden units. Lets visualize those.\n"
   ]
  },
  {
   "cell_type": "markdown",
   "metadata": {},
   "source": [
    "Let's plot the current weights:\n",
    "<b>tile_raster_images</b> helps in generating an easy to grasp image from a set of samples or weights. It transforms the <b>uw</b> (with one flattened image per row of size 784), into an array (of size $28\\times28$) in which images are reshaped and laid out like tiles on a floor.\n"
   ]
  },
  {
   "cell_type": "code",
   "execution_count": 25,
   "metadata": {},
   "outputs": [
    {
     "data": {
      "image/png": "[encoded data removed]",
      "text/plain": [
       "<Figure size 1296x1296 with 1 Axes>"
      ]
     },
     "metadata": {
      "needs_background": "light"
     },
     "output_type": "display_data"
    }
   ],
   "source": [
    "tile_raster_images(X=W.numpy().T, img_shape=(28, 28), tile_shape=(5, 10), tile_spacing=(1, 1))\n",
    "import matplotlib.pyplot as plt\n",
    "from PIL import Image\n",
    "%matplotlib inline\n",
    "image = Image.fromarray(tile_raster_images(X=W.numpy().T, img_shape=(28, 28) ,tile_shape=(5, 10), tile_spacing=(1, 1)))\n",
    "### Plot image\n",
    "plt.rcParams['figure.figsize'] = (18.0, 18.0)\n",
    "imgplot = plt.imshow(image)\n",
    "imgplot.set_cmap('gray')  "
   ]
  },
  {
   "cell_type": "markdown",
   "metadata": {},
   "source": [
    "Each tile in the above visualization corresponds to a vector of connections between a hidden unit and visible layer's units. \n"
   ]
  },
  {
   "cell_type": "markdown",
   "metadata": {},
   "source": [
    "Let's look at one of the learned weights corresponding to one of hidden units for example. In this particular square, the gray color represents weight = 0, and the whiter it is, the more positive the weights are (closer to 1). Conversely, the darker pixels are, the more negative the weights. The positive pixels will increase the probability of activation in hidden units (after multiplying by input/visible pixels), and negative pixels will decrease the probability of a unit hidden to be 1 (activated). So, why is this important?  So we can see that this specific square (hidden unit) can detect a feature (e.g. a \"/\" shape) and if it exists in the input.\n"
   ]
  },
  {
   "cell_type": "code",
   "execution_count": 26,
   "metadata": {},
   "outputs": [
    {
     "data": {
      "image/png": "[encoded data removed]",
      "text/plain": [
       "<Figure size 288x288 with 1 Axes>"
      ]
     },
     "metadata": {
      "needs_background": "light"
     },
     "output_type": "display_data"
    }
   ],
   "source": [
    "from PIL import Image\n",
    "image = Image.fromarray(tile_raster_images(X =W.numpy().T[10:11], img_shape=(28, 28),tile_shape=(1, 1), tile_spacing=(1, 1)))\n",
    "### Plot image\n",
    "plt.rcParams['figure.figsize'] = (4.0, 4.0)\n",
    "imgplot = plt.imshow(image)\n",
    "imgplot.set_cmap('gray')  "
   ]
  },
  {
   "cell_type": "markdown",
   "metadata": {},
   "source": [
    "Let's look at the reconstruction of an image now. Imagine that we have a destructed image of figure 3. Lets see if our trained network can fix it:\n",
    "\n",
    "First we plot the image:\n"
   ]
  },
  {
   "cell_type": "code",
   "execution_count": 27,
   "metadata": {},
   "outputs": [
    {
     "name": "stdout",
     "output_type": "stream",
     "text": [
      "--2020-12-26 13:26:24--  https://ibm.box.com/shared/static/vvm1b63uvuxq88vbw9znpwu5ol380mco.jpg\n",
      "Resolving ibm.box.com (ibm.box.com)... 185.235.236.197\n",
      "Connecting to ibm.box.com (ibm.box.com)|185.235.236.197|:443... connected.\n",
      "HTTP request sent, awaiting response... 301 Moved Permanently\n",
      "Location: /public/static/vvm1b63uvuxq88vbw9znpwu5ol380mco.jpg [following]\n",
      "--2020-12-26 13:26:26--  https://ibm.box.com/public/static/vvm1b63uvuxq88vbw9znpwu5ol380mco.jpg\n",
      "Reusing existing connection to ibm.box.com:443.\n",
      "HTTP request sent, awaiting response... 301 Moved Permanently\n",
      "Location: https://ibm.ent.box.com/public/static/vvm1b63uvuxq88vbw9znpwu5ol380mco.jpg [following]\n",
      "--2020-12-26 13:26:26--  https://ibm.ent.box.com/public/static/vvm1b63uvuxq88vbw9znpwu5ol380mco.jpg\n",
      "Resolving ibm.ent.box.com (ibm.ent.box.com)... 103.116.4.201\n",
      "Connecting to ibm.ent.box.com (ibm.ent.box.com)|103.116.4.201|:443... connected.\n",
      "HTTP request sent, awaiting response... 302 Found\n",
      "Location: https://public.boxcloud.com/d/1/b1!tZZL5ZgjrKoLVpkIRxfYIV0uaB1L_b5d8kwyQJels19d251lmOtGC7aY7EFWZgQVyZugg5JGmbtvimoro_M2rS8vVB0rp-9thJ2xEAcveuABZbGlQPOQQGZUH6DX9vhIirb8MSta8BJXjlHnRJk95xYG2v6Owx3jX95TLeYZi2WQ6l-up1CZGaHzwma8sDT0fzkcf9hinFrPHRE-JQMUpJMRqv-Tr0jU0jWh9ihXIoFijvxMIbq6b8gxM5e9mFJcy2nOkY6ywInE7H05QAAQY9MZAuDtU76kzkycRbRTZ91W36IbYlEKmgwTaX_NIdAIlC4IKUSOmK-svDL_CWvBdPmOPXmWeC-nDx3kyXkRfaLuyq4woHT8gtbuFAgP7nYRT0pKWycHBOF8E4SPUVzQZuLvdnTYj8IbL1IrAxelMWzaSEI_WZ5iL--h0V59FurNXLTb4BoMnklv91sZU0LmF_l1e8BD-1vRqfbMLFVURIJXJ_ajQek-GEBSUlk18UACCBvtr7ASCgtTDqCz22S_FslKKaScyDAGaG-dqK1WjXCRBawK3MpISQCW0P3sPZkxhEKMQJrWQXYc5tuU703eUNWBtq9rzhF1HzZ9bpaSjCQfG0aSU6n8lpcLRgFzKDk09uPIgK_Ed2XqJHIH51AC4JGl44ndJ4VYPioNHWoMvlwEULVG7Mxwi1gzMPO_XgeVHWUjvP16G3EZsf4KLcLq1phrSht62ry-uoCtvwKMhFKBprtt9gKtv3gWLHLk6K4MQZds2vyyDMxyiS6iDb8aUqx_6HcpmD9iYbZ0qRaD2DULNKMfuoisAOvVkG71Fq460QZvaIZull_U7AGmKsRgobY8fdrOwvvAHmK5uAOtqFj7kZ2-di8-ToRt18MQf3UEiKytqEb71zpG4dOa36Xk8pfM4tCiGSoIaEwncIl2GH3gL6nLAV7sxdYKqDMG-yptt4jAVfccYTEsyyFqfZzKu929n1r1IBdwPKZxdYLFGm9vHlvNZFegd-0ScK67FoaMJeTde_Myz38uPTCYZJCvEluuID9xUAb39ZU67dg31Lv84FNPzEkz69Iqy8Bh5ZPdWv32nemqOidpbz3yMMQRRPvFtQZwddRlmGgbu0mRFR7rdTVmZDH7bI06GQpDOCtN7gNZtPFUz35CgrSlzECK999LOWuGmb9D3uRtvSTXc4txREKeAQOnejGrdlEXXjvHk0ucuFACW-USaSOYjP9gjSN8U_3I12KTjIiR5f7DgHVvl-CuaZp-RTWcQtfiiqpa1RfLbfUnT3ByS_-GsXE99MlXae6hkq1-GjWgjviCwl8oHRj9NYQkxUmM1GFnbM2Fv5B2ztH7Ppss8OTdc8kQ2k90h7kAcLCOajKHTjZMaLDsuSG_IxMeEsrn0eerokrwEuomRFg3SBekRQENpBEpKKnXhEa5m_dc8HeoHpFMYcF8VxkQFoRKaWlhfrwcfQo./download [following]\n",
      "--2020-12-26 13:26:27--  https://public.boxcloud.com/d/1/b1!tZZL5ZgjrKoLVpkIRxfYIV0uaB1L_b5d8kwyQJels19d251lmOtGC7aY7EFWZgQVyZugg5JGmbtvimoro_M2rS8vVB0rp-9thJ2xEAcveuABZbGlQPOQQGZUH6DX9vhIirb8MSta8BJXjlHnRJk95xYG2v6Owx3jX95TLeYZi2WQ6l-up1CZGaHzwma8sDT0fzkcf9hinFrPHRE-JQMUpJMRqv-Tr0jU0jWh9ihXIoFijvxMIbq6b8gxM5e9mFJcy2nOkY6ywInE7H05QAAQY9MZAuDtU76kzkycRbRTZ91W36IbYlEKmgwTaX_NIdAIlC4IKUSOmK-svDL_CWvBdPmOPXmWeC-nDx3kyXkRfaLuyq4woHT8gtbuFAgP7nYRT0pKWycHBOF8E4SPUVzQZuLvdnTYj8IbL1IrAxelMWzaSEI_WZ5iL--h0V59FurNXLTb4BoMnklv91sZU0LmF_l1e8BD-1vRqfbMLFVURIJXJ_ajQek-GEBSUlk18UACCBvtr7ASCgtTDqCz22S_FslKKaScyDAGaG-dqK1WjXCRBawK3MpISQCW0P3sPZkxhEKMQJrWQXYc5tuU703eUNWBtq9rzhF1HzZ9bpaSjCQfG0aSU6n8lpcLRgFzKDk09uPIgK_Ed2XqJHIH51AC4JGl44ndJ4VYPioNHWoMvlwEULVG7Mxwi1gzMPO_XgeVHWUjvP16G3EZsf4KLcLq1phrSht62ry-uoCtvwKMhFKBprtt9gKtv3gWLHLk6K4MQZds2vyyDMxyiS6iDb8aUqx_6HcpmD9iYbZ0qRaD2DULNKMfuoisAOvVkG71Fq460QZvaIZull_U7AGmKsRgobY8fdrOwvvAHmK5uAOtqFj7kZ2-di8-ToRt18MQf3UEiKytqEb71zpG4dOa36Xk8pfM4tCiGSoIaEwncIl2GH3gL6nLAV7sxdYKqDMG-yptt4jAVfccYTEsyyFqfZzKu929n1r1IBdwPKZxdYLFGm9vHlvNZFegd-0ScK67FoaMJeTde_Myz38uPTCYZJCvEluuID9xUAb39ZU67dg31Lv84FNPzEkz69Iqy8Bh5ZPdWv32nemqOidpbz3yMMQRRPvFtQZwddRlmGgbu0mRFR7rdTVmZDH7bI06GQpDOCtN7gNZtPFUz35CgrSlzECK999LOWuGmb9D3uRtvSTXc4txREKeAQOnejGrdlEXXjvHk0ucuFACW-USaSOYjP9gjSN8U_3I12KTjIiR5f7DgHVvl-CuaZp-RTWcQtfiiqpa1RfLbfUnT3ByS_-GsXE99MlXae6hkq1-GjWgjviCwl8oHRj9NYQkxUmM1GFnbM2Fv5B2ztH7Ppss8OTdc8kQ2k90h7kAcLCOajKHTjZMaLDsuSG_IxMeEsrn0eerokrwEuomRFg3SBekRQENpBEpKKnXhEa5m_dc8HeoHpFMYcF8VxkQFoRKaWlhfrwcfQo./download\n",
      "Resolving public.boxcloud.com (public.boxcloud.com)... 185.235.236.200\n",
      "Connecting to public.boxcloud.com (public.boxcloud.com)|185.235.236.200|:443... connected.\n",
      "HTTP request sent, awaiting response... 200 OK\n",
      "Length: 24383 (24K) [image/jpeg]\n",
      "Saving to: ‘destructed3.jpg’\n",
      "\n",
      "destructed3.jpg     100%[===================>]  23.81K   145KB/s    in 0.2s    \n",
      "\n",
      "2020-12-26 13:26:29 (145 KB/s) - ‘destructed3.jpg’ saved [24383/24383]\n",
      "\n"
     ]
    },
    {
     "data": {
      "image/png": "[encoded data removed]",
      "text/plain": [
       "<PIL.JpegImagePlugin.JpegImageFile image mode=RGB size=181x181 at 0x7F570416EA90>"
      ]
     },
     "execution_count": 27,
     "metadata": {},
     "output_type": "execute_result"
    }
   ],
   "source": [
    "!wget -O destructed3.jpg  https://ibm.box.com/shared/static/vvm1b63uvuxq88vbw9znpwu5ol380mco.jpg\n",
    "img = Image.open('destructed3.jpg')\n",
    "img"
   ]
  },
  {
   "cell_type": "markdown",
   "metadata": {},
   "source": [
    "Now let's pass this image through the neural net:\n"
   ]
  },
  {
   "cell_type": "code",
   "execution_count": 28,
   "metadata": {},
   "outputs": [],
   "source": [
    "# convert the image to a 1d numpy array\n",
    "sample_case = np.array(img.convert('I').resize((28,28))).ravel().reshape((1, -1))/255.0\n",
    "\n",
    "sample_case = tf.cast(sample_case, dtype=tf.float32)"
   ]
  },
  {
   "cell_type": "markdown",
   "metadata": {},
   "source": [
    "Feed the sample case into the network and reconstruct the output:\n"
   ]
  },
  {
   "cell_type": "code",
   "execution_count": 29,
   "metadata": {},
   "outputs": [
    {
     "name": "stdout",
     "output_type": "stream",
     "text": [
      "Probability nodes in hidden layer: tf.Tensor(\n",
      "[[4.68245827e-15 2.50528979e-06 2.90160207e-09 3.29033613e-01\n",
      "  2.83151269e-02 2.06793249e-02 9.99998331e-01 9.99997735e-01\n",
      "  9.99996781e-01 1.00000000e+00 5.35213947e-03 1.83969736e-04\n",
      "  9.91310835e-01 1.00000000e+00 9.99998748e-01 7.09673695e-05\n",
      "  9.99999046e-01 1.59468782e-05 4.23116201e-18 1.11698135e-08\n",
      "  1.23704602e-08 4.92513630e-09 6.37382269e-04 5.78166600e-06\n",
      "  1.00000000e+00 1.02283397e-04 1.94713152e-07 4.23614702e-13\n",
      "  9.10349435e-11 6.72258102e-05 9.99998987e-01 8.20433854e-09\n",
      "  9.84724879e-01 9.99944091e-01 4.41197471e-06 1.03056729e-02\n",
      "  2.07656622e-03 9.78681349e-16 6.20720281e-11 7.40435005e-11\n",
      "  8.53519833e-09 7.72270560e-01 6.03311880e-15 1.56818934e-13\n",
      "  9.99409258e-01 8.50218594e-01 2.46638298e-01 1.00000000e+00\n",
      "  9.99731243e-01 2.35657765e-07]], shape=(1, 50), dtype=float32)\n",
      "activated nodes in hidden layer: tf.Tensor(\n",
      "[[0. 0. 0. 0. 0. 0. 1. 1. 1. 1. 0. 0. 1. 1. 1. 0. 1. 0. 0. 0. 0. 0. 0. 0.\n",
      "  1. 0. 0. 0. 0. 0. 1. 0. 1. 1. 0. 0. 0. 0. 0. 0. 0. 1. 0. 0. 1. 1. 0. 1.\n",
      "  1. 0.]], shape=(1, 50), dtype=float32)\n",
      "tf.Tensor(\n",
      "[[3.83883715e-04 4.88013029e-04 4.50462103e-04 3.40551138e-04\n",
      "  3.54409218e-04 5.12957573e-04 6.20305538e-04 4.92870808e-04\n",
      "  4.55051661e-04 6.32822514e-04 6.52045012e-04 4.46021557e-04\n",
      "  5.78671694e-04 6.70284033e-04 4.40537930e-04 4.70191240e-04\n",
      "  6.20305538e-04 3.99619341e-04 6.01977110e-04 4.78357077e-04\n",
      "  5.28573990e-04 3.50892544e-04 8.53955746e-04 4.20004129e-04\n",
      "  6.14106655e-04 4.64230776e-04 3.11225653e-04 5.44726849e-04\n",
      "  3.65227461e-04 4.55021858e-04 4.50551510e-04 8.53955746e-04\n",
      "  5.25325537e-04 5.85317612e-04 4.65720892e-04 4.60952520e-04\n",
      "  3.83585691e-04 4.18186188e-04 8.66949558e-04 6.28352165e-04\n",
      "  4.78297472e-04 5.54174185e-04 6.23911619e-04 6.83009624e-04\n",
      "  9.29236412e-04 1.07079744e-03 1.04328990e-03 8.01056623e-04\n",
      "  6.65605068e-04 5.80608845e-04 3.71754169e-04 5.08964062e-04\n",
      "  5.44726849e-04 5.95986843e-04 3.91751528e-04 2.44826078e-04\n",
      "  4.55051661e-04 4.83185053e-04 5.16891479e-04 5.28007746e-04\n",
      "  5.02049923e-04 5.75959682e-04 4.73767519e-04 5.40256500e-04\n",
      "  3.81052494e-04 2.06261873e-04 1.61796808e-04 9.45062347e-05\n",
      "  7.88208708e-05 1.55061483e-04 3.37898731e-04 6.40839338e-04\n",
      "  2.24590302e-04 2.50726938e-04 3.02106142e-04 2.27808952e-04\n",
      "  2.70962715e-04 5.09440899e-04 9.36865807e-04 7.57992268e-04\n",
      "  6.35653734e-04 4.83840704e-04 4.46021557e-04 5.84185123e-04\n",
      "  5.33938408e-04 5.50210476e-04 8.27699900e-04 6.64114952e-04\n",
      "  3.63171101e-04 8.88019800e-04 9.53376293e-04 2.42769718e-04\n",
      "  1.97499990e-04 6.88089276e-05 6.70535665e-05 7.99420231e-05\n",
      "  1.20386961e-04 4.31329012e-04 6.93917274e-04 3.01665068e-03\n",
      "  5.52552938e-03 6.92453980e-03 8.52748752e-03 6.22755289e-03\n",
      "  1.83492899e-03 1.51923299e-03 9.26196575e-04 1.04606152e-03\n",
      "  6.82145357e-04 7.11292028e-04 4.46408987e-04 6.14106655e-04\n",
      "  3.80069017e-04 4.67211008e-04 6.44654036e-04 4.68462706e-04\n",
      "  7.03096390e-04 8.50349665e-04 4.77135181e-04 2.67744064e-04\n",
      "  1.45614147e-04 1.13335904e-04 1.00670273e-04 1.73151493e-04\n",
      "  1.03390217e-03 4.32732701e-03 1.52619183e-02 4.93319631e-02\n",
      "  1.27773017e-01 2.03322381e-01 4.99620438e-02 2.30017900e-02\n",
      "  5.20497561e-03 6.30477071e-03 1.76961720e-02 1.51612461e-02\n",
      "  5.66712022e-03 1.54587626e-03 7.72386789e-04 6.69062138e-04\n",
      "  3.91632318e-04 6.07997179e-04 5.81562519e-04 7.83860683e-04\n",
      "  1.08444691e-03 6.45309687e-04 4.05162573e-04 2.63929367e-04\n",
      "  3.48478556e-04 2.27630138e-04 7.71850348e-04 4.86779213e-03\n",
      "  4.12036180e-02 3.38413715e-01 6.11738265e-01 8.20883036e-01\n",
      "  9.24237370e-01 9.32318926e-01 7.36057997e-01 5.82466304e-01\n",
      "  2.23641336e-01 9.57865417e-02 6.75188899e-02 4.26041484e-02\n",
      "  2.37557590e-02 2.72819400e-03 1.23146176e-03 5.92559576e-04\n",
      "  4.55051661e-04 5.05775213e-04 6.36160374e-04 1.62714720e-03\n",
      "  2.29322910e-03 3.10960412e-03 1.46833062e-03 1.15832686e-03\n",
      "  1.36369467e-03 4.65229154e-03 2.89121568e-02 2.44738966e-01\n",
      "  9.00670886e-01 8.85549188e-01 9.00927544e-01 9.75527644e-01\n",
      "  9.54699457e-01 9.05032337e-01 8.78889561e-01 8.24796498e-01\n",
      "  5.22436380e-01 2.76775002e-01 1.72118038e-01 7.71266818e-02\n",
      "  2.03701854e-02 7.70601630e-03 2.29111314e-03 8.17567110e-04\n",
      "  4.37676907e-04 7.74621964e-04 1.00058317e-03 1.92981958e-03\n",
      "  6.58774376e-03 9.19073820e-03 1.02191269e-02 3.74576449e-03\n",
      "  8.80095363e-03 4.37155664e-02 3.26485336e-01 8.07852447e-01\n",
      "  9.69311237e-01 9.62797284e-01 9.45720255e-01 9.37571168e-01\n",
      "  7.70622730e-01 6.08133912e-01 5.54640889e-01 7.99714684e-01\n",
      "  8.04455519e-01 5.91441929e-01 3.74743640e-01 6.69061542e-02\n",
      "  1.78331435e-02 4.61715460e-03 2.16367841e-03 5.29766083e-04\n",
      "  5.20944595e-04 6.19977713e-04 1.15326047e-03 3.76382470e-03\n",
      "  4.86409664e-03 1.16113424e-02 8.69905949e-03 8.72126222e-03\n",
      "  2.04892159e-02 2.12267250e-01 7.67823815e-01 9.44165587e-01\n",
      "  9.59646583e-01 8.44828904e-01 7.43712366e-01 4.14650261e-01\n",
      "  1.70780629e-01 1.27648205e-01 8.00829232e-02 6.04665875e-01\n",
      "  9.23977733e-01 8.81974936e-01 6.53328776e-01 1.04760736e-01\n",
      "  1.68022811e-02 1.12938881e-03 1.60175562e-03 8.22842121e-04\n",
      "  4.70995903e-04 7.75098801e-04 9.55492258e-04 1.83197856e-03\n",
      "  6.86746836e-03 8.21724534e-03 5.32492995e-03 1.45780444e-02\n",
      "  4.15225625e-02 2.08625704e-01 6.67360544e-01 8.45799327e-01\n",
      "  5.12094796e-01 2.52330780e-01 6.81315660e-02 4.74968851e-02\n",
      "  2.88734138e-02 5.66326380e-02 7.12466538e-02 6.34665668e-01\n",
      "  9.33699727e-01 8.40295196e-01 4.04168487e-01 3.39888334e-02\n",
      "  3.93041968e-03 2.48545408e-03 9.86337662e-04 4.22716141e-04\n",
      "  3.99827957e-04 6.25252724e-04 1.65584683e-03 1.66851282e-03\n",
      "  4.11784649e-03 7.34245777e-03 6.55046105e-03 4.58592176e-03\n",
      "  1.10120177e-02 8.26276541e-02 2.64081299e-01 1.81577206e-01\n",
      "  3.95779610e-02 3.73131335e-02 3.50142717e-02 2.98667550e-02\n",
      "  9.50268209e-02 1.39697134e-01 4.07389879e-01 7.20240712e-01\n",
      "  8.22497845e-01 7.25459456e-01 1.09694034e-01 1.56477690e-02\n",
      "  1.75109506e-03 1.62014365e-03 7.70479441e-04 5.36501408e-04\n",
      "  3.65614891e-04 9.79453325e-04 1.45363808e-03 1.31344795e-03\n",
      "  3.14170122e-03 3.91399860e-03 3.80727649e-03 4.52691317e-03\n",
      "  4.63655591e-03 8.36437941e-03 3.87536585e-02 2.45887339e-02\n",
      "  1.31986439e-02 6.94880784e-02 7.83585310e-02 2.82177866e-01\n",
      "  3.49279255e-01 4.68848795e-01 6.54122949e-01 7.47962594e-01\n",
      "  8.01186204e-01 1.55807942e-01 1.71776414e-02 4.46647406e-03\n",
      "  1.62684917e-03 1.16792321e-03 7.02798367e-04 5.95539808e-04\n",
      "  6.11126423e-04 5.16861677e-04 1.44317746e-03 9.74535942e-04\n",
      "  1.53681636e-03 6.04560971e-03 5.17383218e-03 1.69283152e-03\n",
      "  1.93694234e-03 5.47486544e-03 1.85223520e-02 3.15242708e-02\n",
      "  1.64591372e-01 4.38984811e-01 4.29268777e-01 7.21684396e-01\n",
      "  6.62860155e-01 5.50537109e-01 7.51985312e-01 7.37553835e-01\n",
      "  2.17403859e-01 1.62970722e-02 3.95944715e-03 8.25107098e-04\n",
      "  4.45306301e-04 7.53402710e-04 5.64664602e-04 6.47217035e-04\n",
      "  4.48286533e-04 5.39451838e-04 7.58111477e-04 9.41514969e-04\n",
      "  1.70001388e-03 6.27169013e-03 7.90300965e-03 1.27619505e-03\n",
      "  1.02421641e-03 4.74274158e-03 2.39366591e-02 1.84063047e-01\n",
      "  4.37997818e-01 8.22055936e-01 8.91470134e-01 7.50357985e-01\n",
      "  8.17875862e-01 8.01312327e-01 7.93785214e-01 4.31192398e-01\n",
      "  3.89445424e-02 4.18242812e-03 1.34295225e-03 7.33762980e-04\n",
      "  4.36633825e-04 5.32329082e-04 5.50985336e-04 4.05967236e-04\n",
      "  5.57482243e-04 6.99102879e-04 9.03159380e-04 9.21338797e-04\n",
      "  2.50321627e-03 1.28655434e-02 4.88337874e-03 1.51190162e-03\n",
      "  1.90737844e-03 5.40700555e-03 4.80780005e-02 3.73607874e-01\n",
      "  6.09346271e-01 7.58000255e-01 8.12463522e-01 7.99095750e-01\n",
      "  8.04510236e-01 9.02795732e-01 6.81044579e-01 1.59109145e-01\n",
      "  1.14775300e-02 2.53155828e-03 1.21363997e-03 7.04318285e-04\n",
      "  1.60515308e-04 2.59846449e-04 8.58962536e-04 5.84751368e-04\n",
      "  5.07980585e-04 4.35739756e-04 7.80671835e-04 2.31122971e-03\n",
      "  1.15131140e-02 7.78409839e-03 1.03419423e-02 1.50945783e-03\n",
      "  2.43395567e-03 3.70797515e-03 5.69196641e-02 7.49630630e-02\n",
      "  1.94594353e-01 3.89389545e-01 3.25693697e-01 4.30974841e-01\n",
      "  4.92704481e-01 7.68589258e-01 5.73975861e-01 6.64888322e-02\n",
      "  6.48778677e-03 1.27223134e-03 1.21685863e-03 7.86393881e-04\n",
      "  3.14593315e-04 1.65879726e-04 5.14954329e-04 6.07460737e-04\n",
      "  4.62204218e-04 4.82678413e-04 1.05521083e-03 4.78699803e-03\n",
      "  1.52179599e-02 2.06218064e-02 1.97112858e-02 6.23199344e-03\n",
      "  3.04648280e-03 4.22817469e-03 1.40469372e-02 1.08149648e-02\n",
      "  7.03634024e-02 9.86430943e-02 1.00230515e-01 2.30373412e-01\n",
      "  6.45596266e-01 6.43964231e-01 3.28657866e-01 2.82111466e-02\n",
      "  4.21726704e-03 2.99981236e-03 2.72500515e-03 8.88794661e-04\n",
      "  3.76164913e-04 2.15798616e-04 5.02169132e-04 7.27444887e-04\n",
      "  5.66959381e-04 5.81622124e-04 1.83725357e-03 1.41598582e-02\n",
      "  4.10798192e-02 5.37047684e-02 4.03109193e-02 2.16549337e-02\n",
      "  6.58181310e-03 3.55195999e-03 4.25788760e-03 1.33080184e-02\n",
      "  5.09920716e-02 3.44372094e-02 5.66093624e-02 6.67120516e-02\n",
      "  4.01346475e-01 4.89325941e-01 2.28706479e-01 3.21744978e-02\n",
      "  9.59825516e-03 7.46998191e-03 5.00455499e-03 1.61352754e-03\n",
      "  5.01304865e-04 3.97145748e-04 8.56399536e-04 5.25057316e-04\n",
      "  5.66244125e-04 7.21156597e-04 3.86431813e-03 4.39271331e-02\n",
      "  1.34604454e-01 2.20690846e-01 2.30108202e-01 5.93757331e-02\n",
      "  1.17140710e-02 4.81626391e-03 6.64117932e-03 1.50852501e-02\n",
      "  1.82193816e-02 2.64727175e-02 1.72851384e-02 8.96396041e-02\n",
      "  4.98423636e-01 5.77263057e-01 2.50875950e-01 2.79549360e-02\n",
      "  7.78463483e-03 1.21485293e-02 4.80118394e-03 1.78417563e-03\n",
      "  6.44564629e-04 5.01662493e-04 7.04765320e-04 4.61399555e-04\n",
      "  3.67581844e-04 6.54101372e-04 6.50760531e-03 9.50231254e-02\n",
      "  2.96131194e-01 6.31312728e-01 4.85075116e-01 1.24484688e-01\n",
      "  8.05234015e-02 1.71822906e-02 2.10692585e-02 1.81149244e-02\n",
      "  1.28754973e-02 7.68792629e-03 1.67122185e-02 1.87736928e-01\n",
      "  6.82084620e-01 6.15297139e-01 1.75910741e-01 2.02690065e-02\n",
      "  4.78050113e-03 2.65404582e-03 2.18981504e-03 1.85358524e-03\n",
      "  1.01399422e-03 9.43303108e-04 5.97625971e-04 3.13669443e-04\n",
      "  6.78688288e-04 6.59704208e-04 9.71296430e-03 2.22961158e-01\n",
      "  4.54590201e-01 7.69593477e-01 6.20397329e-01 4.64754522e-01\n",
      "  2.01913774e-01 1.00286305e-01 4.34574783e-02 2.67029405e-02\n",
      "  3.08215320e-02 2.68105567e-02 3.28603387e-02 4.10404384e-01\n",
      "  9.08855140e-01 8.12195599e-01 8.49809349e-02 6.09132648e-03\n",
      "  1.52185559e-03 1.41432881e-03 1.01047754e-03 1.06257200e-03\n",
      "  1.00001693e-03 9.13351774e-04 7.27772713e-04 6.71654940e-04\n",
      "  3.81499529e-04 5.22762537e-04 5.73557615e-03 2.96384901e-01\n",
      "  4.97340381e-01 7.85639524e-01 8.22012842e-01 6.71630323e-01\n",
      "  4.89767641e-01 1.13141924e-01 9.32582915e-02 9.20230448e-02\n",
      "  1.04496777e-01 1.54761821e-01 2.48966724e-01 8.53695929e-01\n",
      "  9.26164210e-01 5.11684716e-01 4.08232510e-02 1.94546580e-03\n",
      "  8.91059637e-04 1.79973245e-03 1.69256330e-03 9.55998898e-04\n",
      "  5.92291355e-04 1.43316388e-03 6.19918108e-04 6.33269548e-04\n",
      "  4.43071127e-04 6.04718924e-04 4.30631638e-03 8.38942826e-02\n",
      "  2.79552788e-01 4.11980808e-01 6.92326427e-01 6.69793487e-01\n",
      "  5.75123310e-01 3.74274164e-01 3.48622978e-01 5.80163121e-01\n",
      "  6.30863190e-01 6.01709366e-01 8.24120998e-01 9.36133087e-01\n",
      "  8.64665806e-01 1.51471436e-01 1.26143396e-02 1.22129917e-03\n",
      "  9.63389874e-04 7.25656748e-04 1.45438313e-03 1.54265761e-03\n",
      "  9.19818878e-04 7.57783651e-04 5.42670488e-04 6.58482313e-04\n",
      "  4.37170267e-04 7.27832317e-04 1.74897909e-03 1.26305521e-02\n",
      "  1.60883844e-01 3.74126911e-01 4.60474163e-01 6.06075704e-01\n",
      "  6.09553039e-01 6.07107341e-01 8.43165636e-01 8.52925777e-01\n",
      "  8.53801727e-01 6.77795529e-01 7.65801430e-01 7.42150068e-01\n",
      "  4.52290386e-01 5.98874390e-02 4.63137031e-03 6.77585602e-04\n",
      "  6.24895096e-04 7.52508640e-04 4.86731529e-04 9.00715590e-04\n",
      "  1.69795752e-03 1.10104680e-03 4.69952822e-04 4.92870808e-04\n",
      "  6.07997179e-04 4.83155251e-04 9.84281301e-04 2.30270624e-03\n",
      "  1.40247643e-02 1.16187394e-01 3.68741810e-01 4.36673522e-01\n",
      "  6.23166561e-01 6.97964847e-01 8.64424109e-01 7.06417143e-01\n",
      "  4.08739388e-01 3.92210722e-01 2.62324631e-01 2.34941155e-01\n",
      "  4.72841561e-02 5.35616279e-03 7.59065151e-04 3.74883413e-04\n",
      "  3.02374363e-04 2.25007534e-04 5.50776720e-04 4.70340252e-04\n",
      "  4.49746847e-04 5.70535660e-04 5.13821840e-04 3.68893147e-04\n",
      "  3.91632318e-04 3.72529030e-04 2.94625759e-04 6.62386417e-04\n",
      "  2.40013003e-03 5.06645441e-03 9.98994708e-03 2.32318342e-02\n",
      "  4.25231755e-02 1.87580884e-02 2.01513469e-02 2.31845379e-02\n",
      "  1.37456954e-02 7.36814737e-03 2.15278268e-02 9.11778212e-03\n",
      "  7.58582354e-03 1.26895308e-03 4.96715307e-04 3.32176685e-04\n",
      "  2.17288733e-04 2.53528357e-04 4.67389822e-04 7.25775957e-04\n",
      "  5.15639782e-04 4.93198633e-04 4.31358814e-04 5.33938408e-04\n",
      "  4.83155251e-04 4.83155251e-04 6.39140606e-04 5.27560711e-04\n",
      "  7.63773918e-04 1.88070536e-03 4.12961841e-03 2.50101089e-03\n",
      "  1.21140480e-03 2.29260325e-03 1.73979998e-03 1.13517046e-03\n",
      "  1.54209137e-03 1.96877122e-03 2.18200684e-03 2.50923634e-03\n",
      "  1.26034021e-03 7.63922930e-04 4.80353832e-04 4.32431698e-04\n",
      "  6.19828701e-04 4.68879938e-04 4.50551510e-04 5.91903925e-04\n",
      "  2.86012888e-04 4.89592552e-04 4.64230776e-04 4.87953424e-04\n",
      "  5.55664301e-04 4.59611416e-04 5.07950783e-04 5.55664301e-04\n",
      "  2.90513039e-04 7.62015581e-04 5.50895929e-04 1.32843852e-03\n",
      "  1.37466192e-03 1.87209249e-03 2.89443135e-03 2.09480524e-03\n",
      "  1.51294470e-03 1.30638480e-03 9.43899155e-04 1.62747502e-03\n",
      "  9.03040171e-04 1.42088532e-03 1.09958649e-03 5.77002764e-04\n",
      "  4.82022762e-04 5.04195690e-04 3.75449657e-04 5.82188368e-04\n",
      "  6.01977110e-04 6.45607710e-04 4.07695770e-04 5.44756651e-04]], shape=(1, 784), dtype=float32)\n"
     ]
    }
   ],
   "source": [
    "hh0_p = tf.nn.sigmoid(tf.matmul(sample_case, W) + hb)\n",
    "hh0_s = tf.round(hh0_p)\n",
    "\n",
    "print(\"Probability nodes in hidden layer:\" ,hh0_p)\n",
    "print(\"activated nodes in hidden layer:\" ,hh0_s)\n",
    "\n",
    "# reconstruct\n",
    "vv1_p = tf.nn.sigmoid(tf.matmul(hh0_s, tf.transpose(W)) + vb)\n",
    "\n",
    "print(vv1_p)\n",
    "#rec_prob = sess.run(vv1_p, feed_dict={ hh0_s: hh0_s_val, W: prv_w, vb: prv_vb})"
   ]
  },
  {
   "cell_type": "markdown",
   "metadata": {},
   "source": [
    "Here we plot the reconstructed image:\n"
   ]
  },
  {
   "cell_type": "code",
   "execution_count": 30,
   "metadata": {},
   "outputs": [
    {
     "data": {
      "image/png": "[encoded data removed]",
      "text/plain": [
       "<Figure size 288x288 with 1 Axes>"
      ]
     },
     "metadata": {
      "needs_background": "light"
     },
     "output_type": "display_data"
    }
   ],
   "source": [
    "img = Image.fromarray(tile_raster_images(X=vv1_p.numpy(), img_shape=(28, 28),tile_shape=(1, 1), tile_spacing=(1, 1)))\n",
    "plt.rcParams['figure.figsize'] = (4.0, 4.0)\n",
    "imgplot = plt.imshow(img)\n",
    "imgplot.set_cmap('gray') "
   ]
  },
  {
   "cell_type": "markdown",
   "metadata": {},
   "source": [
    "<hr>\n",
    "\n",
    "## Want to learn more?\n",
    "\n",
    "Running deep learning programs usually needs a high performance platform. **PowerAI** speeds up deep learning and AI. Built on IBM’s Power Systems, **PowerAI** is a scalable software platform that accelerates deep learning and AI with blazing performance for individual users or enterprises. The **PowerAI** platform supports popular machine learning libraries and dependencies including TensorFlow, Caffe, Torch, and Theano. You can use [PowerAI on IMB Cloud](https://cocl.us/ML0120EN_PAI).\n",
    "\n",
    "Also, you can use **Watson Studio** to run these notebooks faster with bigger datasets.**Watson Studio** is IBM’s leading cloud solution for data scientists, built by data scientists. With Jupyter notebooks, RStudio, Apache Spark and popular libraries pre-packaged in the cloud, **Watson Studio** enables data scientists to collaborate on their projects without having to install anything. Join the fast-growing community of **Watson Studio** users today with a free account at [Watson Studio](https://cocl.us/ML0120EN_DSX).This is the end of this lesson. Thank you for reading this notebook, and good luck on your studies.\n"
   ]
  },
  {
   "cell_type": "markdown",
   "metadata": {},
   "source": [
    "### Thanks for completing this lesson!\n",
    "\n",
    "Notebook created by: <a href = \"https://ca.linkedin.com/in/saeedaghabozorgi\">Saeed Aghabozorgi</a>\n",
    "\n",
    "Updated to TF 2.X by  <a href=\"https://ca.linkedin.com/in/nilmeier\"> Jerome Nilmeier</a><br />\n"
   ]
  },
  {
   "cell_type": "markdown",
   "metadata": {},
   "source": [
    "### References:\n",
    "\n",
    "[https://en.wikipedia.org/wiki/Restricted_Boltzmann_machine](https://en.wikipedia.org/wiki/Restricted_Boltzmann_machine?cm_mmc=Email_Newsletter-_-Developer_Ed%2BTech-_-WW_WW-_-SkillsNetwork-Courses-IBMDeveloperSkillsNetwork-DL0120EN-SkillsNetwork-20629446&cm_mmca1=000026UJ&cm_mmca2=10006555&cm_mmca3=M12345678&cvosrc=email.Newsletter.M12345678&cvo_campaign=000026UJ)  \n",
    "[http://deeplearning.net/tutorial/rbm.html](http://deeplearning.net/tutorial/rbm.html?cm_mmc=Email_Newsletter-_-Developer_Ed%2BTech-_-WW_WW-_-SkillsNetwork-Courses-IBMDeveloperSkillsNetwork-DL0120EN-SkillsNetwork-20629446&cm_mmca1=000026UJ&cm_mmca2=10006555&cm_mmca3=M12345678&cvosrc=email.Newsletter.M12345678&cvo_campaign=000026UJ&cm_mmc=Email_Newsletter-_-Developer_Ed%2BTech-_-WW_WW-_-SkillsNetwork-Courses-IBMDeveloperSkillsNetwork-DL0120EN-SkillsNetwork-20629446&cm_mmca1=000026UJ&cm_mmca2=10006555&cm_mmca3=M12345678&cvosrc=email.Newsletter.M12345678&cvo_campaign=000026UJ)  \n",
    "[http://www.cs.utoronto.ca/~hinton/absps/netflixICML.pdf](http://www.cs.utoronto.ca/~hinton/absps/netflixICML.pdf?cm_mmc=Email_Newsletter-_-Developer_Ed%2BTech-_-WW_WW-_-SkillsNetwork-Courses-IBMDeveloperSkillsNetwork-DL0120EN-SkillsNetwork-20629446&cm_mmca1=000026UJ&cm_mmca2=10006555&cm_mmca3=M12345678&cvosrc=email.Newsletter.M12345678&cvo_campaign=000026UJ&cm_mmc=Email_Newsletter-_-Developer_Ed%2BTech-_-WW_WW-_-SkillsNetwork-Courses-IBMDeveloperSkillsNetwork-DL0120EN-SkillsNetwork-20629446&cm_mmca1=000026UJ&cm_mmca2=10006555&cm_mmca3=M12345678&cvosrc=email.Newsletter.M12345678&cvo_campaign=000026UJ)<br>\n",
    "<http://imonad.com/rbm/restricted-boltzmann-machine/>  \n"
   ]
  },
  {
   "cell_type": "markdown",
   "metadata": {},
   "source": [
    "<hr>\n",
    "\n",
    "Copyright © 2018 [Cognitive Class](https://cocl.us/DX0108EN_CC). This notebook and its source code are released under the terms of the [MIT License](https://bigdatauniversity.com/mit-license?cm_mmc=Email_Newsletter-_-Developer_Ed%2BTech-_-WW_WW-_-SkillsNetwork-Courses-IBMDeveloperSkillsNetwork-DL0120EN-SkillsNetwork-20629446&cm_mmca1=000026UJ&cm_mmca2=10006555&cm_mmca3=M12345678&cvosrc=email.Newsletter.M12345678&cvo_campaign=000026UJ&cm_mmc=Email_Newsletter-_-Developer_Ed%2BTech-_-WW_WW-_-SkillsNetwork-Courses-IBMDeveloperSkillsNetwork-DL0120EN-SkillsNetwork-20629446&cm_mmca1=000026UJ&cm_mmca2=10006555&cm_mmca3=M12345678&cvosrc=email.Newsletter.M12345678&cvo_campaign=000026UJ).\n"
   ]
  }
 ],
 "metadata": {
  "kernelspec": {
   "display_name": "Python 3",
   "language": "python",
   "name": "python3"
  },
  "language_info": {
   "codemirror_mode": {
    "name": "ipython",
    "version": 3
   },
   "file_extension": ".py",
   "mimetype": "text/x-python",
   "name": "python",
   "nbconvert_exporter": "python",
   "pygments_lexer": "ipython3",
   "version": "3.7.6"
  },
  "widgets": {
   "state": {},
   "version": "1.1.2"
  }
 },
 "nbformat": 4,
 "nbformat_minor": 4
}
