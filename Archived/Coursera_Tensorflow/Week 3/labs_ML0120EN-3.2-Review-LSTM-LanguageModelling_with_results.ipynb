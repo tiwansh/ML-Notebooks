{
 "cells": [
  {
   "cell_type": "markdown",
   "metadata": {},
   "source": [
    "<a href=\"https://www.skills.network/\"><img src=\"https://cf-courses-data.s3.us.cloud-object-storage.appdomain.cloud/IBM-DL0120ENedX/labs/Template%20for%20Instructional%20Hands-on%20Labs/images/IDSNlogo.png\" width=\"400px\" align=\"center\"></a>\n",
    "\n",
    "<h1 align=\"center\"><font size=\"5\">RECURRENT NETWORKS and LSTM IN DEEP LEARNING</font></h1>\n"
   ]
  },
  {
   "cell_type": "markdown",
   "metadata": {},
   "source": [
    "<h2>Applying Recurrent Neural Networks/LSTM for Language Modeling</h2>\n",
    "Hello and welcome to this part. In this notebook, we will go over the topic of Language Modelling, and create a Recurrent Neural Network model based on the Long Short-Term Memory unit to train and benchmark on the Penn Treebank dataset. By the end of this notebook, you should be able to understand how TensorFlow builds and executes a RNN model for Language Modelling.\n"
   ]
  },
  {
   "cell_type": "markdown",
   "metadata": {},
   "source": [
    "<h2>The Objective</h2>\n",
    "By now, you should have an understanding of how Recurrent Networks work -- a specialized model to process sequential data by keeping track of the \"state\" or context. In this notebook, we go over a TensorFlow code snippet for creating a model focused on <b>Language Modelling</b> -- a very relevant task that is the cornerstone of many different linguistic problems such as <b>Speech Recognition, Machine Translation and Image Captioning</b>. For this, we will be using the Penn Treebank dataset, which is an often-used dataset for benchmarking Language Modelling models.\n"
   ]
  },
  {
   "cell_type": "markdown",
   "metadata": {},
   "source": [
    "<h2>Table of Contents</h2>\n",
    "<ol>\n",
    "    <li><a href=\"#language_modelling\">What exactly is Language Modelling?</a></li>\n",
    "    <li><a href=\"#treebank_dataset\">The Penn Treebank dataset</a></li>\n",
    "    <li><a href=\"#word_embedding\">Word Embedding</a></li>\n",
    "    <li><a href=\"#building_lstm_model\">Building the LSTM model for Language Modeling</a></li>\n",
    "    <li><a href=\"#ltsm\">LTSM</a></li>\n",
    "</ol>\n",
    "<p></p>\n",
    "</div>\n",
    "<br>\n"
   ]
  },
  {
   "cell_type": "markdown",
   "metadata": {
    "button": false,
    "deletable": true,
    "new_sheet": false,
    "run_control": {
     "read_only": false
    }
   },
   "source": [
    "* * *\n"
   ]
  },
  {
   "cell_type": "markdown",
   "metadata": {},
   "source": [
    "<a id=\"language_modelling\"></a>\n",
    "\n",
    "<h2>What exactly is Language Modelling?</h2>\n",
    "Language Modelling, to put it simply, <b>is the task of assigning probabilities to sequences of words</b>. This means that, given a context of one or a sequence of words in the language the model was trained on, the model should provide the next most probable words or sequence of words that follows from the given sequence of words the sentence. Language Modelling is one of the most important tasks in Natural Language Processing.\n",
    "\n",
    "<img src=\"https://ibm.box.com/shared/static/1d1i5gub6wljby2vani2vzxp0xsph702.png\" width=\"1080\">\n",
    "<center><i>Example of a sentence being predicted</i></center>\n",
    "<br><br>\n",
    "In this example, one can see the predictions for the next word of a sentence, given the context \"This is an\". As you can see, this boils down to a sequential data analysis task -- you are given a word or a sequence of words (the input data), and, given the context (the state), you need to find out what is the next word (the prediction). This kind of analysis is very important for language-related tasks such as <b>Speech Recognition, Machine Translation, Image Captioning, Text Correction</b> and many other very relevant problems. \n",
    "\n",
    "<img src=\"https://ibm.box.com/shared/static/az39idf9ipfdpc5ugifpgxnydelhyf3i.png\" width=\"1080\">\n",
    "<center><i>The above example is a schema of an RNN in execution</i></center>\n",
    "<br><br>\n",
    "As the above image shows, Recurrent Network models fit this problem like a glove. Alongside LSTM and its capacity to maintain the model's state for over one thousand time steps, we have all the tools we need to undertake this problem. The goal for this notebook is to create a model that can reach <b>low levels of perplexity</b> on our desired dataset.\n",
    "\n",
    "For Language Modelling problems, <b>perplexity</b> is the way to gauge efficiency. Perplexity is simply a measure of how well a probabilistic model is able to predict its sample. A higher-level way to explain this would be saying that <b>low perplexity means a higher degree of trust in the predictions the model makes</b>. Therefore, the lower perplexity is, the better.\n"
   ]
  },
  {
   "cell_type": "markdown",
   "metadata": {},
   "source": [
    "<a id=\"treebank_dataset\"></a>\n",
    "\n",
    "<h2>The Penn Treebank dataset</h2>\n",
    "Historically, datasets big enough for Natural Language Processing are hard to come by. This is in part due to the necessity of the sentences to be broken down and tagged with a certain degree of correctness -- or else the models trained on it won't be able to be correct at all. This means that we need a <b>large amount of data, annotated by or at least corrected by humans</b>. This is, of course, not an easy task at all.\n",
    "\n",
    "The Penn Treebank, or PTB for short, is a dataset maintained by the University of Pennsylvania. It is <i>huge</i> -- there are over <b>four million and eight hundred thousand</b> annotated words in it, all corrected by humans. It is composed of many different sources, from abstracts of Department of Energy papers to texts from the Library of America. Since it is verifiably correct and of such a huge size, the Penn Treebank is commonly used as a benchmark dataset for Language Modelling.\n",
    "\n",
    "The dataset is divided in different kinds of annotations, such as Piece-of-Speech, Syntactic and Semantic skeletons. For this example, we will simply use a sample of clean, non-annotated words (with the exception of one tag --<code><unk></code>\n",
    ", which is used for rare words such as uncommon proper nouns) for our model. This means that we just want to predict what the next words would be, not what they mean in context or their classes on a given sentence.\n",
    "\n",
    "<center>Example of text from the dataset we are going to use, <b>ptb.train</b></center>\n",
    "<br><br>\n",
    "\n",
    "<div class=\"alert alert-block alert-info\" style=\"margin-top: 20px\">\n",
    "    <center>the percentage of lung cancer deaths among the workers at the west <code>&lt;unk&gt;</code> mass. paper factory appears to be the highest for any asbestos workers studied in western industrialized countries he said \n",
    " the plant which is owned by <code>&lt;unk&gt;</code> & <code>&lt;unk&gt;</code> co. was under contract with <code>&lt;unk&gt;</code> to make the cigarette filters \n",
    " the finding probably will support those who argue that the U.S. should regulate the class of asbestos including <code>&lt;unk&gt;</code> more <code>&lt;unk&gt;</code> than the common kind of asbestos <code>&lt;unk&gt;</code> found in most schools and other buildings dr. <code>&lt;unk&gt;</code> said</center>\n",
    "</div>\n"
   ]
  },
  {
   "cell_type": "markdown",
   "metadata": {
    "button": false,
    "deletable": true,
    "new_sheet": false,
    "run_control": {
     "read_only": false
    }
   },
   "source": [
    "<a id=\"word_embedding\"></a>\n",
    "\n",
    "<h2>Word Embeddings</h2><br/>\n",
    "\n",
    "For better processing, in this example, we will make use of <a href=\"https://www.tensorflow.org/tutorials/word2vec/\"><b>word embeddings</b></a>, which is <b>a way of representing sentence structures or words as n-dimensional vectors (where n is a reasonably high number, such as 200 or 500) of real numbers</b>. Basically, we will assign each word a randomly-initialized vector, and input those into the network to be processed. After a number of iterations, these vectors are expected to assume values that help the network to correctly predict what it needs to -- in our case, the probable next word in the sentence. This is shown to be a very effective task in Natural Language Processing, and is a commonplace practice.\n",
    "<br><br>\n",
    "<font size=\"4\"><strong>\n",
    "$$Vec(\"Example\") = [0.02, 0.00, 0.00, 0.92, 0.30, \\ldots]$$\n",
    "</strong></font>\n",
    "<br>\n",
    "Word Embedding tends to group up similarly used words <i>reasonably</i> close together in the vectorial space. For example, if we use T-SNE (a dimensional reduction visualization algorithm) to flatten the dimensions of our vectors into a 2-dimensional space and plot these words in a 2-dimensional space, we might see something like this:\n",
    "\n",
    "<img src=\"https://ibm.box.com/shared/static/bqhc5dg879gcoabzhxra1w8rkg3od1cu.png\" width=\"800\">\n",
    "<center><i>T-SNE Mockup with clusters marked for easier visualization</i></center>\n",
    "<br><br>\n",
    "As you can see, words that are frequently used together, in place of each other, or in the same places as them tend to be grouped together -- being closer together the higher they are correlated. For example, \"None\" is pretty semantically close to \"Zero\", while a phrase that uses \"Italy\", you could probably also fit \"Germany\" in it, with little damage to the sentence structure. The vectorial \"closeness\" for similar words like this is a great indicator of a well-built model.\n",
    "\n",
    "<hr>\n",
    " \n"
   ]
  },
  {
   "cell_type": "markdown",
   "metadata": {
    "button": false,
    "deletable": true,
    "new_sheet": false,
    "run_control": {
     "read_only": false
    }
   },
   "source": [
    "We need to import the necessary modules for our code. We need <b><code>numpy</code></b> and <b><code>tensorflow</code></b>, obviously. Additionally, we can import directly the <b><code>tensorflow.models.rnn</code></b> model, which includes the function for building RNNs, and <b><code>tensorflow.models.rnn.ptb.reader</code></b> which is the helper module for getting the input data from the dataset we just downloaded.\n",
    "\n",
    "If you want to learn more take a look at <https://github.com/tensorflow/models/blob/master/tutorials/rnn/ptb/reader.py>\n"
   ]
  },
  {
   "cell_type": "code",
   "execution_count": 4,
   "metadata": {
    "tags": []
   },
   "outputs": [
    {
     "name": "stdout",
     "output_type": "stream",
     "text": [
      "Requirement already satisfied: tensorflow==2.2.0rc0 in /Users/smadhavan/.pyenv/versions/3.7.4/lib/python3.7/site-packages (2.2.0rc0)\n",
      "Requirement already satisfied: gast==0.3.3 in /Users/smadhavan/.pyenv/versions/3.7.4/lib/python3.7/site-packages (from tensorflow==2.2.0rc0) (0.3.3)\n",
      "Requirement already satisfied: opt-einsum>=2.3.2 in /Users/smadhavan/.pyenv/versions/3.7.4/lib/python3.7/site-packages (from tensorflow==2.2.0rc0) (2.3.2)\n",
      "Requirement already satisfied: keras-preprocessing>=1.1.0 in /Users/smadhavan/.pyenv/versions/3.7.4/lib/python3.7/site-packages (from tensorflow==2.2.0rc0) (1.1.2)\n",
      "Requirement already satisfied: numpy<2.0,>=1.16.0 in /Users/smadhavan/.pyenv/versions/3.7.4/lib/python3.7/site-packages (from tensorflow==2.2.0rc0) (1.16.4)\n",
      "Requirement already satisfied: protobuf>=3.8.0 in /Users/smadhavan/.pyenv/versions/3.7.4/lib/python3.7/site-packages (from tensorflow==2.2.0rc0) (3.11.3)\n",
      "Requirement already satisfied: wheel>=0.26; python_version >= \"3\" in /Users/smadhavan/.pyenv/versions/3.7.4/lib/python3.7/site-packages (from tensorflow==2.2.0rc0) (0.34.2)\n",
      "Requirement already satisfied: wrapt>=1.11.1 in /Users/smadhavan/.pyenv/versions/3.7.4/lib/python3.7/site-packages (from tensorflow==2.2.0rc0) (1.12.1)\n",
      "Requirement already satisfied: grpcio>=1.8.6 in /Users/smadhavan/.pyenv/versions/3.7.4/lib/python3.7/site-packages (from tensorflow==2.2.0rc0) (1.24.3)\n",
      "Requirement already satisfied: six>=1.12.0 in /Users/smadhavan/.pyenv/versions/3.7.4/lib/python3.7/site-packages (from tensorflow==2.2.0rc0) (1.12.0)\n",
      "Requirement already satisfied: google-pasta>=0.1.8 in /Users/smadhavan/.pyenv/versions/3.7.4/lib/python3.7/site-packages (from tensorflow==2.2.0rc0) (0.2.0)\n",
      "Requirement already satisfied: scipy==1.4.1; python_version >= \"3\" in /Users/smadhavan/.pyenv/versions/3.7.4/lib/python3.7/site-packages (from tensorflow==2.2.0rc0) (1.4.1)\n",
      "Requirement already satisfied: absl-py>=0.7.0 in /Users/smadhavan/.pyenv/versions/3.7.4/lib/python3.7/site-packages (from tensorflow==2.2.0rc0) (0.9.0)\n",
      "Requirement already satisfied: tensorflow-estimator<2.2.0,>=2.1.0 in /Users/smadhavan/.pyenv/versions/3.7.4/lib/python3.7/site-packages (from tensorflow==2.2.0rc0) (2.1.0)\n",
      "Requirement already satisfied: h5py<2.11.0,>=2.10.0 in /Users/smadhavan/.pyenv/versions/3.7.4/lib/python3.7/site-packages (from tensorflow==2.2.0rc0) (2.10.0)\n",
      "Requirement already satisfied: tensorboard<2.2.0,>=2.1.0 in /Users/smadhavan/.pyenv/versions/3.7.4/lib/python3.7/site-packages (from tensorflow==2.2.0rc0) (2.1.1)\n",
      "Requirement already satisfied: termcolor>=1.1.0 in /Users/smadhavan/.pyenv/versions/3.7.4/lib/python3.7/site-packages (from tensorflow==2.2.0rc0) (1.1.0)\n",
      "Requirement already satisfied: astunparse==1.6.3 in /Users/smadhavan/.pyenv/versions/3.7.4/lib/python3.7/site-packages (from tensorflow==2.2.0rc0) (1.6.3)\n",
      "Requirement already satisfied: setuptools in /Users/smadhavan/.pyenv/versions/3.7.4/lib/python3.7/site-packages (from protobuf>=3.8.0->tensorflow==2.2.0rc0) (47.3.0)\n",
      "Requirement already satisfied: werkzeug>=0.11.15 in /Users/smadhavan/.pyenv/versions/3.7.4/lib/python3.7/site-packages (from tensorboard<2.2.0,>=2.1.0->tensorflow==2.2.0rc0) (1.0.1)\n",
      "Requirement already satisfied: google-auth<2,>=1.6.3 in /Users/smadhavan/.pyenv/versions/3.7.4/lib/python3.7/site-packages (from tensorboard<2.2.0,>=2.1.0->tensorflow==2.2.0rc0) (1.19.1)\n",
      "Requirement already satisfied: requests<3,>=2.21.0 in /Users/smadhavan/.pyenv/versions/3.7.4/lib/python3.7/site-packages (from tensorboard<2.2.0,>=2.1.0->tensorflow==2.2.0rc0) (2.22.0)\n",
      "Requirement already satisfied: google-auth-oauthlib<0.5,>=0.4.1 in /Users/smadhavan/.pyenv/versions/3.7.4/lib/python3.7/site-packages (from tensorboard<2.2.0,>=2.1.0->tensorflow==2.2.0rc0) (0.4.1)\n",
      "Requirement already satisfied: markdown>=2.6.8 in /Users/smadhavan/.pyenv/versions/3.7.4/lib/python3.7/site-packages (from tensorboard<2.2.0,>=2.1.0->tensorflow==2.2.0rc0) (3.2.2)\n",
      "Requirement already satisfied: pyasn1-modules>=0.2.1 in /Users/smadhavan/.pyenv/versions/3.7.4/lib/python3.7/site-packages (from google-auth<2,>=1.6.3->tensorboard<2.2.0,>=2.1.0->tensorflow==2.2.0rc0) (0.2.8)\n",
      "Requirement already satisfied: rsa<5,>=3.1.4; python_version >= \"3\" in /Users/smadhavan/.pyenv/versions/3.7.4/lib/python3.7/site-packages (from google-auth<2,>=1.6.3->tensorboard<2.2.0,>=2.1.0->tensorflow==2.2.0rc0) (4.6)\n",
      "Requirement already satisfied: cachetools<5.0,>=2.0.0 in /Users/smadhavan/.pyenv/versions/3.7.4/lib/python3.7/site-packages (from google-auth<2,>=1.6.3->tensorboard<2.2.0,>=2.1.0->tensorflow==2.2.0rc0) (4.1.1)\n",
      "Requirement already satisfied: idna<2.9,>=2.5 in /Users/smadhavan/.pyenv/versions/3.7.4/lib/python3.7/site-packages (from requests<3,>=2.21.0->tensorboard<2.2.0,>=2.1.0->tensorflow==2.2.0rc0) (2.8)\n",
      "Requirement already satisfied: certifi>=2017.4.17 in /Users/smadhavan/.pyenv/versions/3.7.4/lib/python3.7/site-packages (from requests<3,>=2.21.0->tensorboard<2.2.0,>=2.1.0->tensorflow==2.2.0rc0) (2019.9.11)\n",
      "Requirement already satisfied: chardet<3.1.0,>=3.0.2 in /Users/smadhavan/.pyenv/versions/3.7.4/lib/python3.7/site-packages (from requests<3,>=2.21.0->tensorboard<2.2.0,>=2.1.0->tensorflow==2.2.0rc0) (3.0.4)\n",
      "Requirement already satisfied: urllib3!=1.25.0,!=1.25.1,<1.26,>=1.21.1 in /Users/smadhavan/.pyenv/versions/3.7.4/lib/python3.7/site-packages (from requests<3,>=2.21.0->tensorboard<2.2.0,>=2.1.0->tensorflow==2.2.0rc0) (1.25.6)\n",
      "Requirement already satisfied: requests-oauthlib>=0.7.0 in /Users/smadhavan/.pyenv/versions/3.7.4/lib/python3.7/site-packages (from google-auth-oauthlib<0.5,>=0.4.1->tensorboard<2.2.0,>=2.1.0->tensorflow==2.2.0rc0) (1.3.0)\n",
      "Requirement already satisfied: importlib-metadata; python_version < \"3.8\" in /Users/smadhavan/.pyenv/versions/3.7.4/lib/python3.7/site-packages (from markdown>=2.6.8->tensorboard<2.2.0,>=2.1.0->tensorflow==2.2.0rc0) (1.6.0)\n",
      "Requirement already satisfied: pyasn1<0.5.0,>=0.4.6 in /Users/smadhavan/.pyenv/versions/3.7.4/lib/python3.7/site-packages (from pyasn1-modules>=0.2.1->google-auth<2,>=1.6.3->tensorboard<2.2.0,>=2.1.0->tensorflow==2.2.0rc0) (0.4.8)\n",
      "Requirement already satisfied: oauthlib>=3.0.0 in /Users/smadhavan/.pyenv/versions/3.7.4/lib/python3.7/site-packages (from requests-oauthlib>=0.7.0->google-auth-oauthlib<0.5,>=0.4.1->tensorboard<2.2.0,>=2.1.0->tensorflow==2.2.0rc0) (3.1.0)\n",
      "Requirement already satisfied: zipp>=0.5 in /Users/smadhavan/.pyenv/versions/3.7.4/lib/python3.7/site-packages (from importlib-metadata; python_version < \"3.8\"->markdown>=2.6.8->tensorboard<2.2.0,>=2.1.0->tensorflow==2.2.0rc0) (3.1.0)\n",
      "Requirement already satisfied: numpy in /Users/smadhavan/.pyenv/versions/3.7.4/lib/python3.7/site-packages (1.16.4)\n"
     ]
    }
   ],
   "source": [
    "!pip install tensorflow==2.2.0rc0\n",
    "!pip install numpy\n"
   ]
  },
  {
   "cell_type": "code",
   "execution_count": 1,
   "metadata": {},
   "outputs": [],
   "source": [
    "import time\n",
    "import numpy as np\n",
    "import tensorflow as tf\n",
    "if not tf.__version__ == '2.2.0-rc0':\n",
    "    print(tf.__version__)\n",
    "    raise ValueError('please upgrade to TensorFlow 2.2.0-rc0, or restart your Kernel (Kernel->Restart & Clear Output)')"
   ]
  },
  {
   "cell_type": "markdown",
   "metadata": {},
   "source": [
    "IMPORTANT! => Please restart the kernel by clicking on \"Kernel\"->\"Restart and Clear Outout\" and wait until all output disapears. Then your changes are beeing picked up\n"
   ]
  },
  {
   "cell_type": "code",
   "execution_count": 2,
   "metadata": {
    "button": false,
    "deletable": true,
    "new_sheet": false,
    "run_control": {
     "read_only": false
    },
    "tags": []
   },
   "outputs": [],
   "source": [
    "!mkdir data\n",
    "!mkdir data/ptb\n",
    "!wget -q -O data/ptb/reader.py https://cf-courses-data.s3.us.cloud-object-storage.appdomain.cloud/IBMDeveloperSkillsNetwork-DL0120EN-SkillsNetwork/labs/Week3/data/ptb/reader.py\n",
    "!cp data/ptb/reader.py . \n",
    "\n"
   ]
  },
  {
   "cell_type": "code",
   "execution_count": 3,
   "metadata": {
    "tags": []
   },
   "outputs": [],
   "source": [
    "import reader"
   ]
  },
  {
   "cell_type": "markdown",
   "metadata": {
    "button": false,
    "deletable": true,
    "new_sheet": false,
    "run_control": {
     "read_only": false
    }
   },
   "source": [
    "<a id=\"building_lstm_model\"></a>\n",
    "\n",
    "<h2>Building the LSTM model for Language Modeling</h2>\n",
    "Now that we know exactly what we are doing, we can start building our model using TensorFlow. The very first thing we need to do is download and extract the <code>simple-examples</code> dataset, which can be done by executing the code cell below.\n"
   ]
  },
  {
   "cell_type": "code",
   "execution_count": 4,
   "metadata": {
    "button": false,
    "deletable": true,
    "new_sheet": false,
    "run_control": {
     "read_only": false
    },
    "tags": []
   },
   "outputs": [
    {
     "name": "stdout",
     "output_type": "stream",
     "text": [
      "--2020-12-25 21:08:36--  http://www.fit.vutbr.cz/~imikolov/rnnlm/simple-examples.tgz\n",
      "Resolving www.fit.vutbr.cz (www.fit.vutbr.cz)... 147.229.9.23, 2001:67c:1220:809::93e5:917\n",
      "Connecting to www.fit.vutbr.cz (www.fit.vutbr.cz)|147.229.9.23|:80... connected.\n",
      "HTTP request sent, awaiting response... 200 OK\n",
      "Length: 34869662 (33M) [application/x-gtar]\n",
      "Saving to: ‘simple-examples.tgz’\n",
      "\n",
      "simple-examples.tgz 100%[===================>]  33.25M   853KB/s    in 31s     \n",
      "\n",
      "2020-12-25 21:09:10 (1.06 MB/s) - ‘simple-examples.tgz’ saved [34869662/34869662]\n",
      "\n"
     ]
    }
   ],
   "source": [
    "!wget http://www.fit.vutbr.cz/~imikolov/rnnlm/simple-examples.tgz \n",
    "!tar xzf simple-examples.tgz -C data/"
   ]
  },
  {
   "cell_type": "markdown",
   "metadata": {
    "button": false,
    "deletable": true,
    "new_sheet": false,
    "run_control": {
     "read_only": false
    }
   },
   "source": [
    "Additionally, for the sake of making it easy to play around with the model's hyperparameters, we can declare them beforehand. Feel free to change these -- you will see a difference in performance each time you change those!  \n"
   ]
  },
  {
   "cell_type": "code",
   "execution_count": 5,
   "metadata": {
    "button": false,
    "deletable": true,
    "new_sheet": false,
    "run_control": {
     "read_only": false
    }
   },
   "outputs": [],
   "source": [
    "#Initial weight scale\n",
    "init_scale = 0.1\n",
    "#Initial learning rate\n",
    "learning_rate = 1.0\n",
    "#Maximum permissible norm for the gradient (For gradient clipping -- another measure against Exploding Gradients)\n",
    "max_grad_norm = 5\n",
    "#The number of layers in our model\n",
    "num_layers = 2\n",
    "#The total number of recurrence steps, also known as the number of layers when our RNN is \"unfolded\"\n",
    "num_steps = 20\n",
    "#The number of processing units (neurons) in the hidden layers\n",
    "hidden_size_l1 = 256\n",
    "hidden_size_l2 = 128\n",
    "#The maximum number of epochs trained with the initial learning rate\n",
    "max_epoch_decay_lr = 4\n",
    "#The total number of epochs in training\n",
    "max_epoch = 15\n",
    "#The probability for keeping data in the Dropout Layer (This is an optimization, but is outside our scope for this notebook!)\n",
    "#At 1, we ignore the Dropout Layer wrapping.\n",
    "keep_prob = 1\n",
    "#The decay for the learning rate\n",
    "decay = 0.5\n",
    "#The size for each batch of data\n",
    "batch_size = 30\n",
    "#The size of our vocabulary\n",
    "vocab_size = 10000\n",
    "embeding_vector_size= 200\n",
    "#Training flag to separate training from testing\n",
    "is_training = 1\n",
    "#Data directory for our dataset\n",
    "data_dir = \"data/simple-examples/data/\""
   ]
  },
  {
   "cell_type": "markdown",
   "metadata": {
    "button": false,
    "new_sheet": false,
    "run_control": {
     "read_only": false
    }
   },
   "source": [
    "Some clarifications for LSTM architecture based on the arguments:\n",
    "\n",
    "Network structure:\n",
    "\n",
    "<ul>\n",
    "    <li>In this network, the number of LSTM cells are 2. To give the model more expressive power, we can add multiple layers of LSTMs to process the data. The output of the first layer will become the input of the second and so on.\n",
    "    </li>\n",
    "    <li>The recurrence steps is 20, that is, when our RNN is \"Unfolded\", the recurrence step is 20.</li>   \n",
    "    <li>the structure is like:\n",
    "        <ul>\n",
    "            <li>200 input units -> [200x200] Weight -> 200 Hidden units (first layer) -> [200x200] Weight matrix  -> 200 Hidden units (second layer) ->  [200] weight Matrix -> 200 unit output</li>\n",
    "        </ul>\n",
    "    </li>\n",
    "</ul>\n",
    "<br>\n",
    "\n",
    "Input layer: \n",
    "\n",
    "<ul>\n",
    "    <li>The network has 200 input units.</li>\n",
    "    <li>Suppose each word is represented by an embedding vector of dimensionality e=200. The input layer of each cell will have 200 linear units. These e=200 linear units are connected to each of the h=200 LSTM units in the hidden layer (assuming there is only one hidden layer, though our case has 2 layers).\n",
    "    </li>\n",
    "    <li>The input shape is [batch_size, num_steps], that is [30x20]. It will turn into [30x20x200] after embedding, and then 20x[30x200]\n",
    "    </li>\n",
    "</ul>\n",
    "<br>\n",
    "\n",
    "Hidden layer:\n",
    "\n",
    "<ul>\n",
    "    <li>Each LSTM has 200 hidden units which is equivalent to the dimensionality of the embedding words and output.</li>\n",
    "</ul>\n",
    "<br>\n"
   ]
  },
  {
   "cell_type": "markdown",
   "metadata": {
    "button": false,
    "deletable": true,
    "new_sheet": false,
    "run_control": {
     "read_only": false
    }
   },
   "source": [
    "There is a lot to be done and a ton of information to process at the same time, so go over this code slowly. It may seem complex at first, but if you try to apply what you just learned about language modelling to the code you see, you should be able to understand it.\n",
    "\n",
    "This code is adapted from the <a href=\"https://github.com/tensorflow/models\">PTBModel</a> example bundled with the TensorFlow source code.\n",
    "\n",
    "<h3>Training data</h3>\n",
    "The story starts from data:\n",
    "<ul>\n",
    "    <li>Train data is a list of words, of size 929589, represented by numbers, e.g. [9971, 9972, 9974, 9975,...]</li>\n",
    "    <li>We read data as mini-batch of size b=30. Assume the size of each sentence is 20 words (num_steps = 20). Then it will take $$floor(\\frac{N}{b \\times h})+1=1548$$ iterations for the learner to go through all sentences once. Where N is the size of the list of words, b is batch size, and h is size of each sentence. So, the number of iterators is 1548\n",
    "    </li>\n",
    "    <li>Each batch data is read from train dataset of size 600, and shape of [30x20]</li>\n",
    "</ul>\n"
   ]
  },
  {
   "cell_type": "code",
   "execution_count": 6,
   "metadata": {
    "button": false,
    "deletable": true,
    "new_sheet": false,
    "run_control": {
     "read_only": false
    }
   },
   "outputs": [],
   "source": [
    "# Reads the data and separates it into training data, validation data and testing data\n",
    "raw_data = reader.ptb_raw_data(data_dir)\n",
    "train_data, valid_data, test_data, vocab, word_to_id = raw_data"
   ]
  },
  {
   "cell_type": "code",
   "execution_count": 7,
   "metadata": {},
   "outputs": [
    {
     "data": {
      "text/plain": [
       "929589"
      ]
     },
     "execution_count": 7,
     "metadata": {},
     "output_type": "execute_result"
    }
   ],
   "source": [
    "len(train_data)"
   ]
  },
  {
   "cell_type": "code",
   "execution_count": 8,
   "metadata": {
    "tags": []
   },
   "outputs": [
    {
     "name": "stdout",
     "output_type": "stream",
     "text": [
      "['aer', 'banknote', 'berlitz', 'calloway', 'centrust', 'cluett', 'fromstein', 'gitano', 'guterman', 'hydro-quebec', 'ipo', 'kia', 'memotec', 'mlx', 'nahb', 'punts', 'rake', 'regatta', 'rubens', 'sim', 'snack-food', 'ssangyong', 'swapo', 'wachter', '<eos>', 'pierre', '<unk>', 'N', 'years', 'old', 'will', 'join', 'the', 'board', 'as', 'a', 'nonexecutive', 'director', 'nov.', 'N', '<eos>', 'mr.', '<unk>', 'is', 'chairman', 'of', '<unk>', 'n.v.', 'the', 'dutch', 'publishing', 'group', '<eos>', 'rudolph', '<unk>', 'N', 'years', 'old', 'and', 'former', 'chairman', 'of', 'consolidated', 'gold', 'fields', 'plc', 'was', 'named', 'a', 'nonexecutive', 'director', 'of', 'this', 'british', 'industrial', 'conglomerate', '<eos>', 'a', 'form', 'of', 'asbestos', 'once', 'used', 'to', 'make', 'kent', 'cigarette', 'filters', 'has', 'caused', 'a', 'high', 'percentage', 'of', 'cancer', 'deaths', 'among', 'a', 'group', 'of']\n"
     ]
    }
   ],
   "source": [
    "def id_to_word(id_list):\n",
    "    line = []\n",
    "    for w in id_list:\n",
    "        for word, wid in word_to_id.items():\n",
    "            if wid == w:\n",
    "                line.append(word)\n",
    "    return line            \n",
    "                \n",
    "\n",
    "print(id_to_word(train_data[0:100]))"
   ]
  },
  {
   "cell_type": "markdown",
   "metadata": {
    "button": false,
    "deletable": true,
    "new_sheet": false,
    "run_control": {
     "read_only": false
    }
   },
   "source": [
    "Lets just read one mini-batch now and feed our network:\n"
   ]
  },
  {
   "cell_type": "code",
   "execution_count": 9,
   "metadata": {
    "button": false,
    "deletable": true,
    "new_sheet": false,
    "run_control": {
     "read_only": false
    }
   },
   "outputs": [],
   "source": [
    "itera = reader.ptb_iterator(train_data, batch_size, num_steps)\n",
    "first_touple = itera.__next__()\n",
    "_input_data = first_touple[0]\n",
    "_targets = first_touple[1]"
   ]
  },
  {
   "cell_type": "code",
   "execution_count": 18,
   "metadata": {},
   "outputs": [
    {
     "data": {
      "text/plain": [
       "\u001b[0;31mSignature:\u001b[0m \u001b[0mreader\u001b[0m\u001b[0;34m.\u001b[0m\u001b[0mptb_iterator\u001b[0m\u001b[0;34m(\u001b[0m\u001b[0mraw_data\u001b[0m\u001b[0;34m,\u001b[0m \u001b[0mbatch_size\u001b[0m\u001b[0;34m,\u001b[0m \u001b[0mnum_steps\u001b[0m\u001b[0;34m)\u001b[0m\u001b[0;34m\u001b[0m\u001b[0;34m\u001b[0m\u001b[0m\n",
       "\u001b[0;31mDocstring:\u001b[0m\n",
       "Iterate on the raw PTB data.\n",
       "\n",
       "This generates batch_size pointers into the raw PTB data, and allows\n",
       "minibatch iteration along these pointers.\n",
       "\n",
       "Args:\n",
       "  raw_data: one of the raw data outputs from ptb_raw_data.\n",
       "  batch_size: int, the batch size.\n",
       "  num_steps: int, the number of unrolls.\n",
       "\n",
       "Yields:\n",
       "  Pairs of the batched data, each a matrix of shape [batch_size, num_steps].\n",
       "  The second element of the tuple is the same data time-shifted to the\n",
       "  right by one.\n",
       "\n",
       "Raises:\n",
       "  ValueError: if batch_size or num_steps are too high.\n",
       "\u001b[0;31mFile:\u001b[0m      ~/ML_Projects/Coursera_Tensorflow/Week 3/reader.py\n",
       "\u001b[0;31mType:\u001b[0m      function\n"
      ]
     },
     "metadata": {},
     "output_type": "display_data"
    }
   ],
   "source": [
    "reader.ptb_iterator?"
   ]
  },
  {
   "cell_type": "code",
   "execution_count": 21,
   "metadata": {
    "button": false,
    "deletable": true,
    "new_sheet": false,
    "run_control": {
     "read_only": false
    }
   },
   "outputs": [
    {
     "data": {
      "text/plain": [
       "array([[9970, 9971, 9972, 9974, 9975, 9976, 9980, 9981, 9982, 9983, 9984,\n",
       "        9986, 9987, 9988, 9989, 9991, 9992, 9993, 9994, 9995],\n",
       "       [2654,    6,  334, 2886,    4,    1,  233,  711,  834,   11,  130,\n",
       "         123,    7,  514,    2,   63,   10,  514,    8,  605],\n",
       "       [   0, 1071,    4,    0,  185,   24,  368,   20,   31, 3109,  954,\n",
       "          12,    3,   21,    2, 2915,    2,   12,    3,   21],\n",
       "       [   3,   71,    4,   27,  246,   60,   11,  215,    4,    1, 1846,\n",
       "           9,    3,   71,  546,    2, 6505,  162,    6,  104],\n",
       "       [  93,   25,    6,  261,  681,  251,    0,  278, 3246,   13,  200,\n",
       "           1,    8,  105, 3360,    1,    4,    0,  536,    4],\n",
       "       [  20,    6,  954,   12,    3,   21,   78,   14,  977,  726,    0,\n",
       "          37,   42,   34,    5,  437,  116,  206,  927,    2],\n",
       "       [  18,  296,    7,  201,   76,    4,  182,  560, 3836,   17,  974,\n",
       "         975,    6,  942,    4,  156,   77, 1570,  288,  644],\n",
       "       [  23, 1238,  899,    5,   25,  201,    4,    0,  434,  642,   55,\n",
       "         201,    4,    0, 2423,    2,    1,    1,    1,  483],\n",
       "       [ 379,  706,    9,  413, 8219,   96,   15,    0, 2185, 1758,    1,\n",
       "           1,   37,   13,  834,    5,  852,  222,    7, 1785],\n",
       "       [   2,  179,  940,  117,   38,   59,  677,   14,    1,   10, 1016,\n",
       "         309,   13, 1077, 6360,   16,   23, 4490,    9,  355],\n",
       "       [3572,    4, 3015, 1347,  536,   13,    6, 3949,    5,  438, 9643,\n",
       "           2,   64,   87,   32,  358, 3672, 4103, 1082,   11],\n",
       "       [  71,  178,    3,    8,    3,    2,    0, 1008,  234,   30, 6400,\n",
       "          10,    0,   98,    9,    1,  338,   13,    5,   25],\n",
       "       [1473,   88,   19, 2578, 6591,    8,  629,  563,    8,  223,  184,\n",
       "         127,   18,    6,  828,    1,    2,    0,  324,  158],\n",
       "       [   1,    1,    2,   18,    0, 1844,    4,   73,   39, 2694,    6,\n",
       "        1709,    2,    7,    0, 6509, 1116,   27,    1,    1],\n",
       "       [1055,    5,   25, 8582,   10,  353,  645,   24,    6,  287,    2,\n",
       "        1006,    0, 8861, 2369,   44,    7,    0,    1,  180],\n",
       "       [  36,  501,    5,    6, 1969,    0,   98,   89, 2254,    0,  312,\n",
       "        1641,    4, 1063,    8,  713,    0,  264,  820,    2],\n",
       "       [  32, 2599,  762, 1875,   26, 1402,   45,  516,    2, 2937,   16,\n",
       "        3355, 2062,  251,    0,  529,   24, 1625,  122,   18],\n",
       "       [ 677,  127,    2,   19,   23, 7800, 3592,   14,   64,   87,   32,\n",
       "         350,    0, 3968,    2,   38,   26,  114,   38,   26],\n",
       "       [  25,   45,  769,    2,   23, 2634, 1096, 1175,   19,    6,    1,\n",
       "         154,   23, 1890,   30,    6,    1,    1,    2,  198],\n",
       "       [7736,  391,    5, 5173,  838,    2,  840,    9, 8716,  537, 4132,\n",
       "        2915,    9,    1,    1,   10, 1268,  175,   32,  184],\n",
       "       [   3,   21,    4,    1,  308,  458,   11,   41,   14, 5718,  102,\n",
       "         824,    1,    2,   14,   59,   50,   12,    3,   21],\n",
       "       [   8,    1,   22,   73,   10,  863,   11,  898,  653,  270,    8,\n",
       "         500,  273, 1559,    2,   14, 3019,    5,  585,   84],\n",
       "       [ 483,  762,   87,  108, 1119,    0,    1,   67,    0, 3296,   26,\n",
       "         591,  174,  127,    2,  108,   26, 9821,   11,    6],\n",
       "       [3885,  582,   81,   17, 1834,    2, 1256,   98,  162,  582,  441,\n",
       "         125,   22, 1652,  172,    4,    3,    3,    8,  206],\n",
       "       [  44,   23,    1,    0, 1704,    4,    1,    2,   22,  373,   38,\n",
       "         275,    1, 8017,    2, 2785, 3659, 4359,   80,  634],\n",
       "       [1896,    8,   13, 9468,   17,  752, 4622,    2,   29, 2221,    0,\n",
       "         446, 3552,    4,    0, 2495,  431,  134,  284,  152],\n",
       "       [  48,    7, 1741,  193,    8,  446,  165,  301, 6521, 5122,   15,\n",
       "          12,    3,   21,    4,   10,  161,  783,    8,   79],\n",
       "       [  47, 4447, 1431,    4, 6967, 2121,   24,  452,   18,   43,    3,\n",
       "          48, 1076,   12,    3,   21,   69,   40,    2, 1323],\n",
       "       [  31, 3374,    4, 2108,    1,  134,    8, 6967, 1825, 3306,   14,\n",
       "          13, 3581,    5, 2424, 1583, 6495,    5,    6, 1136],\n",
       "       [  59, 2070, 2433,   28,  517,   20,   23, 4306,    6,   40,  195,\n",
       "           2, 9398,  400, 4908,  673, 1572,  400,    1, 1173]],\n",
       "      dtype=int32)"
      ]
     },
     "execution_count": 21,
     "metadata": {},
     "output_type": "execute_result"
    }
   ],
   "source": [
    "_input_data"
   ]
  },
  {
   "cell_type": "code",
   "execution_count": 22,
   "metadata": {},
   "outputs": [
    {
     "data": {
      "text/plain": [
       "array([[9971, 9972, 9974, 9975, 9976, 9980, 9981, 9982, 9983, 9984, 9986,\n",
       "        9987, 9988, 9989, 9991, 9992, 9993, 9994, 9995, 9996],\n",
       "       [   6,  334, 2886,    4,    1,  233,  711,  834,   11,  130,  123,\n",
       "           7,  514,    2,   63,   10,  514,    8,  605, 4886],\n",
       "       [1071,    4,    0,  185,   24,  368,   20,   31, 3109,  954,   12,\n",
       "           3,   21,    2, 2915,    2,   12,    3,   21,    4],\n",
       "       [  71,    4,   27,  246,   60,   11,  215,    4,    1, 1846,    9,\n",
       "           3,   71,  546,    2, 6505,  162,    6,  104,  478],\n",
       "       [  25,    6,  261,  681,  251,    0,  278, 3246,   13,  200,    1,\n",
       "           8,  105, 3360,    1,    4,    0,  536,    4,  493],\n",
       "       [   6,  954,   12,    3,   21,   78,   14,  977,  726,    0,   37,\n",
       "          42,   34,    5,  437,  116,  206,  927,    2,    7],\n",
       "       [ 296,    7,  201,   76,    4,  182,  560, 3836,   17,  974,  975,\n",
       "           6,  942,    4,  156,   77, 1570,  288,  644,    2],\n",
       "       [1238,  899,    5,   25,  201,    4,    0,  434,  642,   55,  201,\n",
       "           4,    0, 2423,    2,    1,    1,    1,  483,    2],\n",
       "       [ 706,    9,  413, 8219,   96,   15,    0, 2185, 1758,    1,    1,\n",
       "          37,   13,  834,    5,  852,  222,    7, 1785,    3],\n",
       "       [ 179,  940,  117,   38,   59,  677,   14,    1,   10, 1016,  309,\n",
       "          13, 1077, 6360,   16,   23, 4490,    9,  355,   19],\n",
       "       [   4, 3015, 1347,  536,   13,    6, 3949,    5,  438, 9643,    2,\n",
       "          64,   87,   32,  358, 3672, 4103, 1082,   11,  431],\n",
       "       [ 178,    3,    8,    3,    2,    0, 1008,  234,   30, 6400,   10,\n",
       "           0,   98,    9,    1,  338,   13,    5,   25,  263],\n",
       "       [  88,   19, 2578, 6591,    8,  629,  563,    8,  223,  184,  127,\n",
       "          18,    6,  828,    1,    2,    0,  324,  158,   11],\n",
       "       [   1,    2,   18,    0, 1844,    4,   73,   39, 2694,    6, 1709,\n",
       "           2,    7,    0, 6509, 1116,   27,    1,    1,    1],\n",
       "       [   5,   25, 8582,   10,  353,  645,   24,    6,  287,    2, 1006,\n",
       "           0, 8861, 2369,   44,    7,    0,    1,  180, 1771],\n",
       "       [ 501,    5,    6, 1969,    0,   98,   89, 2254,    0,  312, 1641,\n",
       "           4, 1063,    8,  713,    0,  264,  820,    2, 9781],\n",
       "       [2599,  762, 1875,   26, 1402,   45,  516,    2, 2937,   16, 3355,\n",
       "        2062,  251,    0,  529,   24, 1625,  122,   18,    6],\n",
       "       [ 127,    2,   19,   23, 7800, 3592,   14,   64,   87,   32,  350,\n",
       "           0, 3968,    2,   38,   26,  114,   38,   26,    2],\n",
       "       [  45,  769,    2,   23, 2634, 1096, 1175,   19,    6,    1,  154,\n",
       "          23, 1890,   30,    6,    1,    1,    2,  198,  103],\n",
       "       [ 391,    5, 5173,  838,    2,  840,    9, 8716,  537, 4132, 2915,\n",
       "           9,    1,    1,   10, 1268,  175,   32,  184,   13],\n",
       "       [  21,    4,    1,  308,  458,   11,   41,   14, 5718,  102,  824,\n",
       "           1,    2,   14,   59,   50,   12,    3,   21,    4],\n",
       "       [   1,   22,   73,   10,  863,   11,  898,  653,  270,    8,  500,\n",
       "         273, 1559,    2,   14, 3019,    5,  585,   84, 3137],\n",
       "       [ 762,   87,  108, 1119,    0,    1,   67,    0, 3296,   26,  591,\n",
       "         174,  127,    2,  108,   26, 9821,   11,    6, 4106],\n",
       "       [ 582,   81,   17, 1834,    2, 1256,   98,  162,  582,  441,  125,\n",
       "          22, 1652,  172,    4,    3,    3,    8,  206, 1064],\n",
       "       [  23,    1,    0, 1704,    4,    1,    2,   22,  373,   38,  275,\n",
       "           1, 8017,    2, 2785, 3659, 4359,   80,  634,   27],\n",
       "       [   8,   13, 9468,   17,  752, 4622,    2,   29, 2221,    0,  446,\n",
       "        3552,    4,    0, 2495,  431,  134,  284,  152,   43],\n",
       "       [   7, 1741,  193,    8,  446,  165,  301, 6521, 5122,   15,   12,\n",
       "           3,   21,    4,   10,  161,  783,    8,   79,   25],\n",
       "       [4447, 1431,    4, 6967, 2121,   24,  452,   18,   43,    3,   48,\n",
       "        1076,   12,    3,   21,   69,   40,    2, 1323,  159],\n",
       "       [3374,    4, 2108,    1,  134,    8, 6967, 1825, 3306,   14,   13,\n",
       "        3581,    5, 2424, 1583, 6495,    5,    6, 1136, 1080],\n",
       "       [2070, 2433,   28,  517,   20,   23, 4306,    6,   40,  195,    2,\n",
       "        9398,  400, 4908,  673, 1572,  400,    1, 1173, 3447]],\n",
       "      dtype=int32)"
      ]
     },
     "execution_count": 22,
     "metadata": {},
     "output_type": "execute_result"
    }
   ],
   "source": [
    "_targets"
   ]
  },
  {
   "cell_type": "markdown",
   "metadata": {
    "button": false,
    "deletable": true,
    "new_sheet": false,
    "run_control": {
     "read_only": false
    }
   },
   "source": [
    "Lets look at 3 sentences of our input x:\n"
   ]
  },
  {
   "cell_type": "code",
   "execution_count": 23,
   "metadata": {
    "button": false,
    "deletable": true,
    "new_sheet": false,
    "run_control": {
     "read_only": false
    }
   },
   "outputs": [
    {
     "data": {
      "text/plain": [
       "array([[9970, 9971, 9972, 9974, 9975, 9976, 9980, 9981, 9982, 9983, 9984,\n",
       "        9986, 9987, 9988, 9989, 9991, 9992, 9993, 9994, 9995],\n",
       "       [2654,    6,  334, 2886,    4,    1,  233,  711,  834,   11,  130,\n",
       "         123,    7,  514,    2,   63,   10,  514,    8,  605],\n",
       "       [   0, 1071,    4,    0,  185,   24,  368,   20,   31, 3109,  954,\n",
       "          12,    3,   21,    2, 2915,    2,   12,    3,   21]],\n",
       "      dtype=int32)"
      ]
     },
     "execution_count": 23,
     "metadata": {},
     "output_type": "execute_result"
    }
   ],
   "source": [
    "_input_data[0:3]"
   ]
  },
  {
   "cell_type": "code",
   "execution_count": 24,
   "metadata": {},
   "outputs": [
    {
     "name": "stdout",
     "output_type": "stream",
     "text": [
      "['aer', 'banknote', 'berlitz', 'calloway', 'centrust', 'cluett', 'fromstein', 'gitano', 'guterman', 'hydro-quebec', 'ipo', 'kia', 'memotec', 'mlx', 'nahb', 'punts', 'rake', 'regatta', 'rubens', 'sim']\n"
     ]
    }
   ],
   "source": [
    "print(id_to_word(_input_data[0,:]))"
   ]
  },
  {
   "cell_type": "markdown",
   "metadata": {
    "button": false,
    "deletable": true,
    "new_sheet": false,
    "run_control": {
     "read_only": false
    }
   },
   "source": [
    "<h3>Embeddings</h3>\n",
    "We have to convert the words in our dataset to vectors of numbers. The traditional approach is to use one-hot encoding method that is usually used for converting categorical values to numerical values. However, One-hot encoded vectors are high-dimensional, sparse and in a big dataset, computationally inefficient. So, we use word2vec approach. It is, in fact, a layer in our LSTM network, where the word IDs will be represented as a dense representation before feeding to the LSTM. \n",
    "\n",
    "The embedded vectors also get updated during the training process of the deep neural network.\n",
    "We create the embeddings for our input data. <b>embedding_vocab</b> is matrix of [10000x200] for all 10000 unique words.\n"
   ]
  },
  {
   "cell_type": "markdown",
   "metadata": {
    "button": false,
    "deletable": true,
    "new_sheet": false,
    "run_control": {
     "read_only": false
    }
   },
   "source": [
    "<b>embedding_lookup()</b> finds the embedded values for our batch of 30x20 words. It  goes to each row of <code>input_data</code>, and for each word in the row/sentence, finds the correspond vector in <code>embedding_dic<code>. <br>\n",
    "It creates a [30x20x200] tensor, so, the first element of <b>inputs</b> (the first sentence), is a matrix of 20x200, which each row of it, is vector representing a word in the sentence.\n"
   ]
  },
  {
   "cell_type": "code",
   "execution_count": 25,
   "metadata": {},
   "outputs": [],
   "source": [
    "embedding_layer = tf.keras.layers.Embedding(vocab_size, embeding_vector_size,batch_input_shape=(batch_size, num_steps),trainable=True,name=\"embedding_vocab\")  "
   ]
  },
  {
   "cell_type": "code",
   "execution_count": 26,
   "metadata": {},
   "outputs": [
    {
     "data": {
      "text/plain": [
       "<tf.Tensor: shape=(30, 20, 200), dtype=float32, numpy=\n",
       "array([[[ 0.04217703,  0.04607929,  0.01305504, ...,  0.04350181,\n",
       "         -0.03473228, -0.0214859 ],\n",
       "        [ 0.02188652, -0.03331385,  0.01520791, ...,  0.03037352,\n",
       "         -0.01309486, -0.03666138],\n",
       "        [ 0.01188259, -0.04128231,  0.04150616, ...,  0.03146449,\n",
       "         -0.04032507,  0.00732034],\n",
       "        ...,\n",
       "        [ 0.0232274 , -0.01614057,  0.03167868, ...,  0.03772316,\n",
       "         -0.02572024,  0.02860658],\n",
       "        [ 0.04437068,  0.00613571,  0.00103255, ..., -0.00193216,\n",
       "          0.02861292,  0.04449267],\n",
       "        [-0.04526946, -0.04884653,  0.02504713, ...,  0.02780071,\n",
       "          0.02967055,  0.04433299]],\n",
       "\n",
       "       [[ 0.0003651 , -0.04868266,  0.00348942, ..., -0.04347016,\n",
       "          0.0228659 ,  0.02244965],\n",
       "        [ 0.01956454, -0.02414823, -0.00513931, ...,  0.0037699 ,\n",
       "         -0.01511557,  0.04525054],\n",
       "        [-0.01250549,  0.04465329,  0.01561035, ..., -0.04882168,\n",
       "          0.01260895,  0.0357734 ],\n",
       "        ...,\n",
       "        [ 0.03510853,  0.03928651, -0.0079855 , ...,  0.00238322,\n",
       "          0.02744294, -0.02906997],\n",
       "        [ 0.03557856,  0.04984318, -0.04517739, ...,  0.00286812,\n",
       "         -0.00537962, -0.01286321],\n",
       "        [ 0.03263768,  0.02277033,  0.00630852, ...,  0.01216922,\n",
       "          0.03158085,  0.02681224]],\n",
       "\n",
       "       [[ 0.00934755,  0.03553012,  0.02984444, ..., -0.02985582,\n",
       "          0.04804352,  0.01755375],\n",
       "        [-0.04144161, -0.03069128,  0.01989099, ..., -0.04415536,\n",
       "          0.03156657, -0.01209073],\n",
       "        [ 0.01730711,  0.02804707,  0.04368583, ...,  0.04421235,\n",
       "         -0.04185944,  0.00918369],\n",
       "        ...,\n",
       "        [-0.02070276,  0.02851028, -0.01258611, ...,  0.04848002,\n",
       "          0.02495707, -0.04100126],\n",
       "        [-0.02540593,  0.02341663, -0.01375699, ...,  0.01323792,\n",
       "         -0.0160278 , -0.00613415],\n",
       "        [-0.01811755, -0.02111415,  0.00547517, ...,  0.01171683,\n",
       "          0.02154653, -0.0325843 ]],\n",
       "\n",
       "       ...,\n",
       "\n",
       "       [[-0.03932615, -0.01221603,  0.03363725, ...,  0.00122024,\n",
       "          0.0114277 , -0.04749156],\n",
       "        [ 0.00109417,  0.03508624, -0.00509574, ...,  0.02391458,\n",
       "          0.02131229,  0.04106582],\n",
       "        [ 0.03645742, -0.00287791, -0.00874177, ...,  0.01041317,\n",
       "         -0.02145475,  0.02054895],\n",
       "        ...,\n",
       "        [ 0.0366825 , -0.00650363,  0.00620977, ...,  0.03792742,\n",
       "          0.00020514,  0.0163343 ],\n",
       "        [-0.03185647, -0.00540849, -0.03069974, ..., -0.01155124,\n",
       "         -0.04553225, -0.02213773],\n",
       "        [ 0.02307466,  0.00840478, -0.03468011, ...,  0.02233211,\n",
       "         -0.02302984,  0.02630845]],\n",
       "\n",
       "       [[ 0.01864991,  0.03602712, -0.02094213, ...,  0.02741481,\n",
       "          0.03953949,  0.04931336],\n",
       "        [ 0.01208451,  0.02059432, -0.00396743, ..., -0.01712302,\n",
       "         -0.04977439, -0.0487785 ],\n",
       "        [ 0.01730711,  0.02804707,  0.04368583, ...,  0.04421235,\n",
       "         -0.04185944,  0.00918369],\n",
       "        ...,\n",
       "        [ 0.02566253,  0.0160282 , -0.04025616, ..., -0.01597741,\n",
       "          0.03992814,  0.02350589],\n",
       "        [ 0.01956454, -0.02414823, -0.00513931, ...,  0.0037699 ,\n",
       "         -0.01511557,  0.04525054],\n",
       "        [ 0.00522449, -0.03069416, -0.00726006, ..., -0.01318188,\n",
       "          0.02850438, -0.01087576]],\n",
       "\n",
       "       [[-0.00609491, -0.03079561, -0.04703056, ..., -0.03922026,\n",
       "         -0.00807624,  0.00073478],\n",
       "        [-0.04914179,  0.02075923, -0.04799117, ...,  0.00328483,\n",
       "         -0.0464509 ,  0.0442738 ],\n",
       "        [ 0.01876365, -0.04869317,  0.02180705, ..., -0.0426628 ,\n",
       "         -0.01560383, -0.01009721],\n",
       "        ...,\n",
       "        [-0.00212095, -0.02680155, -0.00566977, ..., -0.00313621,\n",
       "         -0.0272812 ,  0.02371902],\n",
       "        [-0.04078371, -0.0116967 , -0.03851937, ..., -0.00060492,\n",
       "          0.0322893 ,  0.04723206],\n",
       "        [-0.01053641,  0.01821977,  0.03365214, ..., -0.02432504,\n",
       "         -0.01100949,  0.01229461]]], dtype=float32)>"
      ]
     },
     "execution_count": 26,
     "metadata": {},
     "output_type": "execute_result"
    }
   ],
   "source": [
    "# Define where to get the data for our embeddings from\n",
    "inputs = embedding_layer(_input_data)\n",
    "inputs"
   ]
  },
  {
   "cell_type": "markdown",
   "metadata": {},
   "source": [
    "<h3>Constructing Recurrent Neural Networks</h3>\n"
   ]
  },
  {
   "cell_type": "markdown",
   "metadata": {
    "button": false,
    "deletable": true,
    "new_sheet": false,
    "run_control": {
     "read_only": false
    }
   },
   "source": [
    "In this step, we create the stacked LSTM using <b>tf.keras.layers.StackedRNNCells</b>, which is a 2 layer LSTM network:\n"
   ]
  },
  {
   "cell_type": "code",
   "execution_count": 27,
   "metadata": {},
   "outputs": [],
   "source": [
    "lstm_cell_l1 = tf.keras.layers.LSTMCell(hidden_size_l1)\n",
    "lstm_cell_l2 = tf.keras.layers.LSTMCell(hidden_size_l2)"
   ]
  },
  {
   "cell_type": "code",
   "execution_count": 28,
   "metadata": {
    "button": false,
    "deletable": true,
    "new_sheet": false,
    "run_control": {
     "read_only": false
    }
   },
   "outputs": [],
   "source": [
    "stacked_lstm = tf.keras.layers.StackedRNNCells([lstm_cell_l1, lstm_cell_l2])"
   ]
  },
  {
   "cell_type": "markdown",
   "metadata": {},
   "source": [
    "<b>tf.keras.layers.RNN</b> creates a recurrent neural network using <b>stacked_lstm</b>. \n",
    "\n",
    "The input should be a Tensor of shape: [batch_size, max_time, embedding_vector_size], in our case it would be (30, 20, 200)\n"
   ]
  },
  {
   "cell_type": "code",
   "execution_count": 29,
   "metadata": {},
   "outputs": [],
   "source": [
    "layer  =  tf.keras.layers.RNN(stacked_lstm,[batch_size, num_steps],return_state=False,stateful=True,trainable=True)"
   ]
  },
  {
   "cell_type": "markdown",
   "metadata": {
    "button": false,
    "deletable": true,
    "new_sheet": false,
    "run_control": {
     "read_only": false
    }
   },
   "source": [
    "Also, we initialize the states of the nework:\n",
    "\n",
    "<h4>_initial_state</h4>\n",
    "\n",
    "For each LSTM, there are 2 state matrices, c_state and m_state.  c_state and m_state represent \"Memory State\" and \"Cell State\". Each hidden layer, has a vector of size 30, which keeps the states. so, for 200 hidden units in each LSTM, we have a matrix of size [30x200]\n"
   ]
  },
  {
   "cell_type": "code",
   "execution_count": 30,
   "metadata": {},
   "outputs": [],
   "source": [
    "init_state = tf.Variable(tf.zeros([batch_size,embeding_vector_size]),trainable=False)"
   ]
  },
  {
   "cell_type": "code",
   "execution_count": 31,
   "metadata": {},
   "outputs": [],
   "source": [
    "layer.inital_state = init_state"
   ]
  },
  {
   "cell_type": "code",
   "execution_count": 32,
   "metadata": {},
   "outputs": [
    {
     "data": {
      "text/plain": [
       "<tf.Variable 'Variable:0' shape=(30, 200) dtype=float32, numpy=\n",
       "array([[0., 0., 0., ..., 0., 0., 0.],\n",
       "       [0., 0., 0., ..., 0., 0., 0.],\n",
       "       [0., 0., 0., ..., 0., 0., 0.],\n",
       "       ...,\n",
       "       [0., 0., 0., ..., 0., 0., 0.],\n",
       "       [0., 0., 0., ..., 0., 0., 0.],\n",
       "       [0., 0., 0., ..., 0., 0., 0.]], dtype=float32)>"
      ]
     },
     "execution_count": 32,
     "metadata": {},
     "output_type": "execute_result"
    }
   ],
   "source": [
    "layer.inital_state"
   ]
  },
  {
   "cell_type": "markdown",
   "metadata": {},
   "source": [
    "so, lets look at the outputs. The output of the stackedLSTM comes from 128 hidden_layer, and in each time step(=20), one of them get activated. we use the linear activation to map the 128 hidden layer to a [30X20 matrix]\n"
   ]
  },
  {
   "cell_type": "code",
   "execution_count": 33,
   "metadata": {},
   "outputs": [],
   "source": [
    "outputs = layer(inputs)"
   ]
  },
  {
   "cell_type": "code",
   "execution_count": 34,
   "metadata": {},
   "outputs": [
    {
     "data": {
      "text/plain": [
       "<tf.Tensor: shape=(30, 20, 128), dtype=float32, numpy=\n",
       "array([[[-4.9909146e-04,  1.5646689e-05, -1.3979824e-03, ...,\n",
       "         -3.8221714e-04,  3.2143980e-05, -5.6059577e-04],\n",
       "        [ 5.0540309e-04,  1.8917819e-03, -1.3567874e-03, ...,\n",
       "         -5.0488347e-04, -9.7610377e-04, -9.9502446e-04],\n",
       "        [ 1.1263110e-03,  2.5977050e-03,  1.0717246e-04, ...,\n",
       "         -1.7177154e-03, -1.4417624e-03, -1.6615108e-03],\n",
       "        ...,\n",
       "        [ 9.6731674e-04,  1.2968922e-03,  3.3963283e-03, ...,\n",
       "          5.0861062e-03,  8.2389597e-04, -8.6658547e-04],\n",
       "        [ 1.3581414e-03,  1.4714699e-03,  3.7978890e-03, ...,\n",
       "          3.0875327e-03,  1.7714588e-03, -1.2384292e-03],\n",
       "        [ 1.8241304e-03,  2.5200024e-03,  5.6101591e-03, ...,\n",
       "          2.0713515e-03,  2.4675394e-03, -2.2749119e-03]],\n",
       "\n",
       "       [[ 7.9834985e-04, -4.9195567e-04, -6.6771050e-04, ...,\n",
       "          8.3007495e-04,  7.8743935e-04,  5.6461396e-04],\n",
       "        [ 1.0048577e-03, -1.1824714e-03, -6.3076103e-04, ...,\n",
       "          1.1464116e-03,  3.3108777e-04,  1.0275691e-03],\n",
       "        [ 3.3213306e-04, -1.9535965e-03, -1.9864999e-03, ...,\n",
       "          2.0598888e-03,  1.3127454e-04,  1.6571801e-03],\n",
       "        ...,\n",
       "        [-5.8052405e-03,  4.9473951e-04, -4.7275712e-04, ...,\n",
       "         -4.3159668e-04,  3.5962716e-03, -1.6148956e-03],\n",
       "        [-4.9093589e-03, -6.0304429e-04, -5.3276011e-04, ...,\n",
       "         -9.4397203e-04,  3.5579840e-03, -1.0024374e-03],\n",
       "        [-4.8417039e-03, -7.1848743e-05,  9.1479247e-04, ...,\n",
       "         -2.6164332e-03,  3.6619899e-03, -5.5982341e-04]],\n",
       "\n",
       "       [[-9.5145435e-05,  6.7253030e-05,  5.1409559e-05, ...,\n",
       "         -1.3170419e-04,  1.8213845e-04,  3.5281212e-04],\n",
       "        [-5.6214881e-04,  2.4147531e-04, -1.0724335e-03, ...,\n",
       "         -7.7063096e-04, -2.7292574e-04,  1.4927302e-03],\n",
       "        [-8.6721400e-04,  1.3140104e-03, -3.4327208e-04, ...,\n",
       "         -1.4419677e-03, -9.8369399e-04,  1.0092061e-03],\n",
       "        ...,\n",
       "        [ 2.7353440e-03,  4.9014045e-03,  1.5176400e-04, ...,\n",
       "          1.5842383e-03, -3.0335411e-03,  8.7673037e-04],\n",
       "        [ 2.9430820e-03,  4.2193956e-03, -6.1337027e-04, ...,\n",
       "          1.4612761e-03, -2.6359130e-03,  4.0383535e-04],\n",
       "        [ 3.7681623e-03,  1.9774961e-03, -1.0566891e-03, ...,\n",
       "          2.2250814e-03, -1.7910255e-03, -3.8734125e-04]],\n",
       "\n",
       "       ...,\n",
       "\n",
       "       [[-4.6796026e-04,  5.8443002e-06,  5.5136511e-06, ...,\n",
       "          7.7541790e-04,  8.9369150e-04,  7.6770032e-04],\n",
       "        [-1.0467370e-03, -7.7114505e-04,  7.8686624e-04, ...,\n",
       "          1.2438815e-03,  1.2338372e-03,  8.9377549e-04],\n",
       "        [-9.9570793e-04, -1.2066538e-03,  1.0833751e-03, ...,\n",
       "          2.9986824e-03,  1.4702990e-03,  9.4350701e-04],\n",
       "        ...,\n",
       "        [ 3.2252397e-03, -4.6213088e-03,  1.7295439e-03, ...,\n",
       "          5.5250665e-04,  1.0330077e-03,  1.4999764e-04],\n",
       "        [ 2.9700324e-03, -2.6289413e-03,  1.9838512e-03, ...,\n",
       "          1.9944426e-04,  5.6676153e-04,  6.6122775e-05],\n",
       "        [ 1.1915705e-03, -2.1075408e-03,  1.9638620e-03, ...,\n",
       "          2.4723273e-04, -5.2960910e-05,  5.9259444e-04]],\n",
       "\n",
       "       [[-7.7215853e-05, -2.0457829e-04, -4.1106579e-04, ...,\n",
       "         -4.7061409e-04,  1.3832152e-03, -3.0566179e-04],\n",
       "        [-2.1218618e-04, -9.3640719e-04, -8.1129867e-04, ...,\n",
       "          5.9188813e-05,  1.6259012e-03, -1.6651272e-03],\n",
       "        [-6.7987334e-04, -6.9914662e-05, -1.1836172e-04, ...,\n",
       "          1.6866380e-04,  8.1374118e-04, -2.8059047e-03],\n",
       "        ...,\n",
       "        [-4.2036264e-03, -3.3303271e-03, -2.6399921e-05, ...,\n",
       "         -3.8071587e-03,  7.4478304e-03,  3.5271195e-03],\n",
       "        [-5.1795626e-03, -4.1365367e-03,  1.6982271e-04, ...,\n",
       "         -4.5879516e-03,  6.3916910e-03,  4.1397624e-03],\n",
       "        [-4.1528097e-03, -4.1900920e-03,  1.0319285e-03, ...,\n",
       "         -4.6233102e-03,  5.1387195e-03,  4.3897387e-03]],\n",
       "\n",
       "       [[ 9.9795288e-04,  1.3102578e-04,  1.8729289e-03, ...,\n",
       "          1.1121867e-03, -2.7239436e-04,  7.8040081e-05],\n",
       "        [ 1.4535971e-03,  1.6558291e-03,  3.2089707e-03, ...,\n",
       "          2.0177304e-03,  1.5591769e-04, -1.1952023e-03],\n",
       "        [ 1.1645866e-03,  3.3377758e-03,  3.1865980e-03, ...,\n",
       "          1.9559707e-03, -2.4125815e-04, -1.0804640e-03],\n",
       "        ...,\n",
       "        [ 5.7632319e-04,  9.0083247e-04, -3.5236492e-03, ...,\n",
       "          1.7700893e-03, -3.3830923e-03, -2.0016900e-03],\n",
       "        [ 8.5820630e-04,  2.0438169e-04, -4.7270223e-03, ...,\n",
       "          2.3107720e-03, -4.0864861e-03, -1.3166905e-03],\n",
       "        [ 7.0732908e-04, -1.3080590e-03, -6.4205742e-03, ...,\n",
       "          2.3875539e-03, -4.7569294e-03, -8.8503683e-04]]], dtype=float32)>"
      ]
     },
     "execution_count": 34,
     "metadata": {},
     "output_type": "execute_result"
    }
   ],
   "source": [
    "outputs"
   ]
  },
  {
   "cell_type": "markdown",
   "metadata": {
    "button": false,
    "deletable": true,
    "new_sheet": false,
    "run_control": {
     "read_only": false
    }
   },
   "source": [
    "<h2>Dense layer</h2>\n",
    "We now create densely-connected neural network layer that would reshape the outputs tensor from  [30 x 20 x 128] to [30 x 20 x 10000].\n"
   ]
  },
  {
   "cell_type": "code",
   "execution_count": 35,
   "metadata": {},
   "outputs": [],
   "source": [
    "dense = tf.keras.layers.Dense(vocab_size)"
   ]
  },
  {
   "cell_type": "code",
   "execution_count": 36,
   "metadata": {},
   "outputs": [],
   "source": [
    "logits_outputs  = dense(outputs)"
   ]
  },
  {
   "cell_type": "code",
   "execution_count": 37,
   "metadata": {},
   "outputs": [
    {
     "name": "stdout",
     "output_type": "stream",
     "text": [
      "shape of the output from dense layer:  (30, 20, 10000)\n"
     ]
    }
   ],
   "source": [
    "print(\"shape of the output from dense layer: \", logits_outputs.shape) #(batch_size, sequence_length, vocab_size)"
   ]
  },
  {
   "cell_type": "markdown",
   "metadata": {},
   "source": [
    "<h2>Activation layer</h2>\n",
    "\n",
    "A softmax activation layers is also then applied to derive the probability of the output being in any of the multiclass(10000 in this case) possibilities. \n"
   ]
  },
  {
   "cell_type": "code",
   "execution_count": 38,
   "metadata": {},
   "outputs": [],
   "source": [
    "activation = tf.keras.layers.Activation('softmax')"
   ]
  },
  {
   "cell_type": "code",
   "execution_count": 39,
   "metadata": {},
   "outputs": [],
   "source": [
    "output_words_prob = activation(logits_outputs)"
   ]
  },
  {
   "cell_type": "code",
   "execution_count": 40,
   "metadata": {},
   "outputs": [
    {
     "name": "stdout",
     "output_type": "stream",
     "text": [
      "shape of the output from the activation layer:  (30, 20, 10000)\n"
     ]
    }
   ],
   "source": [
    "print(\"shape of the output from the activation layer: \", output_words_prob.shape) #(batch_size, sequence_length, vocab_size)"
   ]
  },
  {
   "cell_type": "markdown",
   "metadata": {},
   "source": [
    "Lets look at the probability of observing words for t=0 to t=20:\n"
   ]
  },
  {
   "cell_type": "code",
   "execution_count": 41,
   "metadata": {},
   "outputs": [
    {
     "name": "stdout",
     "output_type": "stream",
     "text": [
      "The probability of observing words in t=0 to t=20 tf.Tensor(\n",
      "[[9.99825425e-05 1.00032012e-04 1.00024059e-04 ... 1.00005156e-04\n",
      "  1.00002486e-04 9.99701806e-05]\n",
      " [9.99541662e-05 1.00067948e-04 1.00016601e-04 ... 1.00035541e-04\n",
      "  1.00010555e-04 9.99405020e-05]\n",
      " [9.99490148e-05 1.00099220e-04 9.99989425e-05 ... 1.00041558e-04\n",
      "  1.00019912e-04 9.99188196e-05]\n",
      " ...\n",
      " [9.99264957e-05 9.99930417e-05 9.99963013e-05 ... 1.00018086e-04\n",
      "  1.00015459e-04 9.99614349e-05]\n",
      " [9.99398762e-05 1.00013771e-04 1.00003228e-04 ... 1.00020967e-04\n",
      "  1.00065088e-04 9.99732438e-05]\n",
      " [9.99529439e-05 1.00019948e-04 9.99893746e-05 ... 1.00025354e-04\n",
      "  1.00081277e-04 1.00000652e-04]], shape=(20, 10000), dtype=float32)\n"
     ]
    }
   ],
   "source": [
    "print(\"The probability of observing words in t=0 to t=20\", output_words_prob[0,0:num_steps])"
   ]
  },
  {
   "cell_type": "markdown",
   "metadata": {
    "button": false,
    "deletable": true,
    "new_sheet": false,
    "run_control": {
     "read_only": false
    }
   },
   "source": [
    "<h3>Prediction</h3>\n",
    "What is the word correspond to the probability output? Lets use the maximum probability:\n"
   ]
  },
  {
   "cell_type": "code",
   "execution_count": 42,
   "metadata": {},
   "outputs": [
    {
     "data": {
      "text/plain": [
       "array([7754, 7754, 7754, 7754, 7754, 7644, 7644, 6674, 6674, 6674, 6674,\n",
       "       8208, 8208, 8208, 8208, 2404, 2404, 5764, 5764, 5764])"
      ]
     },
     "execution_count": 42,
     "metadata": {},
     "output_type": "execute_result"
    }
   ],
   "source": [
    "np.argmax(output_words_prob[0,0:num_steps], axis=1)"
   ]
  },
  {
   "cell_type": "markdown",
   "metadata": {
    "button": false,
    "deletable": true,
    "new_sheet": false,
    "run_control": {
     "read_only": false
    }
   },
   "source": [
    "So, what is the ground truth for the first word of first sentence? You can get it from target tensor, if you want to find the embedding vector: \n"
   ]
  },
  {
   "cell_type": "code",
   "execution_count": 43,
   "metadata": {
    "button": false,
    "deletable": true,
    "new_sheet": false,
    "run_control": {
     "read_only": false
    }
   },
   "outputs": [
    {
     "data": {
      "text/plain": [
       "array([9971, 9972, 9974, 9975, 9976, 9980, 9981, 9982, 9983, 9984, 9986,\n",
       "       9987, 9988, 9989, 9991, 9992, 9993, 9994, 9995, 9996], dtype=int32)"
      ]
     },
     "execution_count": 43,
     "metadata": {},
     "output_type": "execute_result"
    }
   ],
   "source": [
    "_targets[0]"
   ]
  },
  {
   "cell_type": "markdown",
   "metadata": {
    "button": false,
    "new_sheet": false,
    "run_control": {
     "read_only": false
    }
   },
   "source": [
    "<h4>Objective function</h4>\n",
    "\n",
    "How similar the predicted words are to the target words?\n",
    "\n",
    "Now we have to define our objective function, to calculate the similarity of predicted values to ground truth, and then, penalize the model with the error. Our objective is to minimize loss function, that is, to minimize the average negative log probability of the target words:\n",
    "\n",
    "$$\\text{loss} = -\\frac{1}{N}\\sum_{i=1}^{N} \\ln p_{\\text{target}_i}$$\n",
    "\n",
    "This function is already implemented and available in TensorFlow through _tf.keras.losses.sparse_categorical_crossentropy_. It calculates the categorical cross-entropy loss for <b>logits</b> and the <b>target</b> sequence.  \n",
    "\n",
    "The arguments of this function are:  \n",
    "\n",
    "<ul>\n",
    "    <li>logits: List of 2D Tensors of shape [batch_size x num_decoder_symbols].</li>  \n",
    "    <li>targets: List of 1D batch-sized int32 Tensors of the same length as logits.</li>   \n",
    "</ul>\n"
   ]
  },
  {
   "cell_type": "code",
   "execution_count": 44,
   "metadata": {},
   "outputs": [],
   "source": [
    "def crossentropy(y_true, y_pred):\n",
    "    return tf.keras.losses.sparse_categorical_crossentropy(y_true, y_pred)"
   ]
  },
  {
   "cell_type": "code",
   "execution_count": 45,
   "metadata": {},
   "outputs": [],
   "source": [
    "loss  = crossentropy(_targets, output_words_prob)"
   ]
  },
  {
   "cell_type": "markdown",
   "metadata": {
    "button": false,
    "new_sheet": false,
    "run_control": {
     "read_only": false
    }
   },
   "source": [
    "Lets look at the first 10 values of loss:\n"
   ]
  },
  {
   "cell_type": "code",
   "execution_count": 46,
   "metadata": {},
   "outputs": [
    {
     "data": {
      "text/plain": [
       "<tf.Tensor: shape=(10,), dtype=float32, numpy=\n",
       "array([9.210519 , 9.210714 , 9.210309 , 9.210457 , 9.210036 , 9.210098 ,\n",
       "       9.209912 , 9.2097435, 9.209888 , 9.210223 ], dtype=float32)>"
      ]
     },
     "execution_count": 46,
     "metadata": {},
     "output_type": "execute_result"
    }
   ],
   "source": [
    "loss[0,:10]"
   ]
  },
  {
   "cell_type": "markdown",
   "metadata": {},
   "source": [
    "Now, we define cost as average of the losses:\n"
   ]
  },
  {
   "cell_type": "code",
   "execution_count": 47,
   "metadata": {},
   "outputs": [
    {
     "data": {
      "text/plain": [
       "<tf.Tensor: shape=(), dtype=float32, numpy=184.20618>"
      ]
     },
     "execution_count": 47,
     "metadata": {},
     "output_type": "execute_result"
    }
   ],
   "source": [
    "cost = tf.reduce_sum(loss / batch_size)\n",
    "cost"
   ]
  },
  {
   "cell_type": "markdown",
   "metadata": {
    "button": false,
    "deletable": true,
    "new_sheet": false,
    "run_control": {
     "read_only": false
    }
   },
   "source": [
    "<h3>Training</h3>\n",
    "\n",
    "To do training for our network, we have to take the following steps:\n",
    "\n",
    "<ol>\n",
    "    <li>Define the optimizer.</li>\n",
    "    <li>Assemble layers to build model.</li>\n",
    "    <li>Calculate the gradients based on the loss function.</li>\n",
    "    <li>Apply the optimizer to the variables/gradients tuple.</li>\n",
    "</ol>\n"
   ]
  },
  {
   "cell_type": "markdown",
   "metadata": {
    "button": false,
    "deletable": true,
    "new_sheet": false,
    "run_control": {
     "read_only": false
    }
   },
   "source": [
    "<h4>1. Define Optimizer</h4>\n"
   ]
  },
  {
   "cell_type": "code",
   "execution_count": 48,
   "metadata": {},
   "outputs": [],
   "source": [
    "# Create a variable for the learning rate\n",
    "lr = tf.Variable(0.0, trainable=False)\n",
    "optimizer = tf.keras.optimizers.SGD(lr=lr, clipnorm=max_grad_norm)"
   ]
  },
  {
   "cell_type": "markdown",
   "metadata": {},
   "source": [
    "<h4>2. Assemble layers to build model.</h4>\n"
   ]
  },
  {
   "cell_type": "code",
   "execution_count": 49,
   "metadata": {},
   "outputs": [
    {
     "name": "stdout",
     "output_type": "stream",
     "text": [
      "Model: \"sequential\"\n",
      "_________________________________________________________________\n",
      "Layer (type)                 Output Shape              Param #   \n",
      "=================================================================\n",
      "embedding_vocab (Embedding)  (30, 20, 200)             2000000   \n",
      "_________________________________________________________________\n",
      "rnn (RNN)                    (30, 20, 128)             671088    \n",
      "_________________________________________________________________\n",
      "dense (Dense)                (30, 20, 10000)           1290000   \n",
      "_________________________________________________________________\n",
      "activation (Activation)      (30, 20, 10000)           0         \n",
      "=================================================================\n",
      "Total params: 3,961,088\n",
      "Trainable params: 3,955,088\n",
      "Non-trainable params: 6,000\n",
      "_________________________________________________________________\n"
     ]
    }
   ],
   "source": [
    "model = tf.keras.Sequential()\n",
    "model.add(embedding_layer)\n",
    "model.add(layer)\n",
    "model.add(dense)\n",
    "model.add(activation)\n",
    "model.compile(loss=crossentropy, optimizer=optimizer)\n",
    "model.summary()"
   ]
  },
  {
   "cell_type": "markdown",
   "metadata": {
    "button": false,
    "new_sheet": false,
    "run_control": {
     "read_only": false
    }
   },
   "source": [
    "<h4>2. Trainable Variables</h4>\n"
   ]
  },
  {
   "cell_type": "markdown",
   "metadata": {
    "button": false,
    "new_sheet": false,
    "run_control": {
     "read_only": false
    }
   },
   "source": [
    "Defining a variable, if you passed <i>trainable=True</i>, the variable constructor automatically adds new variables to the graph collection <b>GraphKeys.TRAINABLE_VARIABLES</b>. Now, using <i>tf.trainable_variables()</i> you can get all variables created with <b>trainable=True</b>.\n"
   ]
  },
  {
   "cell_type": "code",
   "execution_count": 50,
   "metadata": {
    "button": false,
    "new_sheet": false,
    "run_control": {
     "read_only": false
    }
   },
   "outputs": [],
   "source": [
    "# Get all TensorFlow variables marked as \"trainable\" (i.e. all of them except _lr, which we just created)\n",
    "tvars = model.trainable_variables"
   ]
  },
  {
   "cell_type": "markdown",
   "metadata": {
    "button": false,
    "new_sheet": false,
    "run_control": {
     "read_only": false
    }
   },
   "source": [
    "Note: we can find the name and scope of all variables:\n"
   ]
  },
  {
   "cell_type": "code",
   "execution_count": 51,
   "metadata": {
    "button": false,
    "new_sheet": false,
    "run_control": {
     "read_only": false
    }
   },
   "outputs": [
    {
     "data": {
      "text/plain": [
       "['embedding_vocab/embeddings:0',\n",
       " 'rnn/stacked_rnn_cells/lstm_cell/kernel:0',\n",
       " 'rnn/stacked_rnn_cells/lstm_cell/recurrent_kernel:0',\n",
       " 'rnn/stacked_rnn_cells/lstm_cell/bias:0',\n",
       " 'rnn/stacked_rnn_cells/lstm_cell_1/kernel:0',\n",
       " 'rnn/stacked_rnn_cells/lstm_cell_1/recurrent_kernel:0',\n",
       " 'rnn/stacked_rnn_cells/lstm_cell_1/bias:0',\n",
       " 'dense/kernel:0',\n",
       " 'dense/bias:0']"
      ]
     },
     "execution_count": 51,
     "metadata": {},
     "output_type": "execute_result"
    }
   ],
   "source": [
    "[v.name for v in tvars] "
   ]
  },
  {
   "cell_type": "markdown",
   "metadata": {
    "button": false,
    "new_sheet": false,
    "run_control": {
     "read_only": false
    }
   },
   "source": [
    "<h4>3. Calculate the gradients based on the loss function</h4>\n"
   ]
  },
  {
   "cell_type": "markdown",
   "metadata": {
    "button": false,
    "deletable": true,
    "new_sheet": false,
    "run_control": {
     "read_only": false
    }
   },
   "source": [
    "**Gradient**: The gradient of a function is the slope of its derivative (line), or in other words, the rate of change of a function. It's a vector (a direction to move) that points in the direction of greatest increase of the function, and calculated by the <b>derivative</b> operation.\n"
   ]
  },
  {
   "cell_type": "markdown",
   "metadata": {},
   "source": [
    "First lets recall the gradient function using an toy example:\n",
    "$$ z = \\left(2x^2 + 3xy\\right)$$\n"
   ]
  },
  {
   "cell_type": "code",
   "execution_count": 52,
   "metadata": {},
   "outputs": [],
   "source": [
    "x = tf.constant(1.0)\n",
    "y =  tf.constant(2.0)\n",
    "with tf.GradientTape(persistent=True) as g:\n",
    "    g.watch(x)\n",
    "    g.watch(y)\n",
    "    func_test = 2 * x * x + 3 * x * y"
   ]
  },
  {
   "cell_type": "markdown",
   "metadata": {},
   "source": [
    "The <b>tf.gradients()</b> function allows you to compute the symbolic gradient of one tensor with respect to one or more other tensors—including variables. <b>tf.gradients(func, xs)</b> constructs symbolic partial derivatives of sum of <b>func</b> w.r.t. <i>x</i> in <b>xs</b>. \n",
    "\n",
    "Now, lets look at the derivitive w.r.t. <b>var_x</b>:\n",
    "$$ \\frac{\\partial \\:}{\\partial \\:x}\\left(2x^2 + 3xy\\right) = 4x + 3y $$\n"
   ]
  },
  {
   "cell_type": "code",
   "execution_count": 53,
   "metadata": {},
   "outputs": [
    {
     "name": "stdout",
     "output_type": "stream",
     "text": [
      "tf.Tensor(10.0, shape=(), dtype=float32)\n"
     ]
    }
   ],
   "source": [
    "var_grad = g.gradient(func_test, x) # Will compute to 10.0\n",
    "print(var_grad)"
   ]
  },
  {
   "cell_type": "markdown",
   "metadata": {},
   "source": [
    "the derivative w.r.t. <b>var_y</b>:\n",
    "$$ \\frac{\\partial \\:}{\\partial \\:y}\\left(2x^2 + 3xy\\right) = 3x $$\n"
   ]
  },
  {
   "cell_type": "code",
   "execution_count": 54,
   "metadata": {},
   "outputs": [
    {
     "name": "stdout",
     "output_type": "stream",
     "text": [
      "tf.Tensor(3.0, shape=(), dtype=float32)\n"
     ]
    }
   ],
   "source": [
    "var_grad = g.gradient(func_test, y) # Will compute to 3.0\n",
    "print(var_grad)"
   ]
  },
  {
   "cell_type": "markdown",
   "metadata": {},
   "source": [
    "Now, we can look at gradients w.r.t all variables:\n"
   ]
  },
  {
   "cell_type": "code",
   "execution_count": 55,
   "metadata": {},
   "outputs": [],
   "source": [
    "with tf.GradientTape() as tape:\n",
    "    # Forward pass.\n",
    "    output_words_prob = model(_input_data)\n",
    "    # Loss value for this batch.\n",
    "    loss  = crossentropy(_targets, output_words_prob)\n",
    "    cost = tf.reduce_sum(loss,axis=0) / batch_size"
   ]
  },
  {
   "cell_type": "code",
   "execution_count": 56,
   "metadata": {},
   "outputs": [],
   "source": [
    "# Get gradients of loss wrt the trainable variables.\n",
    "grad_t_list = tape.gradient(cost, tvars)"
   ]
  },
  {
   "cell_type": "code",
   "execution_count": 57,
   "metadata": {},
   "outputs": [
    {
     "name": "stdout",
     "output_type": "stream",
     "text": [
      "[<tensorflow.python.framework.indexed_slices.IndexedSlices object at 0x7fbe724b3b10>, <tf.Tensor: shape=(200, 1024), dtype=float32, numpy=\n",
      "array([[-4.2382922e-07, -5.3175683e-07, -8.7412275e-08, ...,\n",
      "        -4.8179771e-07, -1.4475877e-07,  5.7121150e-07],\n",
      "       [-2.4383351e-07,  1.5914269e-07, -3.0061429e-08, ...,\n",
      "         1.0391575e-07,  5.4645602e-07, -7.8750290e-08],\n",
      "       [ 2.2531066e-07, -5.8083458e-07, -6.7664820e-07, ...,\n",
      "        -3.9692247e-07, -5.8373172e-07,  4.4363364e-07],\n",
      "       ...,\n",
      "       [ 2.0410687e-07,  1.1020645e-06,  4.7609313e-07, ...,\n",
      "        -3.8589974e-07,  7.2346904e-07, -4.2455383e-08],\n",
      "       [-4.2384762e-08, -5.6071156e-07, -1.2356909e-07, ...,\n",
      "         1.9772590e-07,  5.0092996e-07,  3.6419357e-07],\n",
      "       [ 4.8042693e-07,  1.1048384e-06,  3.2659835e-07, ...,\n",
      "        -1.7164652e-07,  5.1502667e-07,  2.6324349e-07]], dtype=float32)>, <tf.Tensor: shape=(256, 1024), dtype=float32, numpy=\n",
      "array([[ 3.5157278e-08, -6.9595821e-08,  6.9077075e-08, ...,\n",
      "         7.8475864e-08, -1.7179767e-07, -7.0358148e-08],\n",
      "       [-3.6896822e-08,  2.7938830e-07,  3.3900964e-08, ...,\n",
      "        -9.9573171e-08, -2.8725208e-07,  4.9830206e-08],\n",
      "       [ 1.6281012e-07,  1.6434475e-07,  7.0563097e-08, ...,\n",
      "         5.4768705e-09,  3.8372200e-08, -1.0739271e-08],\n",
      "       ...,\n",
      "       [-1.3453082e-07, -1.3453837e-07, -1.6378721e-08, ...,\n",
      "         1.5451732e-08,  2.9718514e-08, -7.0575652e-09],\n",
      "       [-3.2645536e-07,  2.5825940e-07, -7.5434237e-08, ...,\n",
      "        -1.4146818e-07, -1.0834278e-06, -3.3158607e-08],\n",
      "       [-1.7914140e-07,  3.3048957e-07,  4.0809383e-08, ...,\n",
      "        -7.7712173e-08, -3.9137825e-07, -4.5661608e-09]], dtype=float32)>, <tf.Tensor: shape=(1024,), dtype=float32, numpy=\n",
      "array([ 1.5929480e-05, -1.0132184e-05,  2.2864584e-05, ...,\n",
      "        1.9279183e-05,  6.5978165e-05,  6.1878636e-06], dtype=float32)>, <tf.Tensor: shape=(256, 512), dtype=float32, numpy=\n",
      "array([[-7.29954479e-08,  1.09888084e-07,  6.56983303e-08, ...,\n",
      "        -4.72468145e-08, -1.63376427e-07, -5.78730166e-08],\n",
      "       [-2.47950496e-08, -3.66452433e-08,  3.93468502e-09, ...,\n",
      "        -1.10811698e-08, -8.15769354e-08, -2.44309689e-07],\n",
      "       [ 1.17680585e-07,  5.47815020e-08,  1.27877968e-07, ...,\n",
      "         9.96368499e-08,  1.94285235e-07,  4.32067182e-09],\n",
      "       ...,\n",
      "       [ 2.31175051e-07, -7.43282946e-09, -1.37388994e-07, ...,\n",
      "         5.29544053e-09, -1.09285679e-07, -1.13588143e-07],\n",
      "       [ 1.10764397e-07, -1.06138074e-07, -1.42765288e-07, ...,\n",
      "        -2.16761123e-07, -1.29603123e-07, -1.75975188e-07],\n",
      "       [ 4.03593248e-08, -4.73748187e-08, -4.41241568e-08, ...,\n",
      "        -1.62117630e-07,  6.84582258e-09, -1.41395688e-07]], dtype=float32)>, <tf.Tensor: shape=(128, 512), dtype=float32, numpy=\n",
      "array([[-1.98331819e-07,  7.29390663e-08,  2.71742309e-08, ...,\n",
      "        -8.19245116e-09, -1.37025722e-07,  1.90575278e-07],\n",
      "       [ 2.28951276e-08,  9.09283813e-08,  9.87905224e-08, ...,\n",
      "        -8.56772786e-09, -5.34504352e-08, -4.79449724e-08],\n",
      "       [ 6.84304950e-08,  1.23743320e-07, -3.58983208e-08, ...,\n",
      "        -1.42171590e-08,  1.15087587e-07, -8.47255919e-08],\n",
      "       ...,\n",
      "       [ 7.10478361e-08, -1.03264156e-07, -4.12168575e-08, ...,\n",
      "        -3.57447192e-08, -5.16554479e-08, -5.11737035e-08],\n",
      "       [ 1.14425234e-07, -1.00833077e-07, -6.35938804e-08, ...,\n",
      "        -1.48876858e-08,  2.14994913e-07,  4.85272373e-08],\n",
      "       [-2.21868774e-07,  4.47461019e-08,  5.26642907e-08, ...,\n",
      "        -3.69131001e-08, -8.36689011e-08,  2.65211440e-07]], dtype=float32)>, <tf.Tensor: shape=(512,), dtype=float32, numpy=\n",
      "array([-4.82980759e-05, -1.36816800e-06,  4.68821145e-06,  1.30548269e-05,\n",
      "        5.73764646e-06,  3.55084194e-06,  1.86018588e-05,  8.27612439e-06,\n",
      "        1.26813957e-05,  4.32115448e-05, -6.31266494e-06, -2.04339267e-06,\n",
      "        2.41974813e-05, -4.03562190e-05, -3.88903936e-05,  4.92056934e-05,\n",
      "       -1.08682550e-04, -2.24651703e-05,  1.00576712e-04, -2.44694602e-05,\n",
      "        2.91152573e-05,  2.98204013e-05, -1.31974857e-05, -3.37670135e-05,\n",
      "        1.66318805e-05, -3.87475447e-05,  4.52842578e-05, -4.70328496e-06,\n",
      "       -8.53593810e-05, -2.68699041e-05,  4.49366635e-05, -7.75516128e-06,\n",
      "        1.62281012e-05, -1.40413067e-05, -2.17311026e-06,  3.41303567e-05,\n",
      "       -2.92860859e-05,  1.38069745e-05,  1.30490089e-05,  1.16641731e-05,\n",
      "        4.70629448e-06, -2.44560179e-05,  9.90248955e-05,  4.21146069e-06,\n",
      "       -7.88950929e-05, -8.12923281e-06, -2.20398560e-05, -4.28288040e-05,\n",
      "       -1.02539689e-05, -5.81155909e-05,  2.88515366e-05,  6.98327949e-06,\n",
      "       -1.55532707e-05,  1.15419662e-05, -2.64851005e-05,  4.63307624e-05,\n",
      "       -2.61257628e-06, -3.92234142e-05, -6.18078120e-05,  2.42587448e-05,\n",
      "       -1.94140794e-05, -2.64107803e-05,  8.64120739e-05, -5.49715060e-06,\n",
      "        8.02045179e-05, -9.40378777e-06, -3.35698714e-05, -8.42632289e-06,\n",
      "       -1.95862376e-05, -1.18392942e-04, -5.45699659e-05, -2.28321242e-05,\n",
      "       -2.26121720e-05,  1.60783875e-05,  4.36175560e-06,  2.91319302e-05,\n",
      "        1.12312500e-05,  9.92207060e-06, -9.78339904e-06,  2.08671572e-05,\n",
      "       -6.81363917e-06,  1.08698650e-05, -2.63955226e-05, -8.42025020e-06,\n",
      "       -2.67562391e-05, -2.59723492e-05, -9.64863284e-06,  1.54153604e-05,\n",
      "        6.53194656e-05, -3.21128718e-05,  9.59525933e-05,  1.25310908e-05,\n",
      "        4.73256514e-05, -3.94805902e-05, -5.83883957e-06,  2.45912997e-05,\n",
      "       -9.93553840e-05,  1.40738111e-05, -1.13286501e-06,  1.75626265e-05,\n",
      "        1.13489386e-06, -4.26831830e-05, -5.58180400e-05,  1.05405579e-05,\n",
      "        6.86142539e-06, -6.22034277e-05, -1.49077305e-05,  3.72641152e-05,\n",
      "        2.77136005e-05, -2.91047163e-05, -1.76537014e-05, -7.22472896e-06,\n",
      "       -4.35903057e-05, -7.93204526e-06, -8.61670469e-06,  2.56190397e-05,\n",
      "       -5.43450587e-05, -2.63528236e-05,  3.17053382e-05,  2.26122938e-05,\n",
      "       -7.87117278e-06, -6.97813375e-05, -2.18591176e-05, -2.58909113e-05,\n",
      "        8.86719863e-05,  1.06476946e-05, -1.32165615e-05,  4.25583276e-05,\n",
      "       -4.71172170e-05, -9.47928766e-06,  1.75719706e-05,  1.63761124e-05,\n",
      "        2.09539921e-05,  2.07160501e-05,  7.68958853e-05,  1.20285395e-05,\n",
      "        1.97259033e-05,  2.18038913e-05,  5.26102485e-06, -6.72341685e-06,\n",
      "        3.90413479e-05, -3.92973452e-05, -7.14551206e-05,  7.22445548e-05,\n",
      "       -1.67455379e-04, -4.37225099e-05,  1.64963203e-04, -4.08786109e-05,\n",
      "        3.39388243e-05,  4.74637200e-05, -2.50847261e-05, -5.72843201e-05,\n",
      "        1.33780068e-05, -2.03247146e-05,  4.80141753e-05, -1.59952488e-05,\n",
      "       -9.96358285e-05, -4.70375962e-05,  4.30806685e-05, -1.10102737e-05,\n",
      "        1.29407235e-05, -8.67037852e-06, -5.63323783e-06,  4.85102828e-05,\n",
      "       -1.05345061e-05, -7.17293005e-06,  8.24528070e-06,  2.17401084e-05,\n",
      "       -1.91592935e-05, -2.71019380e-05,  9.27461660e-05,  1.66599202e-05,\n",
      "       -1.05988693e-04, -4.69490033e-06, -4.59026342e-05, -2.29984180e-05,\n",
      "        1.66083055e-06, -7.04989652e-05,  4.94877677e-05,  1.46163129e-05,\n",
      "       -2.62193207e-05,  5.29036006e-05, -2.13195963e-05,  6.38461206e-05,\n",
      "       -1.35583205e-05, -4.93960761e-05, -7.30765169e-05,  3.64279258e-05,\n",
      "       -3.78183104e-05, -2.55406994e-05,  1.20320721e-04, -4.81944653e-06,\n",
      "        1.36665141e-04, -2.79620854e-05, -7.14653361e-05,  1.08411132e-05,\n",
      "       -2.52919635e-05, -1.80620380e-04, -5.50975674e-05, -1.33973153e-05,\n",
      "       -4.26281586e-05,  7.93656000e-06,  3.05826052e-06,  2.06938712e-05,\n",
      "        2.31093836e-05,  2.30413025e-06, -6.88887667e-07,  2.41981197e-05,\n",
      "        8.00201087e-06,  3.29400209e-05, -4.73932814e-05, -2.75987386e-05,\n",
      "       -6.69685687e-05, -4.69365805e-05, -2.30513542e-05,  1.93305532e-05,\n",
      "        7.03123951e-05, -6.56080447e-05,  1.77495240e-04,  1.59024676e-05,\n",
      "        8.01260830e-05, -5.24978823e-05, -5.21196262e-06,  3.77725955e-05,\n",
      "       -1.40567456e-04,  1.55500220e-05, -3.14700337e-05,  1.03977973e-05,\n",
      "        1.84815035e-05, -4.61997843e-05, -3.10730647e-05,  1.67797316e-06,\n",
      "        2.85381593e-05, -1.20639743e-04,  3.14076578e-06,  2.90171829e-05,\n",
      "        4.37905910e-05, -2.71475838e-05, -1.06059247e-06, -1.20843742e-05,\n",
      "       -6.06677168e-05, -1.48240897e-05, -7.33478737e-06,  3.92227375e-05,\n",
      "       -6.56046468e-05, -2.71039917e-05,  5.94571102e-05,  2.93420817e-05,\n",
      "       -5.27990123e-05, -7.30080792e-05, -5.25172691e-05, -6.12225340e-05,\n",
      "        9.93997091e-05,  4.80505241e-06,  9.74108843e-06,  6.52776653e-05,\n",
      "       -1.23463506e-02,  1.52621595e-02, -1.65627617e-03,  1.29867503e-02,\n",
      "       -6.84243999e-03, -2.69683637e-02, -1.21861622e-02, -2.89026462e-02,\n",
      "       -2.45218426e-02, -1.26429033e-02, -8.34872480e-03,  1.99859422e-02,\n",
      "       -1.61463507e-02, -4.09658588e-02, -3.05289105e-02,  4.74430919e-02,\n",
      "       -5.97802363e-02, -5.21824099e-02,  4.61564213e-02,  4.81570959e-02,\n",
      "       -1.34102535e-02,  1.23612229e-02,  2.30410360e-02,  1.88890919e-02,\n",
      "       -3.36083733e-02,  3.67641151e-02,  2.65412685e-02,  3.32447402e-02,\n",
      "       -3.94145027e-02, -5.85636450e-03, -3.14917639e-02,  3.30797397e-04,\n",
      "       -1.84526369e-02,  4.21353336e-03, -6.43296726e-03,  2.45477967e-02,\n",
      "       -3.65180559e-02, -3.77209410e-02, -1.70564018e-02,  2.49743741e-03,\n",
      "       -1.81306321e-02, -1.51282351e-03, -5.43425903e-02,  3.04747708e-02,\n",
      "        3.11682038e-02, -9.40426439e-03,  7.99086504e-03, -3.70522812e-02,\n",
      "        3.74581330e-02,  3.65514122e-02, -3.23764607e-02,  2.55150646e-02,\n",
      "       -4.21667397e-02,  6.09492436e-02,  3.03699914e-03, -2.54499987e-02,\n",
      "       -3.88464145e-03, -3.21361050e-02,  2.76077595e-02, -1.35089867e-02,\n",
      "        1.20578129e-02,  4.23471490e-03, -3.67916785e-02, -6.67624641e-03,\n",
      "        4.56560664e-02,  2.65251808e-02, -8.76119081e-03, -1.13253784e-03,\n",
      "        1.26900943e-02,  5.42589501e-02,  5.25270998e-02,  3.96827376e-03,\n",
      "       -2.20945273e-02, -1.64380260e-02, -6.11204607e-03, -6.15245663e-04,\n",
      "        3.73384450e-04,  1.90822538e-02, -2.88117789e-02,  1.34865763e-02,\n",
      "        3.88990692e-03, -2.26750523e-02, -1.34429839e-02,  4.04809508e-03,\n",
      "       -1.41003085e-02,  3.30545455e-02, -1.09331533e-02, -2.31396779e-03,\n",
      "       -3.16411220e-02, -2.01284811e-02, -5.55393323e-02, -3.80913657e-03,\n",
      "       -2.97876038e-02, -2.83429399e-03, -7.91377109e-03,  2.20926991e-03,\n",
      "       -7.86802173e-02,  1.93314329e-02,  3.51815075e-02, -4.55509638e-03,\n",
      "       -9.59215406e-03,  7.50660710e-03,  2.68271863e-02, -9.53288935e-03,\n",
      "        4.23785718e-03, -7.57254437e-02, -8.74810852e-03,  3.71574499e-02,\n",
      "        1.88099649e-02, -4.74291295e-03,  5.13485773e-03, -1.59350578e-02,\n",
      "       -2.73035225e-02,  1.64143797e-02, -3.60715427e-02, -2.77301893e-02,\n",
      "        4.29443717e-02, -3.88123915e-02, -1.00872060e-02,  3.16680269e-03,\n",
      "       -1.17207970e-02,  4.30720076e-02, -2.37239040e-02, -7.13368412e-03,\n",
      "        3.63368206e-02, -5.70446858e-03,  1.08581427e-02,  4.16931286e-02,\n",
      "       -4.76030364e-05, -3.07044365e-06,  2.61048717e-06,  1.90580431e-05,\n",
      "        7.63235039e-06, -6.55665008e-06,  3.17975828e-05,  7.02672605e-06,\n",
      "        1.55278685e-05,  4.00902318e-05, -4.58615887e-06, -6.14930741e-06,\n",
      "        1.96035835e-05, -5.09591737e-05, -5.56038503e-05,  6.35046381e-05,\n",
      "       -1.26925501e-04, -2.52559075e-05,  1.18505064e-04, -1.99443512e-05,\n",
      "        3.01874061e-05,  3.95139105e-05, -1.57966078e-05, -2.60396100e-05,\n",
      "        1.81624328e-05, -3.82615981e-05,  4.60919327e-05, -4.67492464e-06,\n",
      "       -8.55389662e-05, -2.34315630e-05,  5.16002983e-05, -1.00128509e-05,\n",
      "        2.28322442e-05, -1.97852278e-05, -1.02886588e-06,  2.63113325e-05,\n",
      "       -3.90753048e-05,  3.00692773e-06,  1.79939470e-05,  8.60761975e-06,\n",
      "        4.04020420e-06, -2.57581560e-05,  1.11732697e-04,  7.52950564e-06,\n",
      "       -8.09116464e-05, -2.93244352e-06, -3.10478208e-05, -3.92295988e-05,\n",
      "       -7.36266111e-06, -7.62524796e-05,  3.16428668e-05,  1.90816609e-05,\n",
      "       -2.22728122e-05,  1.87220194e-05, -2.89743111e-05,  4.95746135e-05,\n",
      "       -1.47261417e-05, -4.62977150e-05, -8.09704361e-05,  3.55004777e-05,\n",
      "       -3.48925169e-05, -2.70800974e-05,  9.30458336e-05, -7.04197100e-06,\n",
      "        8.14480372e-05, -8.17425098e-06, -3.32487725e-05, -8.46777493e-06,\n",
      "       -2.14410520e-05, -1.34910253e-04, -5.26804652e-05, -2.50987432e-05,\n",
      "       -3.38954596e-05,  1.23794716e-05,  1.43673442e-05,  3.50291994e-05,\n",
      "        1.56218266e-05,  4.46708327e-06, -1.54982336e-05,  1.94646818e-05,\n",
      "       -1.80457664e-05,  2.42840870e-05, -3.26946429e-05, -9.15705641e-06,\n",
      "       -3.16326114e-05, -2.78300704e-05, -1.16953197e-05,  2.34665404e-05,\n",
      "        6.61355734e-05, -3.53798241e-05,  1.06173269e-04,  1.26430605e-05,\n",
      "        6.45638356e-05, -4.34592512e-05,  1.33403046e-06,  2.59213812e-05,\n",
      "       -1.10803929e-04,  1.96035744e-05, -1.31171773e-05,  1.76904905e-05,\n",
      "        6.99368047e-06, -5.34094725e-05, -4.88501064e-05,  1.38357318e-05,\n",
      "        9.95045775e-06, -7.77772511e-05, -1.37823827e-05,  3.28967617e-05,\n",
      "        3.05750291e-05, -2.65752587e-05, -1.36176950e-05, -4.97190331e-06,\n",
      "       -5.42982416e-05, -1.30142143e-05, -1.58706534e-05,  3.28849492e-05,\n",
      "       -6.43460371e-05, -4.39884316e-05,  4.32969246e-05,  2.68711192e-05,\n",
      "       -1.61147873e-05, -8.51781951e-05, -3.29253962e-05, -2.32658713e-05,\n",
      "        9.82032871e-05,  1.26649229e-05, -4.77867707e-06,  4.91677456e-05],\n",
      "      dtype=float32)>, <tf.Tensor: shape=(128, 10000), dtype=float32, numpy=\n",
      "array([[-1.4749311e-03, -8.5781130e-04, -2.0595402e-03, ...,\n",
      "         2.2711106e-06,  2.2726585e-06,  2.2722786e-06],\n",
      "       [ 6.0800032e-04, -8.9703774e-04,  8.7717205e-04, ...,\n",
      "        -2.5452820e-07, -2.5535070e-07, -2.5533902e-07],\n",
      "       [ 2.0191083e-03,  3.1052991e-03,  2.7959622e-03, ...,\n",
      "        -3.8299295e-06, -3.8311305e-06, -3.8314529e-06],\n",
      "       ...,\n",
      "       [ 1.8106480e-04,  6.2374555e-04,  6.0904492e-04, ...,\n",
      "        -1.1072431e-06, -1.1077727e-06, -1.1078885e-06],\n",
      "       [ 1.4481560e-03,  2.0148181e-03,  1.8522025e-04, ...,\n",
      "        -9.7600866e-07, -9.7611814e-07, -9.7403199e-07],\n",
      "       [-1.0127603e-03, -1.0602601e-03, -1.9413140e-03, ...,\n",
      "         2.0944997e-06,  2.0943278e-06,  2.0940361e-06]], dtype=float32)>, <tf.Tensor: shape=(10000,), dtype=float32, numpy=\n",
      "array([-0.79799813, -1.0313314 , -1.0313317 , ...,  0.00199931,\n",
      "        0.00200003,  0.00199978], dtype=float32)>]\n"
     ]
    }
   ],
   "source": [
    "print(grad_t_list)"
   ]
  },
  {
   "cell_type": "markdown",
   "metadata": {
    "button": false,
    "new_sheet": false,
    "run_control": {
     "read_only": false
    }
   },
   "source": [
    "now, we have a list of tensors, t-list. We can use it to find clipped tensors. <b>clip_by_global_norm</b> clips values of multiple tensors by the ratio of the sum of their norms.\n",
    "\n",
    "<b>clip_by_global_norm</b> get <i>t-list</i> as input and returns 2 things:\n",
    "\n",
    "<ul>\n",
    "    <li>a list of clipped tensors, so called <i>list_clipped</i></li> \n",
    "    <li>the global norm (global_norm) of all tensors in t_list</li> \n",
    "</ul>\n"
   ]
  },
  {
   "cell_type": "code",
   "execution_count": 58,
   "metadata": {},
   "outputs": [
    {
     "data": {
      "text/plain": [
       "[<tensorflow.python.framework.indexed_slices.IndexedSlices at 0x7fbe724dd0d0>,\n",
       " <tf.Tensor: shape=(200, 1024), dtype=float32, numpy=\n",
       " array([[-4.2382922e-07, -5.3175683e-07, -8.7412275e-08, ...,\n",
       "         -4.8179771e-07, -1.4475877e-07,  5.7121150e-07],\n",
       "        [-2.4383351e-07,  1.5914269e-07, -3.0061429e-08, ...,\n",
       "          1.0391575e-07,  5.4645602e-07, -7.8750290e-08],\n",
       "        [ 2.2531066e-07, -5.8083458e-07, -6.7664820e-07, ...,\n",
       "         -3.9692247e-07, -5.8373172e-07,  4.4363364e-07],\n",
       "        ...,\n",
       "        [ 2.0410687e-07,  1.1020645e-06,  4.7609313e-07, ...,\n",
       "         -3.8589974e-07,  7.2346904e-07, -4.2455383e-08],\n",
       "        [-4.2384762e-08, -5.6071156e-07, -1.2356909e-07, ...,\n",
       "          1.9772590e-07,  5.0092996e-07,  3.6419357e-07],\n",
       "        [ 4.8042693e-07,  1.1048384e-06,  3.2659835e-07, ...,\n",
       "         -1.7164652e-07,  5.1502667e-07,  2.6324349e-07]], dtype=float32)>,\n",
       " <tf.Tensor: shape=(256, 1024), dtype=float32, numpy=\n",
       " array([[ 3.5157278e-08, -6.9595821e-08,  6.9077075e-08, ...,\n",
       "          7.8475864e-08, -1.7179767e-07, -7.0358148e-08],\n",
       "        [-3.6896822e-08,  2.7938830e-07,  3.3900964e-08, ...,\n",
       "         -9.9573171e-08, -2.8725208e-07,  4.9830206e-08],\n",
       "        [ 1.6281012e-07,  1.6434475e-07,  7.0563097e-08, ...,\n",
       "          5.4768705e-09,  3.8372200e-08, -1.0739271e-08],\n",
       "        ...,\n",
       "        [-1.3453082e-07, -1.3453837e-07, -1.6378721e-08, ...,\n",
       "          1.5451732e-08,  2.9718514e-08, -7.0575652e-09],\n",
       "        [-3.2645536e-07,  2.5825940e-07, -7.5434237e-08, ...,\n",
       "         -1.4146818e-07, -1.0834278e-06, -3.3158607e-08],\n",
       "        [-1.7914140e-07,  3.3048957e-07,  4.0809383e-08, ...,\n",
       "         -7.7712173e-08, -3.9137825e-07, -4.5661608e-09]], dtype=float32)>,\n",
       " <tf.Tensor: shape=(1024,), dtype=float32, numpy=\n",
       " array([ 1.5929480e-05, -1.0132184e-05,  2.2864584e-05, ...,\n",
       "         1.9279183e-05,  6.5978165e-05,  6.1878636e-06], dtype=float32)>,\n",
       " <tf.Tensor: shape=(256, 512), dtype=float32, numpy=\n",
       " array([[-7.29954479e-08,  1.09888084e-07,  6.56983303e-08, ...,\n",
       "         -4.72468145e-08, -1.63376427e-07, -5.78730166e-08],\n",
       "        [-2.47950496e-08, -3.66452433e-08,  3.93468502e-09, ...,\n",
       "         -1.10811698e-08, -8.15769354e-08, -2.44309689e-07],\n",
       "        [ 1.17680585e-07,  5.47815020e-08,  1.27877968e-07, ...,\n",
       "          9.96368499e-08,  1.94285235e-07,  4.32067182e-09],\n",
       "        ...,\n",
       "        [ 2.31175051e-07, -7.43282946e-09, -1.37388994e-07, ...,\n",
       "          5.29544053e-09, -1.09285679e-07, -1.13588143e-07],\n",
       "        [ 1.10764397e-07, -1.06138074e-07, -1.42765288e-07, ...,\n",
       "         -2.16761123e-07, -1.29603123e-07, -1.75975188e-07],\n",
       "        [ 4.03593248e-08, -4.73748187e-08, -4.41241568e-08, ...,\n",
       "         -1.62117630e-07,  6.84582258e-09, -1.41395688e-07]], dtype=float32)>,\n",
       " <tf.Tensor: shape=(128, 512), dtype=float32, numpy=\n",
       " array([[-1.98331819e-07,  7.29390663e-08,  2.71742309e-08, ...,\n",
       "         -8.19245116e-09, -1.37025722e-07,  1.90575278e-07],\n",
       "        [ 2.28951276e-08,  9.09283813e-08,  9.87905224e-08, ...,\n",
       "         -8.56772786e-09, -5.34504352e-08, -4.79449724e-08],\n",
       "        [ 6.84304950e-08,  1.23743320e-07, -3.58983208e-08, ...,\n",
       "         -1.42171590e-08,  1.15087587e-07, -8.47255919e-08],\n",
       "        ...,\n",
       "        [ 7.10478361e-08, -1.03264156e-07, -4.12168575e-08, ...,\n",
       "         -3.57447192e-08, -5.16554479e-08, -5.11737035e-08],\n",
       "        [ 1.14425234e-07, -1.00833077e-07, -6.35938804e-08, ...,\n",
       "         -1.48876858e-08,  2.14994913e-07,  4.85272373e-08],\n",
       "        [-2.21868774e-07,  4.47461019e-08,  5.26642907e-08, ...,\n",
       "         -3.69131001e-08, -8.36689011e-08,  2.65211440e-07]], dtype=float32)>,\n",
       " <tf.Tensor: shape=(512,), dtype=float32, numpy=\n",
       " array([-4.82980759e-05, -1.36816800e-06,  4.68821145e-06,  1.30548269e-05,\n",
       "         5.73764646e-06,  3.55084194e-06,  1.86018588e-05,  8.27612439e-06,\n",
       "         1.26813957e-05,  4.32115448e-05, -6.31266494e-06, -2.04339267e-06,\n",
       "         2.41974813e-05, -4.03562190e-05, -3.88903936e-05,  4.92056934e-05,\n",
       "        -1.08682550e-04, -2.24651703e-05,  1.00576712e-04, -2.44694602e-05,\n",
       "         2.91152573e-05,  2.98204013e-05, -1.31974857e-05, -3.37670135e-05,\n",
       "         1.66318805e-05, -3.87475447e-05,  4.52842578e-05, -4.70328496e-06,\n",
       "        -8.53593810e-05, -2.68699041e-05,  4.49366635e-05, -7.75516128e-06,\n",
       "         1.62281012e-05, -1.40413067e-05, -2.17311026e-06,  3.41303567e-05,\n",
       "        -2.92860859e-05,  1.38069745e-05,  1.30490089e-05,  1.16641731e-05,\n",
       "         4.70629448e-06, -2.44560179e-05,  9.90248955e-05,  4.21146069e-06,\n",
       "        -7.88950929e-05, -8.12923281e-06, -2.20398560e-05, -4.28288040e-05,\n",
       "        -1.02539689e-05, -5.81155909e-05,  2.88515366e-05,  6.98327949e-06,\n",
       "        -1.55532707e-05,  1.15419662e-05, -2.64851005e-05,  4.63307624e-05,\n",
       "        -2.61257628e-06, -3.92234142e-05, -6.18078120e-05,  2.42587448e-05,\n",
       "        -1.94140794e-05, -2.64107803e-05,  8.64120739e-05, -5.49715060e-06,\n",
       "         8.02045179e-05, -9.40378777e-06, -3.35698714e-05, -8.42632289e-06,\n",
       "        -1.95862376e-05, -1.18392942e-04, -5.45699659e-05, -2.28321242e-05,\n",
       "        -2.26121720e-05,  1.60783875e-05,  4.36175560e-06,  2.91319302e-05,\n",
       "         1.12312500e-05,  9.92207060e-06, -9.78339904e-06,  2.08671572e-05,\n",
       "        -6.81363917e-06,  1.08698650e-05, -2.63955226e-05, -8.42025020e-06,\n",
       "        -2.67562391e-05, -2.59723492e-05, -9.64863284e-06,  1.54153604e-05,\n",
       "         6.53194656e-05, -3.21128718e-05,  9.59525933e-05,  1.25310908e-05,\n",
       "         4.73256514e-05, -3.94805902e-05, -5.83883957e-06,  2.45912997e-05,\n",
       "        -9.93553840e-05,  1.40738111e-05, -1.13286501e-06,  1.75626265e-05,\n",
       "         1.13489386e-06, -4.26831830e-05, -5.58180400e-05,  1.05405579e-05,\n",
       "         6.86142539e-06, -6.22034277e-05, -1.49077305e-05,  3.72641152e-05,\n",
       "         2.77136005e-05, -2.91047163e-05, -1.76537014e-05, -7.22472896e-06,\n",
       "        -4.35903057e-05, -7.93204526e-06, -8.61670469e-06,  2.56190397e-05,\n",
       "        -5.43450587e-05, -2.63528236e-05,  3.17053382e-05,  2.26122938e-05,\n",
       "        -7.87117278e-06, -6.97813375e-05, -2.18591176e-05, -2.58909113e-05,\n",
       "         8.86719863e-05,  1.06476946e-05, -1.32165615e-05,  4.25583276e-05,\n",
       "        -4.71172170e-05, -9.47928766e-06,  1.75719706e-05,  1.63761124e-05,\n",
       "         2.09539921e-05,  2.07160501e-05,  7.68958853e-05,  1.20285395e-05,\n",
       "         1.97259033e-05,  2.18038913e-05,  5.26102485e-06, -6.72341685e-06,\n",
       "         3.90413479e-05, -3.92973452e-05, -7.14551206e-05,  7.22445548e-05,\n",
       "        -1.67455379e-04, -4.37225099e-05,  1.64963203e-04, -4.08786109e-05,\n",
       "         3.39388243e-05,  4.74637200e-05, -2.50847261e-05, -5.72843201e-05,\n",
       "         1.33780068e-05, -2.03247146e-05,  4.80141753e-05, -1.59952488e-05,\n",
       "        -9.96358285e-05, -4.70375962e-05,  4.30806685e-05, -1.10102737e-05,\n",
       "         1.29407235e-05, -8.67037852e-06, -5.63323783e-06,  4.85102828e-05,\n",
       "        -1.05345061e-05, -7.17293005e-06,  8.24528070e-06,  2.17401084e-05,\n",
       "        -1.91592935e-05, -2.71019380e-05,  9.27461660e-05,  1.66599202e-05,\n",
       "        -1.05988693e-04, -4.69490033e-06, -4.59026342e-05, -2.29984180e-05,\n",
       "         1.66083055e-06, -7.04989652e-05,  4.94877677e-05,  1.46163129e-05,\n",
       "        -2.62193207e-05,  5.29036006e-05, -2.13195963e-05,  6.38461206e-05,\n",
       "        -1.35583205e-05, -4.93960761e-05, -7.30765169e-05,  3.64279258e-05,\n",
       "        -3.78183104e-05, -2.55406994e-05,  1.20320721e-04, -4.81944653e-06,\n",
       "         1.36665141e-04, -2.79620854e-05, -7.14653361e-05,  1.08411132e-05,\n",
       "        -2.52919635e-05, -1.80620380e-04, -5.50975674e-05, -1.33973153e-05,\n",
       "        -4.26281586e-05,  7.93656000e-06,  3.05826052e-06,  2.06938712e-05,\n",
       "         2.31093836e-05,  2.30413025e-06, -6.88887667e-07,  2.41981197e-05,\n",
       "         8.00201087e-06,  3.29400209e-05, -4.73932814e-05, -2.75987386e-05,\n",
       "        -6.69685687e-05, -4.69365805e-05, -2.30513542e-05,  1.93305532e-05,\n",
       "         7.03123951e-05, -6.56080447e-05,  1.77495240e-04,  1.59024676e-05,\n",
       "         8.01260830e-05, -5.24978823e-05, -5.21196262e-06,  3.77725955e-05,\n",
       "        -1.40567456e-04,  1.55500220e-05, -3.14700337e-05,  1.03977973e-05,\n",
       "         1.84815035e-05, -4.61997843e-05, -3.10730647e-05,  1.67797316e-06,\n",
       "         2.85381593e-05, -1.20639743e-04,  3.14076578e-06,  2.90171829e-05,\n",
       "         4.37905910e-05, -2.71475838e-05, -1.06059247e-06, -1.20843742e-05,\n",
       "        -6.06677168e-05, -1.48240897e-05, -7.33478737e-06,  3.92227375e-05,\n",
       "        -6.56046468e-05, -2.71039917e-05,  5.94571102e-05,  2.93420817e-05,\n",
       "        -5.27990123e-05, -7.30080792e-05, -5.25172691e-05, -6.12225340e-05,\n",
       "         9.93997091e-05,  4.80505241e-06,  9.74108843e-06,  6.52776653e-05,\n",
       "        -1.23463506e-02,  1.52621595e-02, -1.65627617e-03,  1.29867503e-02,\n",
       "        -6.84243999e-03, -2.69683637e-02, -1.21861622e-02, -2.89026462e-02,\n",
       "        -2.45218426e-02, -1.26429033e-02, -8.34872480e-03,  1.99859422e-02,\n",
       "        -1.61463507e-02, -4.09658588e-02, -3.05289105e-02,  4.74430919e-02,\n",
       "        -5.97802363e-02, -5.21824099e-02,  4.61564213e-02,  4.81570959e-02,\n",
       "        -1.34102535e-02,  1.23612229e-02,  2.30410360e-02,  1.88890919e-02,\n",
       "        -3.36083733e-02,  3.67641151e-02,  2.65412685e-02,  3.32447402e-02,\n",
       "        -3.94145027e-02, -5.85636450e-03, -3.14917639e-02,  3.30797397e-04,\n",
       "        -1.84526369e-02,  4.21353336e-03, -6.43296726e-03,  2.45477967e-02,\n",
       "        -3.65180559e-02, -3.77209410e-02, -1.70564018e-02,  2.49743741e-03,\n",
       "        -1.81306321e-02, -1.51282351e-03, -5.43425903e-02,  3.04747708e-02,\n",
       "         3.11682038e-02, -9.40426439e-03,  7.99086504e-03, -3.70522812e-02,\n",
       "         3.74581330e-02,  3.65514122e-02, -3.23764607e-02,  2.55150646e-02,\n",
       "        -4.21667397e-02,  6.09492436e-02,  3.03699914e-03, -2.54499987e-02,\n",
       "        -3.88464145e-03, -3.21361050e-02,  2.76077595e-02, -1.35089867e-02,\n",
       "         1.20578129e-02,  4.23471490e-03, -3.67916785e-02, -6.67624641e-03,\n",
       "         4.56560664e-02,  2.65251808e-02, -8.76119081e-03, -1.13253784e-03,\n",
       "         1.26900943e-02,  5.42589501e-02,  5.25270998e-02,  3.96827376e-03,\n",
       "        -2.20945273e-02, -1.64380260e-02, -6.11204607e-03, -6.15245663e-04,\n",
       "         3.73384450e-04,  1.90822538e-02, -2.88117789e-02,  1.34865763e-02,\n",
       "         3.88990692e-03, -2.26750523e-02, -1.34429839e-02,  4.04809508e-03,\n",
       "        -1.41003085e-02,  3.30545455e-02, -1.09331533e-02, -2.31396779e-03,\n",
       "        -3.16411220e-02, -2.01284811e-02, -5.55393323e-02, -3.80913657e-03,\n",
       "        -2.97876038e-02, -2.83429399e-03, -7.91377109e-03,  2.20926991e-03,\n",
       "        -7.86802173e-02,  1.93314329e-02,  3.51815075e-02, -4.55509638e-03,\n",
       "        -9.59215406e-03,  7.50660710e-03,  2.68271863e-02, -9.53288935e-03,\n",
       "         4.23785718e-03, -7.57254437e-02, -8.74810852e-03,  3.71574499e-02,\n",
       "         1.88099649e-02, -4.74291295e-03,  5.13485773e-03, -1.59350578e-02,\n",
       "        -2.73035225e-02,  1.64143797e-02, -3.60715427e-02, -2.77301893e-02,\n",
       "         4.29443717e-02, -3.88123915e-02, -1.00872060e-02,  3.16680269e-03,\n",
       "        -1.17207970e-02,  4.30720076e-02, -2.37239040e-02, -7.13368412e-03,\n",
       "         3.63368206e-02, -5.70446858e-03,  1.08581427e-02,  4.16931286e-02,\n",
       "        -4.76030364e-05, -3.07044365e-06,  2.61048717e-06,  1.90580431e-05,\n",
       "         7.63235039e-06, -6.55665008e-06,  3.17975828e-05,  7.02672605e-06,\n",
       "         1.55278685e-05,  4.00902318e-05, -4.58615887e-06, -6.14930741e-06,\n",
       "         1.96035835e-05, -5.09591737e-05, -5.56038503e-05,  6.35046381e-05,\n",
       "        -1.26925501e-04, -2.52559075e-05,  1.18505064e-04, -1.99443512e-05,\n",
       "         3.01874061e-05,  3.95139105e-05, -1.57966078e-05, -2.60396100e-05,\n",
       "         1.81624328e-05, -3.82615981e-05,  4.60919327e-05, -4.67492464e-06,\n",
       "        -8.55389662e-05, -2.34315630e-05,  5.16002983e-05, -1.00128509e-05,\n",
       "         2.28322442e-05, -1.97852278e-05, -1.02886588e-06,  2.63113325e-05,\n",
       "        -3.90753048e-05,  3.00692773e-06,  1.79939470e-05,  8.60761975e-06,\n",
       "         4.04020420e-06, -2.57581560e-05,  1.11732697e-04,  7.52950564e-06,\n",
       "        -8.09116464e-05, -2.93244352e-06, -3.10478208e-05, -3.92295988e-05,\n",
       "        -7.36266111e-06, -7.62524796e-05,  3.16428668e-05,  1.90816609e-05,\n",
       "        -2.22728122e-05,  1.87220194e-05, -2.89743111e-05,  4.95746135e-05,\n",
       "        -1.47261417e-05, -4.62977150e-05, -8.09704361e-05,  3.55004777e-05,\n",
       "        -3.48925169e-05, -2.70800974e-05,  9.30458336e-05, -7.04197100e-06,\n",
       "         8.14480372e-05, -8.17425098e-06, -3.32487725e-05, -8.46777493e-06,\n",
       "        -2.14410520e-05, -1.34910253e-04, -5.26804652e-05, -2.50987432e-05,\n",
       "        -3.38954596e-05,  1.23794716e-05,  1.43673442e-05,  3.50291994e-05,\n",
       "         1.56218266e-05,  4.46708327e-06, -1.54982336e-05,  1.94646818e-05,\n",
       "        -1.80457664e-05,  2.42840870e-05, -3.26946429e-05, -9.15705641e-06,\n",
       "        -3.16326114e-05, -2.78300704e-05, -1.16953197e-05,  2.34665404e-05,\n",
       "         6.61355734e-05, -3.53798241e-05,  1.06173269e-04,  1.26430605e-05,\n",
       "         6.45638356e-05, -4.34592512e-05,  1.33403046e-06,  2.59213812e-05,\n",
       "        -1.10803929e-04,  1.96035744e-05, -1.31171773e-05,  1.76904905e-05,\n",
       "         6.99368047e-06, -5.34094725e-05, -4.88501064e-05,  1.38357318e-05,\n",
       "         9.95045775e-06, -7.77772511e-05, -1.37823827e-05,  3.28967617e-05,\n",
       "         3.05750291e-05, -2.65752587e-05, -1.36176950e-05, -4.97190331e-06,\n",
       "        -5.42982416e-05, -1.30142143e-05, -1.58706534e-05,  3.28849492e-05,\n",
       "        -6.43460371e-05, -4.39884316e-05,  4.32969246e-05,  2.68711192e-05,\n",
       "        -1.61147873e-05, -8.51781951e-05, -3.29253962e-05, -2.32658713e-05,\n",
       "         9.82032871e-05,  1.26649229e-05, -4.77867707e-06,  4.91677456e-05],\n",
       "       dtype=float32)>,\n",
       " <tf.Tensor: shape=(128, 10000), dtype=float32, numpy=\n",
       " array([[-1.4749311e-03, -8.5781130e-04, -2.0595402e-03, ...,\n",
       "          2.2711106e-06,  2.2726585e-06,  2.2722786e-06],\n",
       "        [ 6.0800032e-04, -8.9703774e-04,  8.7717205e-04, ...,\n",
       "         -2.5452820e-07, -2.5535070e-07, -2.5533902e-07],\n",
       "        [ 2.0191083e-03,  3.1052991e-03,  2.7959622e-03, ...,\n",
       "         -3.8299295e-06, -3.8311305e-06, -3.8314529e-06],\n",
       "        ...,\n",
       "        [ 1.8106480e-04,  6.2374555e-04,  6.0904492e-04, ...,\n",
       "         -1.1072431e-06, -1.1077727e-06, -1.1078885e-06],\n",
       "        [ 1.4481560e-03,  2.0148181e-03,  1.8522025e-04, ...,\n",
       "         -9.7600866e-07, -9.7611814e-07, -9.7403199e-07],\n",
       "        [-1.0127603e-03, -1.0602601e-03, -1.9413140e-03, ...,\n",
       "          2.0944997e-06,  2.0943278e-06,  2.0940361e-06]], dtype=float32)>,\n",
       " <tf.Tensor: shape=(10000,), dtype=float32, numpy=\n",
       " array([-0.79799813, -1.0313314 , -1.0313317 , ...,  0.00199931,\n",
       "         0.00200003,  0.00199978], dtype=float32)>]"
      ]
     },
     "execution_count": 58,
     "metadata": {},
     "output_type": "execute_result"
    }
   ],
   "source": [
    "# Define the gradient clipping threshold\n",
    "grads, _ = tf.clip_by_global_norm(grad_t_list, max_grad_norm)\n",
    "grads"
   ]
  },
  {
   "cell_type": "markdown",
   "metadata": {},
   "source": [
    "<h4> 4.Apply the optimizer to the variables/gradients tuple. </h4>\n"
   ]
  },
  {
   "cell_type": "code",
   "execution_count": 59,
   "metadata": {},
   "outputs": [],
   "source": [
    "# Create the training TensorFlow Operation through our optimizer\n",
    "train_op = optimizer.apply_gradients(zip(grads, tvars))"
   ]
  },
  {
   "cell_type": "markdown",
   "metadata": {},
   "source": [
    "<a id=\"ltsm\"></a>\n",
    "\n",
    "<h2>LSTM</h2>\n"
   ]
  },
  {
   "cell_type": "markdown",
   "metadata": {
    "button": false,
    "deletable": true,
    "new_sheet": false,
    "run_control": {
     "read_only": false
    }
   },
   "source": [
    "We learned how the model is build step by step. Noe, let's then create a Class that represents our model. This class needs a few things:\n",
    "\n",
    "<ul>\n",
    "    <li>We have to create the model in accordance with our defined hyperparameters</li>\n",
    "    <li>We have to create the LSTM cell structure and connect them with our RNN structure</li>\n",
    "    <li>We have to create the word embeddings and point them to the input data</li>\n",
    "    <li>We have to create the input structure for our RNN</li>\n",
    "    <li>We need to create a logistic structure to return the probability of our words</li>\n",
    "    <li>We need to create the loss and cost functions for our optimizer to work, and then create the optimizer</li>\n",
    "    <li>And finally, we need to create a training operation that can be run to actually train our model</li>\n",
    "</ul>\n"
   ]
  },
  {
   "cell_type": "code",
   "execution_count": 60,
   "metadata": {
    "button": false,
    "deletable": true,
    "new_sheet": false,
    "run_control": {
     "read_only": false
    },
    "tags": []
   },
   "outputs": [],
   "source": [
    "class PTBModel(object):\n",
    "\n",
    "\n",
    "    def __init__(self):\n",
    "        ######################################\n",
    "        # Setting parameters for ease of use #\n",
    "        ######################################\n",
    "        self.batch_size = batch_size\n",
    "        self.num_steps = num_steps\n",
    "        self.hidden_size_l1 = hidden_size_l1\n",
    "        self.hidden_size_l2 = hidden_size_l2\n",
    "        self.vocab_size = vocab_size\n",
    "        self.embeding_vector_size = embeding_vector_size\n",
    "        # Create a variable for the learning rate\n",
    "        self._lr = 1.0\n",
    "        \n",
    "        ###############################################################################\n",
    "        # Initializing the model using keras Sequential API  #\n",
    "        ###############################################################################\n",
    "        \n",
    "        self._model = tf.keras.models.Sequential()\n",
    "        \n",
    "        ####################################################################\n",
    "        # Creating the word embeddings layer and adding it to the sequence #\n",
    "        ####################################################################\n",
    "        with tf.device(\"/cpu:0\"):\n",
    "            # Create the embeddings for our input data. Size is hidden size.\n",
    "            self._embedding_layer = tf.keras.layers.Embedding(self.vocab_size, self.embeding_vector_size,batch_input_shape=(self.batch_size, self.num_steps),trainable=True,name=\"embedding_vocab\")  #[10000x200]\n",
    "            self._model.add(self._embedding_layer)\n",
    "            \n",
    "\n",
    "        ##########################################################################\n",
    "        # Creating the LSTM cell structure and connect it with the RNN structure #\n",
    "        ##########################################################################\n",
    "        # Create the LSTM Cells. \n",
    "        # This creates only the structure for the LSTM and has to be associated with a RNN unit still.\n",
    "        # The argument  of LSTMCell is size of hidden layer, that is, the number of hidden units of the LSTM (inside A). \n",
    "        # LSTM cell processes one word at a time and computes probabilities of the possible continuations of the sentence.\n",
    "        lstm_cell_l1 = tf.keras.layers.LSTMCell(hidden_size_l1)\n",
    "        lstm_cell_l2 = tf.keras.layers.LSTMCell(hidden_size_l2)\n",
    "        \n",
    "\n",
    "        \n",
    "        # By taking in the LSTM cells as parameters, the StackedRNNCells function junctions the LSTM units to the RNN units.\n",
    "        # RNN cell composed sequentially of stacked simple cells.\n",
    "        stacked_lstm = tf.keras.layers.StackedRNNCells([lstm_cell_l1, lstm_cell_l2])\n",
    "\n",
    "\n",
    "        \n",
    "\n",
    "        ############################################\n",
    "        # Creating the input structure for our RNN #\n",
    "        ############################################\n",
    "        # Input structure is 20x[30x200]\n",
    "        # Considering each word is represended by a 200 dimentional vector, and we have 30 batchs, we create 30 word-vectors of size [30xx2000]\n",
    "        # The input structure is fed from the embeddings, which are filled in by the input data\n",
    "        # Feeding a batch of b sentences to a RNN:\n",
    "        # In step 1,  first word of each of the b sentences (in a batch) is input in parallel.  \n",
    "        # In step 2,  second word of each of the b sentences is input in parallel. \n",
    "        # The parallelism is only for efficiency.  \n",
    "        # Each sentence in a batch is handled in parallel, but the network sees one word of a sentence at a time and does the computations accordingly. \n",
    "        # All the computations involving the words of all sentences in a batch at a given time step are done in parallel. \n",
    "\n",
    "        ########################################################################################################\n",
    "        # Instantiating our RNN model and setting stateful to True to feed forward the state to the next layer #\n",
    "        ########################################################################################################\n",
    "        \n",
    "        self._RNNlayer  =  tf.keras.layers.RNN(stacked_lstm,[batch_size, num_steps],return_state=False,stateful=True,trainable=True)\n",
    "        \n",
    "        # Define the initial state, i.e., the model state for the very first data point\n",
    "        # It initialize the state of the LSTM memory. The memory state of the network is initialized with a vector of zeros and gets updated after reading each word.\n",
    "        self._initial_state = tf.Variable(tf.zeros([batch_size,embeding_vector_size]),trainable=False)\n",
    "        self._RNNlayer.inital_state = self._initial_state\n",
    "    \n",
    "        ############################################\n",
    "        # Adding RNN layer to keras sequential API #\n",
    "        ############################################        \n",
    "        self._model.add(self._RNNlayer)\n",
    "        \n",
    "        #self._model.add(tf.keras.layers.LSTM(hidden_size_l1,return_sequences=True,stateful=True))\n",
    "        #self._model.add(tf.keras.layers.LSTM(hidden_size_l2,return_sequences=True))\n",
    "        \n",
    "        \n",
    "        ####################################################################################################\n",
    "        # Instantiating a Dense layer that connects the output to the vocab_size  and adding layer to model#\n",
    "        ####################################################################################################\n",
    "        self._dense = tf.keras.layers.Dense(self.vocab_size)\n",
    "        self._model.add(self._dense)\n",
    " \n",
    "        \n",
    "        ####################################################################################################\n",
    "        # Adding softmax activation layer and deriving probability to each class and adding layer to model #\n",
    "        ####################################################################################################\n",
    "        self._activation = tf.keras.layers.Activation('softmax')\n",
    "        self._model.add(self._activation)\n",
    "\n",
    "        ##########################################################\n",
    "        # Instantiating the stochastic gradient decent optimizer #\n",
    "        ########################################################## \n",
    "        self._optimizer = tf.keras.optimizers.SGD(lr=self._lr, clipnorm=max_grad_norm)\n",
    "        \n",
    "        \n",
    "        ##############################################################################\n",
    "        # Compiling and summarizing the model stacked using the keras sequential API #\n",
    "        ##############################################################################\n",
    "        self._model.compile(loss=self.crossentropy, optimizer=self._optimizer)\n",
    "        self._model.summary()\n",
    "\n",
    "\n",
    "    def crossentropy(self,y_true, y_pred):\n",
    "        return tf.keras.losses.sparse_categorical_crossentropy(y_true, y_pred)\n",
    "\n",
    "    def train_batch(self,_input_data,_targets):\n",
    "        #################################################\n",
    "        # Creating the Training Operation for our Model #\n",
    "        #################################################\n",
    "        # Create a variable for the learning rate\n",
    "        self._lr = tf.Variable(0.0, trainable=False)\n",
    "        # Get all TensorFlow variables marked as \"trainable\" (i.e. all of them except _lr, which we just created)\n",
    "        tvars = self._model.trainable_variables\n",
    "        # Define the gradient clipping threshold\n",
    "        with tf.GradientTape() as tape:\n",
    "            # Forward pass.\n",
    "            output_words_prob = self._model(_input_data)\n",
    "            # Loss value for this batch.\n",
    "            loss  = self.crossentropy(_targets, output_words_prob)\n",
    "            # average across batch and reduce sum\n",
    "            cost = tf.reduce_sum(loss/ self.batch_size)\n",
    "        # Get gradients of loss wrt the trainable variables.\n",
    "        grad_t_list = tape.gradient(cost, tvars)\n",
    "        # Define the gradient clipping threshold\n",
    "        grads, _ = tf.clip_by_global_norm(grad_t_list, max_grad_norm)\n",
    "        # Create the training TensorFlow Operation through our optimizer\n",
    "        train_op = self._optimizer.apply_gradients(zip(grads, tvars))\n",
    "        return cost\n",
    "        \n",
    "    def test_batch(self,_input_data,_targets):\n",
    "        #################################################\n",
    "        # Creating the Testing Operation for our Model #\n",
    "        #################################################\n",
    "        output_words_prob = self._model(_input_data)\n",
    "        loss  = self.crossentropy(_targets, output_words_prob)\n",
    "        # average across batch and reduce sum\n",
    "        cost = tf.reduce_sum(loss/ self.batch_size)\n",
    "\n",
    "        return cost\n",
    "    @classmethod\n",
    "    def instance(cls) : \n",
    "        return PTBModel()"
   ]
  },
  {
   "cell_type": "markdown",
   "metadata": {
    "button": false,
    "deletable": true,
    "new_sheet": false,
    "run_control": {
     "read_only": false
    }
   },
   "source": [
    "With that, the actual structure of our Recurrent Neural Network with Long Short-Term Memory is finished. What remains for us to do is to actually create the methods to run through time -- that is, the <code>run_epoch</code> method to be run at each epoch and a <code>main</code> script which ties all of this together.\n",
    "\n",
    "What our <code>run_epoch</code> method should do is take our input data and feed it to the relevant operations. This will return at the very least the current result for the cost function.\n"
   ]
  },
  {
   "cell_type": "code",
   "execution_count": 61,
   "metadata": {
    "button": false,
    "deletable": true,
    "new_sheet": false,
    "run_control": {
     "read_only": false
    }
   },
   "outputs": [],
   "source": [
    "\n",
    "########################################################################################################################\n",
    "# run_one_epoch takes as parameters  the model instance, the data to be fed, training or testing mode and verbose info #\n",
    "########################################################################################################################\n",
    "def run_one_epoch(m, data,is_training=True,verbose=False):\n",
    "\n",
    "    #Define the epoch size based on the length of the data, batch size and the number of steps\n",
    "    epoch_size = ((len(data) // m.batch_size) - 1) // m.num_steps\n",
    "    start_time = time.time()\n",
    "    costs = 0.\n",
    "    iters = 0\n",
    "    \n",
    "    m._model.reset_states()\n",
    "    \n",
    "    #For each step and data point\n",
    "    for step, (x, y) in enumerate(reader.ptb_iterator(data, m.batch_size, m.num_steps)):\n",
    "        \n",
    "        #Evaluate and return cost, state by running cost, final_state and the function passed as parameter\n",
    "        #y = tf.keras.utils.to_categorical(y, num_classes=vocab_size)\n",
    "        if is_training : \n",
    "            loss=  m.train_batch(x, y)\n",
    "        else :\n",
    "            loss = m.test_batch(x, y)\n",
    "                                   \n",
    "\n",
    "        #Add returned cost to costs (which keeps track of the total costs for this epoch)\n",
    "        costs += loss\n",
    "        \n",
    "        #Add number of steps to iteration counter\n",
    "        iters += m.num_steps\n",
    "\n",
    "        if verbose and step % (epoch_size // 10) == 10:\n",
    "            print(\"Itr %d of %d, perplexity: %.3f speed: %.0f wps\" % (step , epoch_size, np.exp(costs / iters), iters * m.batch_size / (time.time() - start_time)))\n",
    "        \n",
    "\n",
    "\n",
    "    # Returns the Perplexity rating for us to keep track of how the model is evolving\n",
    "    return np.exp(costs / iters)\n"
   ]
  },
  {
   "cell_type": "markdown",
   "metadata": {
    "button": false,
    "deletable": true,
    "new_sheet": false,
    "run_control": {
     "read_only": false
    }
   },
   "source": [
    "Now, we create the <code>main</code> method to tie everything together. The code here reads the data from the directory, using the <code>reader</code> helper module, and then trains and evaluates the model on both a testing and a validating subset of data.\n"
   ]
  },
  {
   "cell_type": "code",
   "execution_count": 62,
   "metadata": {
    "button": false,
    "deletable": true,
    "new_sheet": false,
    "run_control": {
     "read_only": false
    },
    "tags": []
   },
   "outputs": [],
   "source": [
    "# Reads the data and separates it into training data, validation data and testing data\n",
    "raw_data = reader.ptb_raw_data(data_dir)\n",
    "train_data, valid_data, test_data, _, _ = raw_data"
   ]
  },
  {
   "cell_type": "code",
   "execution_count": 63,
   "metadata": {
    "tags": []
   },
   "outputs": [
    {
     "name": "stdout",
     "output_type": "stream",
     "text": [
      "Model: \"sequential_1\"\n",
      "_________________________________________________________________\n",
      "Layer (type)                 Output Shape              Param #   \n",
      "=================================================================\n",
      "embedding_vocab (Embedding)  (30, 20, 200)             2000000   \n",
      "_________________________________________________________________\n",
      "rnn_1 (RNN)                  (30, 20, 128)             671088    \n",
      "_________________________________________________________________\n",
      "dense_1 (Dense)              (30, 20, 10000)           1290000   \n",
      "_________________________________________________________________\n",
      "activation_1 (Activation)    (30, 20, 10000)           0         \n",
      "=================================================================\n",
      "Total params: 3,961,088\n",
      "Trainable params: 3,955,088\n",
      "Non-trainable params: 6,000\n",
      "_________________________________________________________________\n",
      "Epoch 1 : Learning rate: 1.000\n",
      "Itr 10 of 1549, perplexity: 4353.061 speed: 976 wps\n",
      "Itr 164 of 1549, perplexity: 1111.340 speed: 955 wps\n",
      "Itr 318 of 1549, perplexity: 887.617 speed: 977 wps\n",
      "Itr 472 of 1549, perplexity: 749.924 speed: 971 wps\n",
      "Itr 626 of 1549, perplexity: 639.662 speed: 955 wps\n",
      "Itr 780 of 1549, perplexity: 568.413 speed: 968 wps\n",
      "Itr 934 of 1549, perplexity: 512.711 speed: 985 wps\n",
      "Itr 1088 of 1549, perplexity: 471.153 speed: 1009 wps\n",
      "Itr 1242 of 1549, perplexity: 439.303 speed: 1025 wps\n",
      "Itr 1396 of 1549, perplexity: 409.439 speed: 1035 wps\n",
      "Epoch 1 : Train Perplexity: 385.605\n",
      "Epoch 1 : Valid Perplexity: 226.756\n",
      "Epoch 2 : Learning rate: 1.000\n",
      "Itr 10 of 1549, perplexity: 252.698 speed: 1102 wps\n",
      "Itr 164 of 1549, perplexity: 224.443 speed: 1118 wps\n",
      "Itr 318 of 1549, perplexity: 216.359 speed: 1120 wps\n",
      "Itr 472 of 1549, perplexity: 207.592 speed: 1121 wps\n",
      "Itr 626 of 1549, perplexity: 198.093 speed: 1120 wps\n",
      "Itr 780 of 1549, perplexity: 193.982 speed: 1118 wps\n",
      "Itr 934 of 1549, perplexity: 189.612 speed: 1119 wps\n",
      "Itr 1088 of 1549, perplexity: 185.862 speed: 1118 wps\n",
      "Itr 1242 of 1549, perplexity: 183.207 speed: 1118 wps\n",
      "Itr 1396 of 1549, perplexity: 178.741 speed: 1118 wps\n",
      "Epoch 2 : Train Perplexity: 175.456\n",
      "Epoch 2 : Valid Perplexity: 167.613\n",
      "Epoch 3 : Learning rate: 1.000\n",
      "Itr 10 of 1549, perplexity: 171.791 speed: 1098 wps\n",
      "Itr 164 of 1549, perplexity: 155.167 speed: 1116 wps\n",
      "Itr 318 of 1549, perplexity: 151.170 speed: 1120 wps\n",
      "Itr 472 of 1549, perplexity: 146.497 speed: 1121 wps\n",
      "Itr 626 of 1549, perplexity: 140.946 speed: 1121 wps\n",
      "Itr 780 of 1549, perplexity: 139.692 speed: 1120 wps\n",
      "Itr 934 of 1549, perplexity: 137.865 speed: 1118 wps\n",
      "Itr 1088 of 1549, perplexity: 136.173 speed: 1117 wps\n",
      "Itr 1242 of 1549, perplexity: 135.254 speed: 1118 wps\n",
      "Itr 1396 of 1549, perplexity: 132.886 speed: 1117 wps\n",
      "Epoch 3 : Train Perplexity: 131.440\n",
      "Epoch 3 : Valid Perplexity: 149.914\n",
      "Epoch 4 : Learning rate: 1.000\n",
      "Itr 10 of 1549, perplexity: 139.050 speed: 1106 wps\n",
      "Itr 164 of 1549, perplexity: 126.042 speed: 1116 wps\n",
      "Itr 318 of 1549, perplexity: 123.413 speed: 1121 wps\n",
      "Itr 472 of 1549, perplexity: 119.814 speed: 1123 wps\n",
      "Itr 626 of 1549, perplexity: 115.642 speed: 1123 wps\n",
      "Itr 780 of 1549, perplexity: 115.077 speed: 1122 wps\n",
      "Itr 934 of 1549, perplexity: 114.029 speed: 1122 wps\n",
      "Itr 1088 of 1549, perplexity: 112.954 speed: 1122 wps\n",
      "Itr 1242 of 1549, perplexity: 112.515 speed: 1122 wps\n",
      "Itr 1396 of 1549, perplexity: 110.818 speed: 1121 wps\n",
      "Epoch 4 : Train Perplexity: 109.954\n",
      "Epoch 4 : Valid Perplexity: 138.476\n",
      "Epoch 5 : Learning rate: 1.000\n",
      "Itr 10 of 1549, perplexity: 117.596 speed: 1097 wps\n",
      "Itr 164 of 1549, perplexity: 108.220 speed: 1117 wps\n",
      "Itr 318 of 1549, perplexity: 106.425 speed: 1116 wps\n",
      "Itr 472 of 1549, perplexity: 103.663 speed: 1117 wps\n",
      "Itr 626 of 1549, perplexity: 100.276 speed: 1116 wps\n",
      "Itr 780 of 1549, perplexity: 100.062 speed: 1114 wps\n",
      "Itr 934 of 1549, perplexity: 99.420 speed: 1110 wps\n",
      "Itr 1088 of 1549, perplexity: 98.689 speed: 1108 wps\n",
      "Itr 1242 of 1549, perplexity: 98.470 speed: 1107 wps\n",
      "Itr 1396 of 1549, perplexity: 97.148 speed: 1106 wps\n",
      "Epoch 5 : Train Perplexity: 96.602\n",
      "Epoch 5 : Valid Perplexity: 134.598\n",
      "Epoch 6 : Learning rate: 0.500\n",
      "Itr 10 of 1549, perplexity: 104.361 speed: 1158 wps\n",
      "Itr 164 of 1549, perplexity: 93.710 speed: 1164 wps\n",
      "Itr 318 of 1549, perplexity: 90.988 speed: 1165 wps\n",
      "Itr 472 of 1549, perplexity: 87.839 speed: 1163 wps\n",
      "Itr 626 of 1549, perplexity: 84.148 speed: 1161 wps\n",
      "Itr 780 of 1549, perplexity: 83.389 speed: 1161 wps\n",
      "Itr 934 of 1549, perplexity: 82.315 speed: 1160 wps\n",
      "Itr 1088 of 1549, perplexity: 81.148 speed: 1160 wps\n",
      "Itr 1242 of 1549, perplexity: 80.412 speed: 1161 wps\n",
      "Itr 1396 of 1549, perplexity: 78.780 speed: 1162 wps\n",
      "Epoch 6 : Train Perplexity: 77.823\n",
      "Epoch 6 : Valid Perplexity: 125.141\n",
      "Epoch 7 : Learning rate: 0.250\n",
      "Itr 10 of 1549, perplexity: 87.468 speed: 1161 wps\n",
      "Itr 164 of 1549, perplexity: 81.183 speed: 1166 wps\n",
      "Itr 318 of 1549, perplexity: 78.943 speed: 1165 wps\n",
      "Itr 472 of 1549, perplexity: 76.223 speed: 1164 wps\n",
      "Itr 626 of 1549, perplexity: 72.901 speed: 1163 wps\n",
      "Itr 780 of 1549, perplexity: 72.160 speed: 1162 wps\n",
      "Itr 934 of 1549, perplexity: 71.162 speed: 1163 wps\n",
      "Itr 1088 of 1549, perplexity: 70.013 speed: 1164 wps\n",
      "Itr 1242 of 1549, perplexity: 69.198 speed: 1165 wps\n",
      "Itr 1396 of 1549, perplexity: 67.620 speed: 1165 wps\n",
      "Epoch 7 : Train Perplexity: 66.621\n",
      "Epoch 7 : Valid Perplexity: 122.216\n",
      "Epoch 8 : Learning rate: 0.125\n",
      "Itr 10 of 1549, perplexity: 78.755 speed: 1149 wps\n",
      "Itr 164 of 1549, perplexity: 73.934 speed: 1171 wps\n",
      "Itr 318 of 1549, perplexity: 72.017 speed: 1172 wps\n",
      "Itr 472 of 1549, perplexity: 69.517 speed: 1172 wps\n",
      "Itr 626 of 1549, perplexity: 66.464 speed: 1171 wps\n",
      "Itr 780 of 1549, perplexity: 65.783 speed: 1171 wps\n",
      "Itr 934 of 1549, perplexity: 64.861 speed: 1170 wps\n",
      "Itr 1088 of 1549, perplexity: 63.775 speed: 1171 wps\n",
      "Itr 1242 of 1549, perplexity: 62.983 speed: 1170 wps\n",
      "Itr 1396 of 1549, perplexity: 61.482 speed: 1170 wps\n",
      "Epoch 8 : Train Perplexity: 60.512\n",
      "Epoch 8 : Valid Perplexity: 121.543\n",
      "Epoch 9 : Learning rate: 0.062\n",
      "Itr 10 of 1549, perplexity: 74.399 speed: 953 wps\n",
      "Itr 164 of 1549, perplexity: 70.053 speed: 959 wps\n",
      "Itr 318 of 1549, perplexity: 68.345 speed: 960 wps\n",
      "Itr 472 of 1549, perplexity: 65.984 speed: 962 wps\n",
      "Itr 626 of 1549, perplexity: 63.065 speed: 964 wps\n",
      "Itr 780 of 1549, perplexity: 62.427 speed: 966 wps\n",
      "Itr 934 of 1549, perplexity: 61.549 speed: 989 wps\n",
      "Itr 1088 of 1549, perplexity: 60.500 speed: 1010 wps\n",
      "Itr 1242 of 1549, perplexity: 59.728 speed: 1028 wps\n",
      "Itr 1396 of 1549, perplexity: 58.275 speed: 1040 wps\n",
      "Epoch 9 : Train Perplexity: 57.326\n",
      "Epoch 9 : Valid Perplexity: 121.412\n",
      "Epoch 10 : Learning rate: 0.031\n",
      "Itr 10 of 1549, perplexity: 72.236 speed: 1142 wps\n",
      "Itr 164 of 1549, perplexity: 67.993 speed: 1162 wps\n",
      "Itr 318 of 1549, perplexity: 66.429 speed: 1168 wps\n",
      "Itr 472 of 1549, perplexity: 64.142 speed: 1170 wps\n",
      "Itr 626 of 1549, perplexity: 61.287 speed: 1170 wps\n",
      "Itr 780 of 1549, perplexity: 60.668 speed: 1171 wps\n",
      "Itr 934 of 1549, perplexity: 59.816 speed: 1171 wps\n",
      "Itr 1088 of 1549, perplexity: 58.785 speed: 1170 wps\n",
      "Itr 1242 of 1549, perplexity: 58.023 speed: 1170 wps\n",
      "Itr 1396 of 1549, perplexity: 56.593 speed: 1169 wps\n",
      "Epoch 10 : Train Perplexity: 55.654\n",
      "Epoch 10 : Valid Perplexity: 121.399\n",
      "Epoch 11 : Learning rate: 0.016\n",
      "Itr 10 of 1549, perplexity: 71.033 speed: 1139 wps\n",
      "Itr 164 of 1549, perplexity: 66.823 speed: 1174 wps\n",
      "Itr 318 of 1549, perplexity: 65.360 speed: 1164 wps\n",
      "Itr 472 of 1549, perplexity: 63.136 speed: 1165 wps\n",
      "Itr 626 of 1549, perplexity: 60.323 speed: 1168 wps\n",
      "Itr 780 of 1549, perplexity: 59.715 speed: 1169 wps\n",
      "Itr 934 of 1549, perplexity: 58.882 speed: 1169 wps\n",
      "Itr 1088 of 1549, perplexity: 57.864 speed: 1170 wps\n",
      "Itr 1242 of 1549, perplexity: 57.105 speed: 1171 wps\n",
      "Itr 1396 of 1549, perplexity: 55.688 speed: 1171 wps\n",
      "Epoch 11 : Train Perplexity: 54.756\n",
      "Epoch 11 : Valid Perplexity: 121.219\n",
      "Epoch 12 : Learning rate: 0.008\n",
      "Itr 10 of 1549, perplexity: 70.347 speed: 1160 wps\n",
      "Itr 164 of 1549, perplexity: 66.172 speed: 1170 wps\n",
      "Itr 318 of 1549, perplexity: 64.756 speed: 1169 wps\n",
      "Itr 472 of 1549, perplexity: 62.569 speed: 1170 wps\n",
      "Itr 626 of 1549, perplexity: 59.784 speed: 1171 wps\n",
      "Itr 780 of 1549, perplexity: 59.186 speed: 1172 wps\n",
      "Itr 934 of 1549, perplexity: 58.364 speed: 1173 wps\n",
      "Itr 1088 of 1549, perplexity: 57.355 speed: 1171 wps\n",
      "Itr 1242 of 1549, perplexity: 56.599 speed: 1172 wps\n",
      "Itr 1396 of 1549, perplexity: 55.192 speed: 1173 wps\n",
      "Epoch 12 : Train Perplexity: 54.263\n",
      "Epoch 12 : Valid Perplexity: 120.940\n",
      "Epoch 13 : Learning rate: 0.004\n",
      "Itr 10 of 1549, perplexity: 69.935 speed: 1174 wps\n",
      "Itr 164 of 1549, perplexity: 65.815 speed: 1171 wps\n",
      "Itr 318 of 1549, perplexity: 64.420 speed: 1174 wps\n",
      "Itr 472 of 1549, perplexity: 62.253 speed: 1175 wps\n",
      "Itr 626 of 1549, perplexity: 59.485 speed: 1176 wps\n",
      "Itr 780 of 1549, perplexity: 58.894 speed: 1174 wps\n",
      "Itr 934 of 1549, perplexity: 58.078 speed: 1174 wps\n",
      "Itr 1088 of 1549, perplexity: 57.075 speed: 1174 wps\n",
      "Itr 1242 of 1549, perplexity: 56.320 speed: 1174 wps\n",
      "Itr 1396 of 1549, perplexity: 54.921 speed: 1174 wps\n",
      "Epoch 13 : Train Perplexity: 53.994\n",
      "Epoch 13 : Valid Perplexity: 120.683\n",
      "Epoch 14 : Learning rate: 0.002\n",
      "Itr 10 of 1549, perplexity: 69.694 speed: 1150 wps\n",
      "Itr 164 of 1549, perplexity: 65.616 speed: 1170 wps\n",
      "Itr 318 of 1549, perplexity: 64.232 speed: 1162 wps\n",
      "Itr 472 of 1549, perplexity: 62.079 speed: 1163 wps\n",
      "Itr 626 of 1549, perplexity: 59.320 speed: 1164 wps\n",
      "Itr 780 of 1549, perplexity: 58.734 speed: 1165 wps\n",
      "Itr 934 of 1549, perplexity: 57.923 speed: 1165 wps\n",
      "Itr 1088 of 1549, perplexity: 56.923 speed: 1166 wps\n",
      "Itr 1242 of 1549, perplexity: 56.169 speed: 1167 wps\n",
      "Itr 1396 of 1549, perplexity: 54.774 speed: 1167 wps\n",
      "Epoch 14 : Train Perplexity: 53.850\n",
      "Epoch 14 : Valid Perplexity: 120.525\n",
      "Epoch 15 : Learning rate: 0.001\n",
      "Itr 10 of 1549, perplexity: 69.568 speed: 1167 wps\n",
      "Itr 164 of 1549, perplexity: 65.505 speed: 1166 wps\n",
      "Itr 318 of 1549, perplexity: 64.127 speed: 1167 wps\n",
      "Itr 472 of 1549, perplexity: 61.984 speed: 1168 wps\n",
      "Itr 626 of 1549, perplexity: 59.230 speed: 1168 wps\n",
      "Itr 780 of 1549, perplexity: 58.648 speed: 1169 wps\n",
      "Itr 934 of 1549, perplexity: 57.839 speed: 1168 wps\n",
      "Itr 1088 of 1549, perplexity: 56.841 speed: 1168 wps\n",
      "Itr 1242 of 1549, perplexity: 56.089 speed: 1167 wps\n",
      "Itr 1396 of 1549, perplexity: 54.696 speed: 1167 wps\n",
      "Epoch 15 : Train Perplexity: 53.773\n",
      "Epoch 15 : Valid Perplexity: 120.445\n",
      "Test Perplexity: 114.702\n"
     ]
    }
   ],
   "source": [
    "# Instantiates the PTBModel class\n",
    "m=PTBModel.instance()   \n",
    "K = tf.keras.backend \n",
    "for i in range(max_epoch):\n",
    "    # Define the decay for this epoch\n",
    "    lr_decay = decay ** max(i - max_epoch_decay_lr, 0.0)\n",
    "    dcr = learning_rate * lr_decay\n",
    "    m._lr = dcr\n",
    "    K.set_value(m._model.optimizer.learning_rate,m._lr)\n",
    "    print(\"Epoch %d : Learning rate: %.3f\" % (i + 1, m._model.optimizer.learning_rate))\n",
    "    # Run the loop for this epoch in the training mode\n",
    "    train_perplexity = run_one_epoch(m, train_data,is_training=True,verbose=True)\n",
    "    print(\"Epoch %d : Train Perplexity: %.3f\" % (i + 1, train_perplexity))\n",
    "        \n",
    "    # Run the loop for this epoch in the validation mode\n",
    "    valid_perplexity = run_one_epoch(m, valid_data,is_training=False,verbose=False)\n",
    "    print(\"Epoch %d : Valid Perplexity: %.3f\" % (i + 1, valid_perplexity))\n",
    "    \n",
    "# Run the loop in the testing mode to see how effective was our training\n",
    "test_perplexity = run_one_epoch(m, test_data,is_training=False,verbose=False)\n",
    "print(\"Test Perplexity: %.3f\" % test_perplexity)\n",
    "\n"
   ]
  },
  {
   "cell_type": "markdown",
   "metadata": {
    "button": false,
    "deletable": true,
    "new_sheet": false,
    "run_control": {
     "read_only": false
    }
   },
   "source": [
    "As you can see, the model's perplexity rating drops very quickly after a few iterations. As was elaborated before, <b>lower Perplexity means that the model is more certain about its prediction</b>. As such, we can be sure that this model is performing well!\n"
   ]
  },
  {
   "cell_type": "markdown",
   "metadata": {
    "button": false,
    "deletable": true,
    "new_sheet": false,
    "run_control": {
     "read_only": false
    }
   },
   "source": [
    "* * *\n"
   ]
  },
  {
   "cell_type": "markdown",
   "metadata": {
    "button": false,
    "deletable": true,
    "new_sheet": false,
    "run_control": {
     "read_only": false
    }
   },
   "source": [
    "This is the end of the <b>Applying Recurrent Neural Networks to Text Processing</b> notebook. Hopefully you now have a better understanding of Recurrent Neural Networks and how to implement one utilizing TensorFlow. Thank you for reading this notebook, and good luck on your studies.\n"
   ]
  },
  {
   "cell_type": "markdown",
   "metadata": {
    "button": false,
    "deletable": true,
    "new_sheet": false,
    "run_control": {
     "read_only": false
    }
   },
   "source": [
    "## Want to learn more?\n",
    "\n",
    "Running deep learning programs usually needs a high performance platform. **PowerAI** speeds up deep learning and AI. Built on IBM’s Power Systems, **PowerAI** is a scalable software platform that accelerates deep learning and AI with blazing performance for individual users or enterprises. The **PowerAI** platform supports popular machine learning libraries and dependencies including TensorFlow, Caffe, Torch, and Theano. You can use [PowerAI on IMB Cloud](https://cocl.us/ML0120EN_PAI).\n",
    "\n",
    "Also, you can use **Watson Studio** to run these notebooks faster with bigger datasets.**Watson Studio** is IBM’s leading cloud solution for data scientists, built by data scientists. With Jupyter notebooks, RStudio, Apache Spark and popular libraries pre-packaged in the cloud, **Watson Studio** enables data scientists to collaborate on their projects without having to install anything. Join the fast-growing community of **Watson Studio** users today with a free account at [Watson Studio](https://cocl.us/ML0120EN_DSX).This is the end of this lesson. Thank you for reading this notebook, and good luck on your studies.\n"
   ]
  },
  {
   "cell_type": "markdown",
   "metadata": {
    "button": false,
    "deletable": true,
    "new_sheet": false,
    "run_control": {
     "read_only": false
    }
   },
   "source": [
    "### Thanks for completing this lesson!\n",
    "\n",
    "Notebook created by <a href=\"https://br.linkedin.com/in/walter-gomes-de-amorim-junior-624726121\">Walter Gomes de Amorim Junior</a>, <a href = \"https://linkedin.com/in/saeedaghabozorgi\"> Saeed Aghabozorgi </a></h4>\n",
    "\n",
    "Updated to TF 2.X by  <a href=\"https://www.linkedin.com/in/samaya-madhavan\"> Samaya Madhavan </a>\n"
   ]
  },
  {
   "cell_type": "markdown",
   "metadata": {
    "button": false,
    "deletable": true,
    "new_sheet": false,
    "run_control": {
     "read_only": false
    }
   },
   "source": [
    "<hr>\n",
    "\n",
    "Copyright © 2018 [Cognitive Class](https://cocl.us/DX0108EN_CC). This notebook and its source code are released under the terms of the [MIT License](https://bigdatauniversity.com/mit-license?cm_mmc=Email_Newsletter-_-Developer_Ed%2BTech-_-WW_WW-_-SkillsNetwork-Courses-IBMDeveloperSkillsNetwork-DL0120EN-SkillsNetwork-20629446&cm_mmca1=000026UJ&cm_mmca2=10006555&cm_mmca3=M12345678&cvosrc=email.Newsletter.M12345678&cvo_campaign=000026UJ&cm_mmc=Email_Newsletter-_-Developer_Ed%2BTech-_-WW_WW-_-SkillsNetwork-Courses-IBMDeveloperSkillsNetwork-DL0120EN-SkillsNetwork-20629446&cm_mmca1=000026UJ&cm_mmca2=10006555&cm_mmca3=M12345678&cvosrc=email.Newsletter.M12345678&cvo_campaign=000026UJ).\n"
   ]
  }
 ],
 "metadata": {
  "anaconda-cloud": {},
  "kernelspec": {
   "display_name": "Python 3",
   "language": "python",
   "name": "python3"
  },
  "language_info": {
   "codemirror_mode": {
    "name": "ipython",
    "version": 3
   },
   "file_extension": ".py",
   "mimetype": "text/x-python",
   "name": "python",
   "nbconvert_exporter": "python",
   "pygments_lexer": "ipython3",
   "version": "3.7.6"
  },
  "widgets": {
   "state": {},
   "version": "1.1.2"
  }
 },
 "nbformat": 4,
 "nbformat_minor": 4
}
