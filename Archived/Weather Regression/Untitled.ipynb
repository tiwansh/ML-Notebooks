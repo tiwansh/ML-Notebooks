{
 "cells": [
  {
   "cell_type": "code",
   "execution_count": 1,
   "metadata": {},
   "outputs": [],
   "source": [
    "# https://www.kaggle.com/budincsevity/szeged-weather"
   ]
  },
  {
   "cell_type": "code",
   "execution_count": 1,
   "metadata": {},
   "outputs": [],
   "source": [
    "import pandas as pd\n",
    "import numpy as np"
   ]
  },
  {
   "cell_type": "code",
   "execution_count": 2,
   "metadata": {},
   "outputs": [
    {
     "data": {
      "text/plain": [
       "(96453, 12)"
      ]
     },
     "execution_count": 2,
     "metadata": {},
     "output_type": "execute_result"
    }
   ],
   "source": [
    "df = pd.read_csv(\"weatherHistory.csv\")\n",
    "df.shape"
   ]
  },
  {
   "cell_type": "code",
   "execution_count": 3,
   "metadata": {},
   "outputs": [
    {
     "data": {
      "text/plain": [
       "Formatted Date                0\n",
       "Summary                       0\n",
       "Precip Type                 517\n",
       "Temperature (C)               0\n",
       "Apparent Temperature (C)      0\n",
       "Humidity                      0\n",
       "Wind Speed (km/h)             0\n",
       "Wind Bearing (degrees)        0\n",
       "Visibility (km)               0\n",
       "Loud Cover                    0\n",
       "Pressure (millibars)          0\n",
       "Daily Summary                 0\n",
       "dtype: int64"
      ]
     },
     "execution_count": 3,
     "metadata": {},
     "output_type": "execute_result"
    }
   ],
   "source": [
    "# Check for null values\n",
    "df.isnull().sum()"
   ]
  },
  {
   "cell_type": "code",
   "execution_count": 4,
   "metadata": {},
   "outputs": [
    {
     "data": {
      "text/plain": [
       "((95936, 12),\n",
       " Formatted Date              0\n",
       " Summary                     0\n",
       " Precip Type                 0\n",
       " Temperature (C)             0\n",
       " Apparent Temperature (C)    0\n",
       " Humidity                    0\n",
       " Wind Speed (km/h)           0\n",
       " Wind Bearing (degrees)      0\n",
       " Visibility (km)             0\n",
       " Loud Cover                  0\n",
       " Pressure (millibars)        0\n",
       " Daily Summary               0\n",
       " dtype: int64)"
      ]
     },
     "execution_count": 4,
     "metadata": {},
     "output_type": "execute_result"
    }
   ],
   "source": [
    "df.dropna(inplace=True)\n",
    "df.shape, df.isnull().sum()"
   ]
  },
  {
   "cell_type": "code",
   "execution_count": 5,
   "metadata": {},
   "outputs": [
    {
     "name": "stdout",
     "output_type": "stream",
     "text": [
      "<class 'pandas.core.frame.DataFrame'>\n",
      "Int64Index: 95936 entries, 0 to 96452\n",
      "Data columns (total 12 columns):\n",
      " #   Column                    Non-Null Count  Dtype  \n",
      "---  ------                    --------------  -----  \n",
      " 0   Formatted Date            95936 non-null  object \n",
      " 1   Summary                   95936 non-null  object \n",
      " 2   Precip Type               95936 non-null  object \n",
      " 3   Temperature (C)           95936 non-null  float64\n",
      " 4   Apparent Temperature (C)  95936 non-null  float64\n",
      " 5   Humidity                  95936 non-null  float64\n",
      " 6   Wind Speed (km/h)         95936 non-null  float64\n",
      " 7   Wind Bearing (degrees)    95936 non-null  float64\n",
      " 8   Visibility (km)           95936 non-null  float64\n",
      " 9   Loud Cover                95936 non-null  float64\n",
      " 10  Pressure (millibars)      95936 non-null  float64\n",
      " 11  Daily Summary             95936 non-null  object \n",
      "dtypes: float64(8), object(4)\n",
      "memory usage: 9.5+ MB\n"
     ]
    }
   ],
   "source": [
    "df.info()"
   ]
  },
  {
   "cell_type": "code",
   "execution_count": 6,
   "metadata": {},
   "outputs": [
    {
     "data": {
      "text/html": [
       "<div>\n",
       "<style scoped>\n",
       "    .dataframe tbody tr th:only-of-type {\n",
       "        vertical-align: middle;\n",
       "    }\n",
       "\n",
       "    .dataframe tbody tr th {\n",
       "        vertical-align: top;\n",
       "    }\n",
       "\n",
       "    .dataframe thead th {\n",
       "        text-align: right;\n",
       "    }\n",
       "</style>\n",
       "<table border=\"1\" class=\"dataframe\">\n",
       "  <thead>\n",
       "    <tr style=\"text-align: right;\">\n",
       "      <th></th>\n",
       "      <th>Temperature (C)</th>\n",
       "      <th>Apparent Temperature (C)</th>\n",
       "      <th>Humidity</th>\n",
       "      <th>Wind Speed (km/h)</th>\n",
       "      <th>Wind Bearing (degrees)</th>\n",
       "      <th>Visibility (km)</th>\n",
       "      <th>Loud Cover</th>\n",
       "      <th>Pressure (millibars)</th>\n",
       "    </tr>\n",
       "  </thead>\n",
       "  <tbody>\n",
       "    <tr>\n",
       "      <th>Temperature (C)</th>\n",
       "      <td>1.000000</td>\n",
       "      <td>0.992637</td>\n",
       "      <td>-0.632148</td>\n",
       "      <td>0.008304</td>\n",
       "      <td>0.029937</td>\n",
       "      <td>0.393719</td>\n",
       "      <td>NaN</td>\n",
       "      <td>-0.005253</td>\n",
       "    </tr>\n",
       "    <tr>\n",
       "      <th>Apparent Temperature (C)</th>\n",
       "      <td>0.992637</td>\n",
       "      <td>1.000000</td>\n",
       "      <td>-0.602390</td>\n",
       "      <td>-0.057387</td>\n",
       "      <td>0.028951</td>\n",
       "      <td>0.382589</td>\n",
       "      <td>NaN</td>\n",
       "      <td>-0.000037</td>\n",
       "    </tr>\n",
       "    <tr>\n",
       "      <th>Humidity</th>\n",
       "      <td>-0.632148</td>\n",
       "      <td>-0.602390</td>\n",
       "      <td>1.000000</td>\n",
       "      <td>-0.224569</td>\n",
       "      <td>0.000814</td>\n",
       "      <td>-0.370511</td>\n",
       "      <td>NaN</td>\n",
       "      <td>0.005375</td>\n",
       "    </tr>\n",
       "    <tr>\n",
       "      <th>Wind Speed (km/h)</th>\n",
       "      <td>0.008304</td>\n",
       "      <td>-0.057387</td>\n",
       "      <td>-0.224569</td>\n",
       "      <td>1.000000</td>\n",
       "      <td>0.104366</td>\n",
       "      <td>0.100801</td>\n",
       "      <td>NaN</td>\n",
       "      <td>-0.049453</td>\n",
       "    </tr>\n",
       "    <tr>\n",
       "      <th>Wind Bearing (degrees)</th>\n",
       "      <td>0.029937</td>\n",
       "      <td>0.028951</td>\n",
       "      <td>0.000814</td>\n",
       "      <td>0.104366</td>\n",
       "      <td>1.000000</td>\n",
       "      <td>0.048900</td>\n",
       "      <td>NaN</td>\n",
       "      <td>-0.011629</td>\n",
       "    </tr>\n",
       "    <tr>\n",
       "      <th>Visibility (km)</th>\n",
       "      <td>0.393719</td>\n",
       "      <td>0.382589</td>\n",
       "      <td>-0.370511</td>\n",
       "      <td>0.100801</td>\n",
       "      <td>0.048900</td>\n",
       "      <td>1.000000</td>\n",
       "      <td>NaN</td>\n",
       "      <td>0.061011</td>\n",
       "    </tr>\n",
       "    <tr>\n",
       "      <th>Loud Cover</th>\n",
       "      <td>NaN</td>\n",
       "      <td>NaN</td>\n",
       "      <td>NaN</td>\n",
       "      <td>NaN</td>\n",
       "      <td>NaN</td>\n",
       "      <td>NaN</td>\n",
       "      <td>NaN</td>\n",
       "      <td>NaN</td>\n",
       "    </tr>\n",
       "    <tr>\n",
       "      <th>Pressure (millibars)</th>\n",
       "      <td>-0.005253</td>\n",
       "      <td>-0.000037</td>\n",
       "      <td>0.005375</td>\n",
       "      <td>-0.049453</td>\n",
       "      <td>-0.011629</td>\n",
       "      <td>0.061011</td>\n",
       "      <td>NaN</td>\n",
       "      <td>1.000000</td>\n",
       "    </tr>\n",
       "  </tbody>\n",
       "</table>\n",
       "</div>"
      ],
      "text/plain": [
       "                          Temperature (C)  Apparent Temperature (C)  Humidity  \\\n",
       "Temperature (C)                  1.000000                  0.992637 -0.632148   \n",
       "Apparent Temperature (C)         0.992637                  1.000000 -0.602390   \n",
       "Humidity                        -0.632148                 -0.602390  1.000000   \n",
       "Wind Speed (km/h)                0.008304                 -0.057387 -0.224569   \n",
       "Wind Bearing (degrees)           0.029937                  0.028951  0.000814   \n",
       "Visibility (km)                  0.393719                  0.382589 -0.370511   \n",
       "Loud Cover                            NaN                       NaN       NaN   \n",
       "Pressure (millibars)            -0.005253                 -0.000037  0.005375   \n",
       "\n",
       "                          Wind Speed (km/h)  Wind Bearing (degrees)  \\\n",
       "Temperature (C)                    0.008304                0.029937   \n",
       "Apparent Temperature (C)          -0.057387                0.028951   \n",
       "Humidity                          -0.224569                0.000814   \n",
       "Wind Speed (km/h)                  1.000000                0.104366   \n",
       "Wind Bearing (degrees)             0.104366                1.000000   \n",
       "Visibility (km)                    0.100801                0.048900   \n",
       "Loud Cover                              NaN                     NaN   \n",
       "Pressure (millibars)              -0.049453               -0.011629   \n",
       "\n",
       "                          Visibility (km)  Loud Cover  Pressure (millibars)  \n",
       "Temperature (C)                  0.393719         NaN             -0.005253  \n",
       "Apparent Temperature (C)         0.382589         NaN             -0.000037  \n",
       "Humidity                        -0.370511         NaN              0.005375  \n",
       "Wind Speed (km/h)                0.100801         NaN             -0.049453  \n",
       "Wind Bearing (degrees)           0.048900         NaN             -0.011629  \n",
       "Visibility (km)                  1.000000         NaN              0.061011  \n",
       "Loud Cover                            NaN         NaN                   NaN  \n",
       "Pressure (millibars)             0.061011         NaN              1.000000  "
      ]
     },
     "execution_count": 6,
     "metadata": {},
     "output_type": "execute_result"
    }
   ],
   "source": [
    "df.corr()"
   ]
  },
  {
   "cell_type": "code",
   "execution_count": 7,
   "metadata": {},
   "outputs": [
    {
     "data": {
      "text/plain": [
       "<matplotlib.axes._subplots.AxesSubplot at 0x7f7f844b9450>"
      ]
     },
     "execution_count": 7,
     "metadata": {},
     "output_type": "execute_result"
    },
    {
     "data": {
      "image/png": "[encoded data removed]",
      "text/plain": [
       "<Figure size 432x288 with 2 Axes>"
      ]
     },
     "metadata": {
      "needs_background": "light"
     },
     "output_type": "display_data"
    }
   ],
   "source": [
    "import seaborn as sns\n",
    "sns.heatmap(df.corr(), cmap=\"BuPu\")"
   ]
  },
  {
   "cell_type": "code",
   "execution_count": 8,
   "metadata": {},
   "outputs": [
    {
     "data": {
      "text/plain": [
       "array([[<matplotlib.axes._subplots.AxesSubplot object at 0x7f7f81c6d410>,\n",
       "        <matplotlib.axes._subplots.AxesSubplot object at 0x7f7f81c92f50>,\n",
       "        <matplotlib.axes._subplots.AxesSubplot object at 0x7f7f81c54790>],\n",
       "       [<matplotlib.axes._subplots.AxesSubplot object at 0x7f7f81c07f90>,\n",
       "        <matplotlib.axes._subplots.AxesSubplot object at 0x7f7f81bc97d0>,\n",
       "        <matplotlib.axes._subplots.AxesSubplot object at 0x7f7f81b7dfd0>],\n",
       "       [<matplotlib.axes._subplots.AxesSubplot object at 0x7f7f81b3f810>,\n",
       "        <matplotlib.axes._subplots.AxesSubplot object at 0x7f7f81af2f90>,\n",
       "        <matplotlib.axes._subplots.AxesSubplot object at 0x7f7f81afdb90>]],\n",
       "      dtype=object)"
      ]
     },
     "execution_count": 8,
     "metadata": {},
     "output_type": "execute_result"
    },
    {
     "data": {
      "image/png": "[encoded data removed]",
      "text/plain": [
       "<Figure size 1080x1080 with 9 Axes>"
      ]
     },
     "metadata": {
      "needs_background": "light"
     },
     "output_type": "display_data"
    }
   ],
   "source": [
    "df.hist(figsize=(15,15))"
   ]
  },
  {
   "cell_type": "code",
   "execution_count": 9,
   "metadata": {},
   "outputs": [],
   "source": [
    "# Drop Loud cover\n",
    "df.drop([\"Loud Cover\"], axis=1, inplace=True)"
   ]
  },
  {
   "cell_type": "code",
   "execution_count": 10,
   "metadata": {},
   "outputs": [
    {
     "data": {
      "text/plain": [
       "Index(['Formatted Date', 'Summary', 'Precip Type', 'Temperature (C)',\n",
       "       'Apparent Temperature (C)', 'Humidity', 'Wind Speed (km/h)',\n",
       "       'Wind Bearing (degrees)', 'Visibility (km)', 'Pressure (millibars)',\n",
       "       'Daily Summary'],\n",
       "      dtype='object')"
      ]
     },
     "execution_count": 10,
     "metadata": {},
     "output_type": "execute_result"
    }
   ],
   "source": [
    "df.columns"
   ]
  },
  {
   "cell_type": "code",
   "execution_count": 11,
   "metadata": {},
   "outputs": [
    {
     "data": {
      "text/plain": [
       "array(['Partly Cloudy', 'Mostly Cloudy', 'Overcast', 'Foggy',\n",
       "       'Breezy and Mostly Cloudy', 'Clear', 'Breezy and Partly Cloudy',\n",
       "       'Breezy and Overcast', 'Humid and Mostly Cloudy',\n",
       "       'Humid and Partly Cloudy', 'Windy and Foggy', 'Windy and Overcast',\n",
       "       'Breezy and Foggy', 'Windy and Partly Cloudy', 'Breezy',\n",
       "       'Dry and Partly Cloudy', 'Windy and Mostly Cloudy',\n",
       "       'Dangerously Windy and Partly Cloudy', 'Dry', 'Windy',\n",
       "       'Humid and Overcast', 'Light Rain', 'Drizzle', 'Windy and Dry',\n",
       "       'Dry and Mostly Cloudy', 'Breezy and Dry', 'Rain'], dtype=object)"
      ]
     },
     "execution_count": 11,
     "metadata": {},
     "output_type": "execute_result"
    }
   ],
   "source": [
    "df.Summary.unique()"
   ]
  },
  {
   "cell_type": "code",
   "execution_count": 12,
   "metadata": {},
   "outputs": [
    {
     "data": {
      "text/html": [
       "<div>\n",
       "<style scoped>\n",
       "    .dataframe tbody tr th:only-of-type {\n",
       "        vertical-align: middle;\n",
       "    }\n",
       "\n",
       "    .dataframe tbody tr th {\n",
       "        vertical-align: top;\n",
       "    }\n",
       "\n",
       "    .dataframe thead th {\n",
       "        text-align: right;\n",
       "    }\n",
       "</style>\n",
       "<table border=\"1\" class=\"dataframe\">\n",
       "  <thead>\n",
       "    <tr style=\"text-align: right;\">\n",
       "      <th></th>\n",
       "      <th>Formatted Date</th>\n",
       "      <th>Summary</th>\n",
       "      <th>Precip Type</th>\n",
       "      <th>Temperature (C)</th>\n",
       "      <th>Apparent Temperature (C)</th>\n",
       "      <th>Humidity</th>\n",
       "      <th>Wind Speed (km/h)</th>\n",
       "      <th>Wind Bearing (degrees)</th>\n",
       "      <th>Visibility (km)</th>\n",
       "      <th>Pressure (millibars)</th>\n",
       "      <th>Daily Summary</th>\n",
       "    </tr>\n",
       "  </thead>\n",
       "  <tbody>\n",
       "    <tr>\n",
       "      <th>0</th>\n",
       "      <td>2006-04-01 00:00:00.000 +0200</td>\n",
       "      <td>Partly Cloudy</td>\n",
       "      <td>rain</td>\n",
       "      <td>9.472222</td>\n",
       "      <td>7.388889</td>\n",
       "      <td>0.89</td>\n",
       "      <td>14.1197</td>\n",
       "      <td>251.0</td>\n",
       "      <td>15.8263</td>\n",
       "      <td>1015.13</td>\n",
       "      <td>Partly cloudy throughout the day.</td>\n",
       "    </tr>\n",
       "    <tr>\n",
       "      <th>1</th>\n",
       "      <td>2006-04-01 01:00:00.000 +0200</td>\n",
       "      <td>Partly Cloudy</td>\n",
       "      <td>rain</td>\n",
       "      <td>9.355556</td>\n",
       "      <td>7.227778</td>\n",
       "      <td>0.86</td>\n",
       "      <td>14.2646</td>\n",
       "      <td>259.0</td>\n",
       "      <td>15.8263</td>\n",
       "      <td>1015.63</td>\n",
       "      <td>Partly cloudy throughout the day.</td>\n",
       "    </tr>\n",
       "    <tr>\n",
       "      <th>2</th>\n",
       "      <td>2006-04-01 02:00:00.000 +0200</td>\n",
       "      <td>Mostly Cloudy</td>\n",
       "      <td>rain</td>\n",
       "      <td>9.377778</td>\n",
       "      <td>9.377778</td>\n",
       "      <td>0.89</td>\n",
       "      <td>3.9284</td>\n",
       "      <td>204.0</td>\n",
       "      <td>14.9569</td>\n",
       "      <td>1015.94</td>\n",
       "      <td>Partly cloudy throughout the day.</td>\n",
       "    </tr>\n",
       "    <tr>\n",
       "      <th>3</th>\n",
       "      <td>2006-04-01 03:00:00.000 +0200</td>\n",
       "      <td>Partly Cloudy</td>\n",
       "      <td>rain</td>\n",
       "      <td>8.288889</td>\n",
       "      <td>5.944444</td>\n",
       "      <td>0.83</td>\n",
       "      <td>14.1036</td>\n",
       "      <td>269.0</td>\n",
       "      <td>15.8263</td>\n",
       "      <td>1016.41</td>\n",
       "      <td>Partly cloudy throughout the day.</td>\n",
       "    </tr>\n",
       "    <tr>\n",
       "      <th>4</th>\n",
       "      <td>2006-04-01 04:00:00.000 +0200</td>\n",
       "      <td>Mostly Cloudy</td>\n",
       "      <td>rain</td>\n",
       "      <td>8.755556</td>\n",
       "      <td>6.977778</td>\n",
       "      <td>0.83</td>\n",
       "      <td>11.0446</td>\n",
       "      <td>259.0</td>\n",
       "      <td>15.8263</td>\n",
       "      <td>1016.51</td>\n",
       "      <td>Partly cloudy throughout the day.</td>\n",
       "    </tr>\n",
       "    <tr>\n",
       "      <th>...</th>\n",
       "      <td>...</td>\n",
       "      <td>...</td>\n",
       "      <td>...</td>\n",
       "      <td>...</td>\n",
       "      <td>...</td>\n",
       "      <td>...</td>\n",
       "      <td>...</td>\n",
       "      <td>...</td>\n",
       "      <td>...</td>\n",
       "      <td>...</td>\n",
       "      <td>...</td>\n",
       "    </tr>\n",
       "    <tr>\n",
       "      <th>96448</th>\n",
       "      <td>2016-09-09 19:00:00.000 +0200</td>\n",
       "      <td>Partly Cloudy</td>\n",
       "      <td>rain</td>\n",
       "      <td>26.016667</td>\n",
       "      <td>26.016667</td>\n",
       "      <td>0.43</td>\n",
       "      <td>10.9963</td>\n",
       "      <td>31.0</td>\n",
       "      <td>16.1000</td>\n",
       "      <td>1014.36</td>\n",
       "      <td>Partly cloudy starting in the morning.</td>\n",
       "    </tr>\n",
       "    <tr>\n",
       "      <th>96449</th>\n",
       "      <td>2016-09-09 20:00:00.000 +0200</td>\n",
       "      <td>Partly Cloudy</td>\n",
       "      <td>rain</td>\n",
       "      <td>24.583333</td>\n",
       "      <td>24.583333</td>\n",
       "      <td>0.48</td>\n",
       "      <td>10.0947</td>\n",
       "      <td>20.0</td>\n",
       "      <td>15.5526</td>\n",
       "      <td>1015.16</td>\n",
       "      <td>Partly cloudy starting in the morning.</td>\n",
       "    </tr>\n",
       "    <tr>\n",
       "      <th>96450</th>\n",
       "      <td>2016-09-09 21:00:00.000 +0200</td>\n",
       "      <td>Partly Cloudy</td>\n",
       "      <td>rain</td>\n",
       "      <td>22.038889</td>\n",
       "      <td>22.038889</td>\n",
       "      <td>0.56</td>\n",
       "      <td>8.9838</td>\n",
       "      <td>30.0</td>\n",
       "      <td>16.1000</td>\n",
       "      <td>1015.66</td>\n",
       "      <td>Partly cloudy starting in the morning.</td>\n",
       "    </tr>\n",
       "    <tr>\n",
       "      <th>96451</th>\n",
       "      <td>2016-09-09 22:00:00.000 +0200</td>\n",
       "      <td>Partly Cloudy</td>\n",
       "      <td>rain</td>\n",
       "      <td>21.522222</td>\n",
       "      <td>21.522222</td>\n",
       "      <td>0.60</td>\n",
       "      <td>10.5294</td>\n",
       "      <td>20.0</td>\n",
       "      <td>16.1000</td>\n",
       "      <td>1015.95</td>\n",
       "      <td>Partly cloudy starting in the morning.</td>\n",
       "    </tr>\n",
       "    <tr>\n",
       "      <th>96452</th>\n",
       "      <td>2016-09-09 23:00:00.000 +0200</td>\n",
       "      <td>Partly Cloudy</td>\n",
       "      <td>rain</td>\n",
       "      <td>20.438889</td>\n",
       "      <td>20.438889</td>\n",
       "      <td>0.61</td>\n",
       "      <td>5.8765</td>\n",
       "      <td>39.0</td>\n",
       "      <td>15.5204</td>\n",
       "      <td>1016.16</td>\n",
       "      <td>Partly cloudy starting in the morning.</td>\n",
       "    </tr>\n",
       "  </tbody>\n",
       "</table>\n",
       "<p>95936 rows × 11 columns</p>\n",
       "</div>"
      ],
      "text/plain": [
       "                      Formatted Date        Summary Precip Type  \\\n",
       "0      2006-04-01 00:00:00.000 +0200  Partly Cloudy        rain   \n",
       "1      2006-04-01 01:00:00.000 +0200  Partly Cloudy        rain   \n",
       "2      2006-04-01 02:00:00.000 +0200  Mostly Cloudy        rain   \n",
       "3      2006-04-01 03:00:00.000 +0200  Partly Cloudy        rain   \n",
       "4      2006-04-01 04:00:00.000 +0200  Mostly Cloudy        rain   \n",
       "...                              ...            ...         ...   \n",
       "96448  2016-09-09 19:00:00.000 +0200  Partly Cloudy        rain   \n",
       "96449  2016-09-09 20:00:00.000 +0200  Partly Cloudy        rain   \n",
       "96450  2016-09-09 21:00:00.000 +0200  Partly Cloudy        rain   \n",
       "96451  2016-09-09 22:00:00.000 +0200  Partly Cloudy        rain   \n",
       "96452  2016-09-09 23:00:00.000 +0200  Partly Cloudy        rain   \n",
       "\n",
       "       Temperature (C)  Apparent Temperature (C)  Humidity  Wind Speed (km/h)  \\\n",
       "0             9.472222                  7.388889      0.89            14.1197   \n",
       "1             9.355556                  7.227778      0.86            14.2646   \n",
       "2             9.377778                  9.377778      0.89             3.9284   \n",
       "3             8.288889                  5.944444      0.83            14.1036   \n",
       "4             8.755556                  6.977778      0.83            11.0446   \n",
       "...                ...                       ...       ...                ...   \n",
       "96448        26.016667                 26.016667      0.43            10.9963   \n",
       "96449        24.583333                 24.583333      0.48            10.0947   \n",
       "96450        22.038889                 22.038889      0.56             8.9838   \n",
       "96451        21.522222                 21.522222      0.60            10.5294   \n",
       "96452        20.438889                 20.438889      0.61             5.8765   \n",
       "\n",
       "       Wind Bearing (degrees)  Visibility (km)  Pressure (millibars)  \\\n",
       "0                       251.0          15.8263               1015.13   \n",
       "1                       259.0          15.8263               1015.63   \n",
       "2                       204.0          14.9569               1015.94   \n",
       "3                       269.0          15.8263               1016.41   \n",
       "4                       259.0          15.8263               1016.51   \n",
       "...                       ...              ...                   ...   \n",
       "96448                    31.0          16.1000               1014.36   \n",
       "96449                    20.0          15.5526               1015.16   \n",
       "96450                    30.0          16.1000               1015.66   \n",
       "96451                    20.0          16.1000               1015.95   \n",
       "96452                    39.0          15.5204               1016.16   \n",
       "\n",
       "                                Daily Summary  \n",
       "0           Partly cloudy throughout the day.  \n",
       "1           Partly cloudy throughout the day.  \n",
       "2           Partly cloudy throughout the day.  \n",
       "3           Partly cloudy throughout the day.  \n",
       "4           Partly cloudy throughout the day.  \n",
       "...                                       ...  \n",
       "96448  Partly cloudy starting in the morning.  \n",
       "96449  Partly cloudy starting in the morning.  \n",
       "96450  Partly cloudy starting in the morning.  \n",
       "96451  Partly cloudy starting in the morning.  \n",
       "96452  Partly cloudy starting in the morning.  \n",
       "\n",
       "[95936 rows x 11 columns]"
      ]
     },
     "execution_count": 12,
     "metadata": {},
     "output_type": "execute_result"
    }
   ],
   "source": [
    "df"
   ]
  },
  {
   "cell_type": "code",
   "execution_count": null,
   "metadata": {},
   "outputs": [],
   "source": []
  }
 ],
 "metadata": {
  "kernelspec": {
   "display_name": "Python 3",
   "language": "python",
   "name": "python3"
  },
  "language_info": {
   "codemirror_mode": {
    "name": "ipython",
    "version": 3
   },
   "file_extension": ".py",
   "mimetype": "text/x-python",
   "name": "python",
   "nbconvert_exporter": "python",
   "pygments_lexer": "ipython3",
   "version": "3.7.6"
  }
 },
 "nbformat": 4,
 "nbformat_minor": 4
}
