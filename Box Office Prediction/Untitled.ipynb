{
 "cells": [
  {
   "cell_type": "code",
   "execution_count": 1,
   "metadata": {},
   "outputs": [],
   "source": [
    "# https://www.kaggle.com/c/tmdb-box-office-prediction/data?select=train.csv"
   ]
  },
  {
   "cell_type": "code",
   "execution_count": 1,
   "metadata": {},
   "outputs": [],
   "source": [
    "import pandas as pd\n",
    "import numpy as np\n",
    "import json"
   ]
  },
  {
   "cell_type": "code",
   "execution_count": 2,
   "metadata": {},
   "outputs": [],
   "source": [
    "# Read the train and test dataframe"
   ]
  },
  {
   "cell_type": "code",
   "execution_count": 3,
   "metadata": {},
   "outputs": [
    {
     "data": {
      "text/plain": [
       "Index(['id', 'belongs_to_collection', 'budget', 'genres', 'homepage',\n",
       "       'imdb_id', 'original_language', 'original_title', 'overview',\n",
       "       'popularity', 'poster_path', 'production_companies',\n",
       "       'production_countries', 'release_date', 'runtime', 'spoken_languages',\n",
       "       'status', 'tagline', 'title', 'Keywords', 'cast', 'crew', 'revenue'],\n",
       "      dtype='object')"
      ]
     },
     "execution_count": 3,
     "metadata": {},
     "output_type": "execute_result"
    }
   ],
   "source": [
    "train_df = pd.read_csv(\"train.csv\")\n",
    "test_df = pd.read_csv(\"test.csv\")\n",
    "train_df.columns"
   ]
  },
  {
   "cell_type": "markdown",
   "metadata": {},
   "source": [
    "# Analyse the data"
   ]
  },
  {
   "cell_type": "code",
   "execution_count": 4,
   "metadata": {},
   "outputs": [
    {
     "data": {
      "text/plain": [
       "((3000, 23), (4398, 22))"
      ]
     },
     "execution_count": 4,
     "metadata": {},
     "output_type": "execute_result"
    }
   ],
   "source": [
    "train_df.shape, test_df.shape"
   ]
  },
  {
   "cell_type": "code",
   "execution_count": 5,
   "metadata": {},
   "outputs": [],
   "source": [
    "# train_df.info(), test_df.info()"
   ]
  },
  {
   "cell_type": "code",
   "execution_count": 6,
   "metadata": {},
   "outputs": [
    {
     "data": {
      "text/plain": [
       "15"
      ]
     },
     "execution_count": 6,
     "metadata": {},
     "output_type": "execute_result"
    }
   ],
   "source": [
    "# Analyse and add other columns accordingly \n",
    "# Remove status and impute others\n",
    "drop_cols = [\"id\", \"belongs_to_collection\", \"homepage\", \"imdb_id\", \"original_title\", \"overview\", \"poster_path\", \"production_companies\", \"spoken_languages\", \"status\", \"Keywords\", \"cast\", \"crew\", \"tagline\", \"title\"]\n",
    "cols_to_drop_after_preprocessing = []\n",
    "len(drop_cols)"
   ]
  },
  {
   "cell_type": "code",
   "execution_count": 7,
   "metadata": {},
   "outputs": [],
   "source": [
    "numerical_categories = []\n",
    "categorical_categories = []"
   ]
  },
  {
   "cell_type": "code",
   "execution_count": 8,
   "metadata": {},
   "outputs": [
    {
     "name": "stdout",
     "output_type": "stream",
     "text": [
      "<class 'pandas.core.frame.DataFrame'>\n",
      "RangeIndex: 3000 entries, 0 to 2999\n",
      "Data columns (total 8 columns):\n",
      " #   Column                Non-Null Count  Dtype  \n",
      "---  ------                --------------  -----  \n",
      " 0   budget                3000 non-null   int64  \n",
      " 1   genres                2993 non-null   object \n",
      " 2   original_language     3000 non-null   object \n",
      " 3   popularity            3000 non-null   float64\n",
      " 4   production_countries  2945 non-null   object \n",
      " 5   release_date          3000 non-null   object \n",
      " 6   runtime               2998 non-null   float64\n",
      " 7   revenue               3000 non-null   int64  \n",
      "dtypes: float64(2), int64(2), object(4)\n",
      "memory usage: 187.6+ KB\n",
      "<class 'pandas.core.frame.DataFrame'>\n",
      "RangeIndex: 4398 entries, 0 to 4397\n",
      "Data columns (total 7 columns):\n",
      " #   Column                Non-Null Count  Dtype  \n",
      "---  ------                --------------  -----  \n",
      " 0   budget                4398 non-null   int64  \n",
      " 1   genres                4382 non-null   object \n",
      " 2   original_language     4398 non-null   object \n",
      " 3   popularity            4398 non-null   float64\n",
      " 4   production_countries  4296 non-null   object \n",
      " 5   release_date          4397 non-null   object \n",
      " 6   runtime               4394 non-null   float64\n",
      "dtypes: float64(2), int64(1), object(4)\n",
      "memory usage: 240.6+ KB\n"
     ]
    },
    {
     "data": {
      "text/plain": [
       "(None, None)"
      ]
     },
     "execution_count": 8,
     "metadata": {},
     "output_type": "execute_result"
    }
   ],
   "source": [
    "train_df.drop(drop_cols, axis = 1, inplace=True)\n",
    "test_df.drop(drop_cols, axis = 1, inplace=True)\n",
    "train_df.info(), test_df.info()"
   ]
  },
  {
   "cell_type": "markdown",
   "metadata": {},
   "source": [
    "# Feature 1. Budget : Put mean of budget if budget is empty"
   ]
  },
  {
   "cell_type": "code",
   "execution_count": 9,
   "metadata": {},
   "outputs": [],
   "source": [
    "# Add budget to numerical category\n",
    "numerical_categories.append(\"budget\")"
   ]
  },
  {
   "cell_type": "code",
   "execution_count": 10,
   "metadata": {},
   "outputs": [],
   "source": [
    "# Use mean budget if budget is empty/0\n",
    "budget_mean_train = train_df[train_df.budget != 0].budget.mean()\n",
    "train_df.budget = train_df.budget.apply(lambda x : budget_mean_train if x == 0 else x)"
   ]
  },
  {
   "cell_type": "code",
   "execution_count": 11,
   "metadata": {},
   "outputs": [],
   "source": [
    "# Do the same for test data\n",
    "budget_mean_test = test_df[test_df.budget != 0].budget.mean()\n",
    "test_df.budget = test_df.budget.apply(lambda x : budget_mean_test if x == 0 else x)"
   ]
  },
  {
   "cell_type": "markdown",
   "metadata": {},
   "source": [
    "# Feature 2. Genres"
   ]
  },
  {
   "cell_type": "code",
   "execution_count": 12,
   "metadata": {},
   "outputs": [],
   "source": [
    "# Add genres_list to categorical_category\n",
    "categorical_categories.append(\"genres_list\")"
   ]
  },
  {
   "cell_type": "code",
   "execution_count": 13,
   "metadata": {},
   "outputs": [],
   "source": [
    "# Create a list of genres instead of the string\n",
    "\n",
    "def get_genres(genres_string):\n",
    "    \"\"\"Returns tuple of genres generated from the passed genres string\"\"\"\n",
    "    all_genres = []\n",
    "    if pd.isna(genres_string):\n",
    "        return []\n",
    "#     print(f\"processing {type(genres_string)}\")\n",
    "    for genre in json.loads(genres_string.replace(\"'\", \"\\\"\")):\n",
    "        all_genres.append(genre.get(\"name\"))\n",
    "    return tuple(all_genres)\n",
    "\n",
    "train_df[\"genres_list\"] = train_df.genres.apply(lambda x : get_genres(x))"
   ]
  },
  {
   "cell_type": "code",
   "execution_count": 14,
   "metadata": {},
   "outputs": [],
   "source": [
    "# Perform the same operation on test dataframe\n",
    "test_df[\"genres_list\"] = test_df.genres.apply(lambda x : get_genres(x))"
   ]
  },
  {
   "cell_type": "code",
   "execution_count": 15,
   "metadata": {},
   "outputs": [],
   "source": [
    "# Create a complete list of all the possible genres\n",
    "all_genres_set = set()\n",
    "for genres_list in train_df.genres_list:\n",
    "    for genre in genres_list:\n",
    "        all_genres_set.add(genre)\n",
    "\n",
    "for genres_list in test_df.genres_list:\n",
    "    for genre in genres_list:\n",
    "        all_genres_set.add(genre)\n",
    "        \n",
    "# all_genres_set"
   ]
  },
  {
   "cell_type": "code",
   "execution_count": 16,
   "metadata": {},
   "outputs": [],
   "source": [
    "cols_to_drop_after_preprocessing.append(\"genres\")"
   ]
  },
  {
   "cell_type": "markdown",
   "metadata": {},
   "source": [
    "# Feature 3. Original_language"
   ]
  },
  {
   "cell_type": "code",
   "execution_count": 17,
   "metadata": {},
   "outputs": [],
   "source": [
    "# Add original_language to categorical_category\n",
    "categorical_categories.append(\"original_language\")"
   ]
  },
  {
   "cell_type": "code",
   "execution_count": 18,
   "metadata": {},
   "outputs": [
    {
     "data": {
      "text/plain": [
       "(False, False)"
      ]
     },
     "execution_count": 18,
     "metadata": {},
     "output_type": "execute_result"
    }
   ],
   "source": [
    "# No empty language, so proceed\n",
    "train_df.original_language.isna().any(), test_df.original_language.isna().any()"
   ]
  },
  {
   "cell_type": "markdown",
   "metadata": {},
   "source": [
    "# Feature 4. Popularity"
   ]
  },
  {
   "cell_type": "code",
   "execution_count": 19,
   "metadata": {},
   "outputs": [],
   "source": [
    "# Add popularity to numerical_category\n",
    "numerical_categories.append(\"popularity\")"
   ]
  },
  {
   "cell_type": "code",
   "execution_count": 20,
   "metadata": {},
   "outputs": [
    {
     "data": {
      "text/plain": [
       "(False, False)"
      ]
     },
     "execution_count": 20,
     "metadata": {},
     "output_type": "execute_result"
    }
   ],
   "source": [
    "# No empty popularity, so proceed\n",
    "train_df.popularity.isna().any(), test_df.popularity.isna().any()"
   ]
  },
  {
   "cell_type": "markdown",
   "metadata": {},
   "source": [
    "# Feature 5. production_countries"
   ]
  },
  {
   "cell_type": "code",
   "execution_count": 21,
   "metadata": {},
   "outputs": [],
   "source": [
    "# Add production_countries_list to categorical_category\n",
    "categorical_categories.append(\"production_countries_list\")"
   ]
  },
  {
   "cell_type": "code",
   "execution_count": 22,
   "metadata": {},
   "outputs": [],
   "source": [
    "import json\n",
    "from ast import literal_eval\n",
    "# Creat complete list of the possible genres and then one hot encode it\n",
    "def get_production_countries(production_string):\n",
    "    all_production_countries = []\n",
    "    if pd.isna(production_string):\n",
    "        return []\n",
    "    for country in literal_eval(production_string):\n",
    "        all_production_countries.append(country.get(\"iso_3166_1\"))\n",
    "    return tuple(all_production_countries)\n",
    "\n",
    "train_df[\"production_countries_list\"] = train_df.production_countries.apply(lambda x : get_production_countries(x))"
   ]
  },
  {
   "cell_type": "code",
   "execution_count": 23,
   "metadata": {},
   "outputs": [],
   "source": [
    "test_df[\"production_countries_list\"] = test_df.production_countries.apply(lambda x : get_production_countries(x))"
   ]
  },
  {
   "cell_type": "code",
   "execution_count": 24,
   "metadata": {},
   "outputs": [],
   "source": [
    "# Create a complete list of all the possible production countries\n",
    "all_production_countries_set = set()\n",
    "for production_countries_list in train_df.production_countries_list:\n",
    "    for country in production_countries_list:\n",
    "        all_production_countries_set.add(country)\n",
    "        \n",
    "for production_countries_list in test_df.production_countries_list:\n",
    "    for country in production_countries_list:\n",
    "        all_production_countries_set.add(country)\n",
    "# all_production_countries_set"
   ]
  },
  {
   "cell_type": "code",
   "execution_count": 25,
   "metadata": {},
   "outputs": [],
   "source": [
    "cols_to_drop_after_preprocessing.append(\"production_countries\")"
   ]
  },
  {
   "cell_type": "markdown",
   "metadata": {},
   "source": [
    "# Feature 5. Release date needs to be converted to age feature"
   ]
  },
  {
   "cell_type": "code",
   "execution_count": 26,
   "metadata": {},
   "outputs": [],
   "source": [
    "# Add age to numerical category\n",
    "numerical_categories.append(\"age\")"
   ]
  },
  {
   "cell_type": "code",
   "execution_count": 27,
   "metadata": {},
   "outputs": [],
   "source": [
    "from datetime import datetime\n",
    "train_df[\"age\"] = train_df.release_date.apply(lambda x : datetime.now().year - datetime.strptime(x, '%m/%d/%y').year)"
   ]
  },
  {
   "cell_type": "code",
   "execution_count": 28,
   "metadata": {},
   "outputs": [],
   "source": [
    "# Perform the same on test dataframe\n",
    "test_df[\"age\"] = test_df.release_date.apply(lambda x : datetime.now().year - datetime.strptime(x, '%m/%d/%y').year if pd.isna(x) is False else train_df.age.mean())"
   ]
  },
  {
   "cell_type": "code",
   "execution_count": 29,
   "metadata": {},
   "outputs": [],
   "source": [
    "cols_to_drop_after_preprocessing.append(\"release_date\")"
   ]
  },
  {
   "cell_type": "markdown",
   "metadata": {},
   "source": [
    "# Feature 6. Add runtime to numerical categories"
   ]
  },
  {
   "cell_type": "code",
   "execution_count": 30,
   "metadata": {},
   "outputs": [],
   "source": [
    "numerical_categories.append(\"runtime\")"
   ]
  },
  {
   "cell_type": "markdown",
   "metadata": {},
   "source": [
    "# Drop the columns not required"
   ]
  },
  {
   "cell_type": "code",
   "execution_count": 31,
   "metadata": {},
   "outputs": [],
   "source": [
    "train_df.drop(cols_to_drop_after_preprocessing, axis=1, inplace=True)\n",
    "test_df.drop(cols_to_drop_after_preprocessing, axis=1, inplace=True)"
   ]
  },
  {
   "cell_type": "code",
   "execution_count": 32,
   "metadata": {},
   "outputs": [
    {
     "name": "stdout",
     "output_type": "stream",
     "text": [
      "<class 'pandas.core.frame.DataFrame'>\n",
      "RangeIndex: 3000 entries, 0 to 2999\n",
      "Data columns (total 8 columns):\n",
      " #   Column                     Non-Null Count  Dtype  \n",
      "---  ------                     --------------  -----  \n",
      " 0   budget                     3000 non-null   float64\n",
      " 1   original_language          3000 non-null   object \n",
      " 2   popularity                 3000 non-null   float64\n",
      " 3   runtime                    2998 non-null   float64\n",
      " 4   revenue                    3000 non-null   int64  \n",
      " 5   genres_list                3000 non-null   object \n",
      " 6   production_countries_list  3000 non-null   object \n",
      " 7   age                        3000 non-null   int64  \n",
      "dtypes: float64(3), int64(2), object(3)\n",
      "memory usage: 187.6+ KB\n",
      "<class 'pandas.core.frame.DataFrame'>\n",
      "RangeIndex: 4398 entries, 0 to 4397\n",
      "Data columns (total 7 columns):\n",
      " #   Column                     Non-Null Count  Dtype  \n",
      "---  ------                     --------------  -----  \n",
      " 0   budget                     4398 non-null   float64\n",
      " 1   original_language          4398 non-null   object \n",
      " 2   popularity                 4398 non-null   float64\n",
      " 3   runtime                    4394 non-null   float64\n",
      " 4   genres_list                4398 non-null   object \n",
      " 5   production_countries_list  4398 non-null   object \n",
      " 6   age                        4398 non-null   float64\n",
      "dtypes: float64(4), object(3)\n",
      "memory usage: 240.6+ KB\n"
     ]
    },
    {
     "data": {
      "text/plain": [
       "(None, None)"
      ]
     },
     "execution_count": 32,
     "metadata": {},
     "output_type": "execute_result"
    }
   ],
   "source": [
    "train_df.info(), test_df.info()"
   ]
  },
  {
   "cell_type": "code",
   "execution_count": 33,
   "metadata": {},
   "outputs": [
    {
     "data": {
      "text/plain": [
       "(['genres_list', 'original_language', 'production_countries_list'],\n",
       " ['budget', 'popularity', 'age', 'runtime'])"
      ]
     },
     "execution_count": 33,
     "metadata": {},
     "output_type": "execute_result"
    }
   ],
   "source": [
    "categorical_categories, numerical_categories"
   ]
  },
  {
   "cell_type": "markdown",
   "metadata": {},
   "source": [
    "# Create a pipeline to scale data"
   ]
  },
  {
   "cell_type": "code",
   "execution_count": 34,
   "metadata": {},
   "outputs": [],
   "source": [
    "from sklearn.preprocessing import StandardScaler\n",
    "scaler = StandardScaler()"
   ]
  },
  {
   "cell_type": "code",
   "execution_count": 67,
   "metadata": {},
   "outputs": [],
   "source": [
    "# Scale the numerical categories\n",
    "train_numerical_df = pd.DataFrame(data = scaler.fit_transform(train_df[numerical_categories]), columns=numerical_categories)\n",
    "test_numerical_df = pd.DataFrame(data = scaler.fit_transform(test_df[numerical_categories]), columns=numerical_categories)"
   ]
  },
  {
   "cell_type": "code",
   "execution_count": 36,
   "metadata": {},
   "outputs": [],
   "source": [
    "# One Hot Encode the categorical categories\n",
    "from sklearn.preprocessing import MultiLabelBinarizer"
   ]
  },
  {
   "cell_type": "code",
   "execution_count": 62,
   "metadata": {},
   "outputs": [],
   "source": [
    "def get_categorical_df(df):\n",
    "    combined_categorical_df = pd.DataFrame()\n",
    "    for category in categorical_categories:\n",
    "        multilabelbinarizer = MultiLabelBinarizer()\n",
    "        data = multilabelbinarizer.fit_transform(df[category])\n",
    "        columns = multilabelbinarizer.classes_\n",
    "        new_df = pd.DataFrame(data, columns=columns)\n",
    "        combined_categorical_df = pd.concat([combined_categorical_df, new_df], axis=1)\n",
    "    return combined_categorical_df"
   ]
  },
  {
   "cell_type": "code",
   "execution_count": 63,
   "metadata": {},
   "outputs": [],
   "source": [
    "train_categorical_df = get_categorical_df(train_df)\n",
    "test_categorical_df = get_categorical_df(test_df)"
   ]
  },
  {
   "cell_type": "code",
   "execution_count": 74,
   "metadata": {},
   "outputs": [],
   "source": [
    "# Combine Numerical and Categorical Dataframes to form a single unique dataframe\n",
    "train_final_df = pd.concat([train_numerical_df, train_categorical_df, train_df[\"revenue\"]], axis=1)\n",
    "test_final_df = pd.concat([test_numerical_df, test_categorical_df], axis=1)"
   ]
  },
  {
   "cell_type": "code",
   "execution_count": 80,
   "metadata": {},
   "outputs": [],
   "source": [
    "# Split the dataframe\n",
    "from sklearn.model_selection import train_test_split\n",
    "X_train, X_test, y_train, y_test = train_test_split(train_final_df.drop(\"revenue\", axis=1, inplace=False), train_final_df[\"revenue\"], test_size=0.2, shuffle=True, random_state=42)"
   ]
  },
  {
   "cell_type": "code",
   "execution_count": 85,
   "metadata": {},
   "outputs": [
    {
     "data": {
      "text/plain": [
       "1801      9247881\n",
       "1190            7\n",
       "1817        33700\n",
       "251      10017322\n",
       "2505      8910819\n",
       "          ...    \n",
       "104     149521495\n",
       "2087     44030246\n",
       "599      42930462\n",
       "1756     88658655\n",
       "1323      3337685\n",
       "Name: revenue, Length: 600, dtype: int64"
      ]
     },
     "execution_count": 85,
     "metadata": {},
     "output_type": "execute_result"
    }
   ],
   "source": []
  },
  {
   "cell_type": "markdown",
   "metadata": {},
   "source": [
    "# Create a keras model for predictions"
   ]
  },
  {
   "cell_type": "code",
   "execution_count": 86,
   "metadata": {},
   "outputs": [],
   "source": [
    "from keras.layers import Dense, Dropout\n",
    "from keras.models import Sequential"
   ]
  },
  {
   "cell_type": "code",
   "execution_count": 178,
   "metadata": {},
   "outputs": [
    {
     "data": {
      "text/html": [
       "<div>\n",
       "<style scoped>\n",
       "    .dataframe tbody tr th:only-of-type {\n",
       "        vertical-align: middle;\n",
       "    }\n",
       "\n",
       "    .dataframe tbody tr th {\n",
       "        vertical-align: top;\n",
       "    }\n",
       "\n",
       "    .dataframe thead th {\n",
       "        text-align: right;\n",
       "    }\n",
       "</style>\n",
       "<table border=\"1\" class=\"dataframe\">\n",
       "  <thead>\n",
       "    <tr style=\"text-align: right;\">\n",
       "      <th></th>\n",
       "      <th>budget</th>\n",
       "      <th>popularity</th>\n",
       "      <th>age</th>\n",
       "      <th>runtime</th>\n",
       "      <th>Action</th>\n",
       "      <th>Adventure</th>\n",
       "      <th>Animation</th>\n",
       "      <th>Comedy</th>\n",
       "      <th>Crime</th>\n",
       "      <th>Documentary</th>\n",
       "      <th>...</th>\n",
       "      <th>SE</th>\n",
       "      <th>SG</th>\n",
       "      <th>SI</th>\n",
       "      <th>TN</th>\n",
       "      <th>TR</th>\n",
       "      <th>TW</th>\n",
       "      <th>UA</th>\n",
       "      <th>US</th>\n",
       "      <th>UY</th>\n",
       "      <th>ZA</th>\n",
       "    </tr>\n",
       "  </thead>\n",
       "  <tbody>\n",
       "    <tr>\n",
       "      <th>642</th>\n",
       "      <td>0.235795</td>\n",
       "      <td>-0.052321</td>\n",
       "      <td>1.071162</td>\n",
       "      <td>0.368769</td>\n",
       "      <td>0</td>\n",
       "      <td>0</td>\n",
       "      <td>0</td>\n",
       "      <td>1</td>\n",
       "      <td>0</td>\n",
       "      <td>0</td>\n",
       "      <td>...</td>\n",
       "      <td>0</td>\n",
       "      <td>0</td>\n",
       "      <td>0</td>\n",
       "      <td>0</td>\n",
       "      <td>0</td>\n",
       "      <td>0</td>\n",
       "      <td>0</td>\n",
       "      <td>1</td>\n",
       "      <td>0</td>\n",
       "      <td>0</td>\n",
       "    </tr>\n",
       "    <tr>\n",
       "      <th>700</th>\n",
       "      <td>-0.171403</td>\n",
       "      <td>-0.087101</td>\n",
       "      <td>1.200376</td>\n",
       "      <td>-0.627484</td>\n",
       "      <td>0</td>\n",
       "      <td>0</td>\n",
       "      <td>0</td>\n",
       "      <td>1</td>\n",
       "      <td>0</td>\n",
       "      <td>0</td>\n",
       "      <td>...</td>\n",
       "      <td>0</td>\n",
       "      <td>0</td>\n",
       "      <td>0</td>\n",
       "      <td>0</td>\n",
       "      <td>0</td>\n",
       "      <td>0</td>\n",
       "      <td>0</td>\n",
       "      <td>1</td>\n",
       "      <td>0</td>\n",
       "      <td>0</td>\n",
       "    </tr>\n",
       "    <tr>\n",
       "      <th>226</th>\n",
       "      <td>0.555737</td>\n",
       "      <td>-0.065646</td>\n",
       "      <td>-0.414798</td>\n",
       "      <td>-0.129358</td>\n",
       "      <td>1</td>\n",
       "      <td>0</td>\n",
       "      <td>0</td>\n",
       "      <td>0</td>\n",
       "      <td>1</td>\n",
       "      <td>0</td>\n",
       "      <td>...</td>\n",
       "      <td>0</td>\n",
       "      <td>0</td>\n",
       "      <td>0</td>\n",
       "      <td>0</td>\n",
       "      <td>0</td>\n",
       "      <td>0</td>\n",
       "      <td>0</td>\n",
       "      <td>1</td>\n",
       "      <td>0</td>\n",
       "      <td>0</td>\n",
       "    </tr>\n",
       "    <tr>\n",
       "      <th>1697</th>\n",
       "      <td>0.000000</td>\n",
       "      <td>-0.215085</td>\n",
       "      <td>0.812734</td>\n",
       "      <td>1.093316</td>\n",
       "      <td>0</td>\n",
       "      <td>0</td>\n",
       "      <td>0</td>\n",
       "      <td>0</td>\n",
       "      <td>0</td>\n",
       "      <td>0</td>\n",
       "      <td>...</td>\n",
       "      <td>0</td>\n",
       "      <td>0</td>\n",
       "      <td>0</td>\n",
       "      <td>0</td>\n",
       "      <td>0</td>\n",
       "      <td>0</td>\n",
       "      <td>0</td>\n",
       "      <td>1</td>\n",
       "      <td>0</td>\n",
       "      <td>0</td>\n",
       "    </tr>\n",
       "    <tr>\n",
       "      <th>1010</th>\n",
       "      <td>0.119453</td>\n",
       "      <td>0.731068</td>\n",
       "      <td>-0.673226</td>\n",
       "      <td>0.776327</td>\n",
       "      <td>0</td>\n",
       "      <td>0</td>\n",
       "      <td>0</td>\n",
       "      <td>1</td>\n",
       "      <td>0</td>\n",
       "      <td>0</td>\n",
       "      <td>...</td>\n",
       "      <td>0</td>\n",
       "      <td>0</td>\n",
       "      <td>0</td>\n",
       "      <td>0</td>\n",
       "      <td>0</td>\n",
       "      <td>0</td>\n",
       "      <td>0</td>\n",
       "      <td>1</td>\n",
       "      <td>0</td>\n",
       "      <td>0</td>\n",
       "    </tr>\n",
       "    <tr>\n",
       "      <th>...</th>\n",
       "      <td>...</td>\n",
       "      <td>...</td>\n",
       "      <td>...</td>\n",
       "      <td>...</td>\n",
       "      <td>...</td>\n",
       "      <td>...</td>\n",
       "      <td>...</td>\n",
       "      <td>...</td>\n",
       "      <td>...</td>\n",
       "      <td>...</td>\n",
       "      <td>...</td>\n",
       "      <td>...</td>\n",
       "      <td>...</td>\n",
       "      <td>...</td>\n",
       "      <td>...</td>\n",
       "      <td>...</td>\n",
       "      <td>...</td>\n",
       "      <td>...</td>\n",
       "      <td>...</td>\n",
       "      <td>...</td>\n",
       "      <td>...</td>\n",
       "    </tr>\n",
       "    <tr>\n",
       "      <th>1638</th>\n",
       "      <td>0.000000</td>\n",
       "      <td>-0.015873</td>\n",
       "      <td>-0.220977</td>\n",
       "      <td>0.957464</td>\n",
       "      <td>1</td>\n",
       "      <td>0</td>\n",
       "      <td>0</td>\n",
       "      <td>0</td>\n",
       "      <td>0</td>\n",
       "      <td>0</td>\n",
       "      <td>...</td>\n",
       "      <td>0</td>\n",
       "      <td>0</td>\n",
       "      <td>0</td>\n",
       "      <td>0</td>\n",
       "      <td>0</td>\n",
       "      <td>0</td>\n",
       "      <td>0</td>\n",
       "      <td>0</td>\n",
       "      <td>0</td>\n",
       "      <td>0</td>\n",
       "    </tr>\n",
       "    <tr>\n",
       "      <th>1095</th>\n",
       "      <td>0.788421</td>\n",
       "      <td>0.514194</td>\n",
       "      <td>0.618913</td>\n",
       "      <td>1.002748</td>\n",
       "      <td>1</td>\n",
       "      <td>1</td>\n",
       "      <td>0</td>\n",
       "      <td>0</td>\n",
       "      <td>0</td>\n",
       "      <td>0</td>\n",
       "      <td>...</td>\n",
       "      <td>0</td>\n",
       "      <td>0</td>\n",
       "      <td>0</td>\n",
       "      <td>0</td>\n",
       "      <td>0</td>\n",
       "      <td>0</td>\n",
       "      <td>0</td>\n",
       "      <td>1</td>\n",
       "      <td>0</td>\n",
       "      <td>0</td>\n",
       "    </tr>\n",
       "    <tr>\n",
       "      <th>1130</th>\n",
       "      <td>0.000000</td>\n",
       "      <td>-0.064415</td>\n",
       "      <td>1.781838</td>\n",
       "      <td>-0.536915</td>\n",
       "      <td>1</td>\n",
       "      <td>1</td>\n",
       "      <td>0</td>\n",
       "      <td>1</td>\n",
       "      <td>0</td>\n",
       "      <td>0</td>\n",
       "      <td>...</td>\n",
       "      <td>0</td>\n",
       "      <td>0</td>\n",
       "      <td>0</td>\n",
       "      <td>0</td>\n",
       "      <td>0</td>\n",
       "      <td>0</td>\n",
       "      <td>0</td>\n",
       "      <td>1</td>\n",
       "      <td>0</td>\n",
       "      <td>0</td>\n",
       "    </tr>\n",
       "    <tr>\n",
       "      <th>1294</th>\n",
       "      <td>-0.200488</td>\n",
       "      <td>-0.349545</td>\n",
       "      <td>1.717231</td>\n",
       "      <td>1.183885</td>\n",
       "      <td>0</td>\n",
       "      <td>1</td>\n",
       "      <td>0</td>\n",
       "      <td>0</td>\n",
       "      <td>0</td>\n",
       "      <td>0</td>\n",
       "      <td>...</td>\n",
       "      <td>0</td>\n",
       "      <td>0</td>\n",
       "      <td>0</td>\n",
       "      <td>0</td>\n",
       "      <td>0</td>\n",
       "      <td>0</td>\n",
       "      <td>0</td>\n",
       "      <td>1</td>\n",
       "      <td>0</td>\n",
       "      <td>0</td>\n",
       "    </tr>\n",
       "    <tr>\n",
       "      <th>860</th>\n",
       "      <td>-0.200488</td>\n",
       "      <td>-0.352482</td>\n",
       "      <td>0.231271</td>\n",
       "      <td>-0.853905</td>\n",
       "      <td>0</td>\n",
       "      <td>0</td>\n",
       "      <td>0</td>\n",
       "      <td>1</td>\n",
       "      <td>0</td>\n",
       "      <td>0</td>\n",
       "      <td>...</td>\n",
       "      <td>0</td>\n",
       "      <td>0</td>\n",
       "      <td>0</td>\n",
       "      <td>0</td>\n",
       "      <td>0</td>\n",
       "      <td>0</td>\n",
       "      <td>0</td>\n",
       "      <td>1</td>\n",
       "      <td>0</td>\n",
       "      <td>0</td>\n",
       "    </tr>\n",
       "  </tbody>\n",
       "</table>\n",
       "<p>2400 rows × 119 columns</p>\n",
       "</div>"
      ],
      "text/plain": [
       "        budget  popularity       age   runtime  Action  Adventure  Animation  \\\n",
       "642   0.235795   -0.052321  1.071162  0.368769       0          0          0   \n",
       "700  -0.171403   -0.087101  1.200376 -0.627484       0          0          0   \n",
       "226   0.555737   -0.065646 -0.414798 -0.129358       1          0          0   \n",
       "1697  0.000000   -0.215085  0.812734  1.093316       0          0          0   \n",
       "1010  0.119453    0.731068 -0.673226  0.776327       0          0          0   \n",
       "...        ...         ...       ...       ...     ...        ...        ...   \n",
       "1638  0.000000   -0.015873 -0.220977  0.957464       1          0          0   \n",
       "1095  0.788421    0.514194  0.618913  1.002748       1          1          0   \n",
       "1130  0.000000   -0.064415  1.781838 -0.536915       1          1          0   \n",
       "1294 -0.200488   -0.349545  1.717231  1.183885       0          1          0   \n",
       "860  -0.200488   -0.352482  0.231271 -0.853905       0          0          0   \n",
       "\n",
       "      Comedy  Crime  Documentary  ...  SE  SG  SI  TN  TR  TW  UA  US  UY  ZA  \n",
       "642        1      0            0  ...   0   0   0   0   0   0   0   1   0   0  \n",
       "700        1      0            0  ...   0   0   0   0   0   0   0   1   0   0  \n",
       "226        0      1            0  ...   0   0   0   0   0   0   0   1   0   0  \n",
       "1697       0      0            0  ...   0   0   0   0   0   0   0   1   0   0  \n",
       "1010       1      0            0  ...   0   0   0   0   0   0   0   1   0   0  \n",
       "...      ...    ...          ...  ...  ..  ..  ..  ..  ..  ..  ..  ..  ..  ..  \n",
       "1638       0      0            0  ...   0   0   0   0   0   0   0   0   0   0  \n",
       "1095       0      0            0  ...   0   0   0   0   0   0   0   1   0   0  \n",
       "1130       1      0            0  ...   0   0   0   0   0   0   0   1   0   0  \n",
       "1294       0      0            0  ...   0   0   0   0   0   0   0   1   0   0  \n",
       "860        1      0            0  ...   0   0   0   0   0   0   0   1   0   0  \n",
       "\n",
       "[2400 rows x 119 columns]"
      ]
     },
     "execution_count": 178,
     "metadata": {},
     "output_type": "execute_result"
    }
   ],
   "source": [
    "X_train"
   ]
  },
  {
   "cell_type": "code",
   "execution_count": 187,
   "metadata": {},
   "outputs": [],
   "source": [
    "# Define a keras model\n",
    "model = Sequential()\n",
    "\n",
    "model.add(Dense(128, input_dim=len(X_train.columns), activation=\"relu\"))\n",
    "# model.add(Dense(128, activation=\"relu\"))\n",
    "# model.add(Dropout(0.2))\n",
    "\n",
    "model.add(Dense(64, activation=\"relu\"))\n",
    "# model.add(Dense(256, activation=\"relu\"))\n",
    "# model.add(Dropout(0.2))\n",
    "\n",
    "# model.add(Dense(128, activation=\"relu\"))\n",
    "# model.add(Dense(128, activation=\"relu\"))\n",
    "# model.add(Dropout(0.2))\n",
    "\n",
    "# model.add(Dense(64, activation=\"relu\"))\n",
    "# model.add(Dense(64, activation=\"relu\"))\n",
    "# model.add(Dropout(0.2))\n",
    "\n",
    "model.add(Dense(32, activation=\"relu\"))\n",
    "model.add(Dense(1, activation=\"linear\"))"
   ]
  },
  {
   "cell_type": "code",
   "execution_count": 201,
   "metadata": {},
   "outputs": [],
   "source": [
    "from keras.optimizers import SGD\n",
    "opt = SGD(lr=0.01, momentum=0.9)\n",
    "model.compile(loss='mean_squared_logarithmic_error', optimizer=opt)"
   ]
  },
  {
   "cell_type": "code",
   "execution_count": 202,
   "metadata": {},
   "outputs": [
    {
     "data": {
      "text/plain": [
       "array([[ 0.23579525, -0.05232095,  1.07116176, ...,  1.        ,\n",
       "         0.        ,  0.        ],\n",
       "       [-0.17140292, -0.08710103,  1.20037566, ...,  1.        ,\n",
       "         0.        ,  0.        ],\n",
       "       [ 0.55573667, -0.06564587, -0.41479818, ...,  1.        ,\n",
       "         0.        ,  0.        ],\n",
       "       ...,\n",
       "       [ 0.        , -0.06441541,  1.78183825, ...,  1.        ,\n",
       "         0.        ,  0.        ],\n",
       "       [-0.2004885 , -0.34954547,  1.71723129, ...,  1.        ,\n",
       "         0.        ,  0.        ],\n",
       "       [-0.2004885 , -0.35248193,  0.23127136, ...,  1.        ,\n",
       "         0.        ,  0.        ]])"
      ]
     },
     "execution_count": 202,
     "metadata": {},
     "output_type": "execute_result"
    }
   ],
   "source": [
    "X_train.values"
   ]
  },
  {
   "cell_type": "code",
   "execution_count": 203,
   "metadata": {},
   "outputs": [],
   "source": [
    "# data = X_train[:, 0:len(X_train.columns) - 1]"
   ]
  },
  {
   "cell_type": "code",
   "execution_count": 204,
   "metadata": {},
   "outputs": [
    {
     "name": "stdout",
     "output_type": "stream",
     "text": [
      "Epoch 1/10\n",
      "240/240 [==============================] - 0s 1ms/step - loss: nan - val_loss: nan\n",
      "Epoch 2/10\n",
      "240/240 [==============================] - 0s 953us/step - loss: nan - val_loss: nan\n",
      "Epoch 3/10\n",
      "240/240 [==============================] - 0s 943us/step - loss: nan - val_loss: nan\n",
      "Epoch 4/10\n",
      "240/240 [==============================] - 0s 988us/step - loss: nan - val_loss: nan\n",
      "Epoch 5/10\n",
      "240/240 [==============================] - 0s 1ms/step - loss: nan - val_loss: nan\n",
      "Epoch 6/10\n",
      "240/240 [==============================] - 0s 1ms/step - loss: nan - val_loss: nan\n",
      "Epoch 7/10\n",
      "240/240 [==============================] - 0s 1ms/step - loss: nan - val_loss: nan\n",
      "Epoch 8/10\n",
      "240/240 [==============================] - 0s 968us/step - loss: nan - val_loss: nan\n",
      "Epoch 9/10\n",
      "240/240 [==============================] - 0s 954us/step - loss: nan - val_loss: nan\n",
      "Epoch 10/10\n",
      "240/240 [==============================] - 0s 1ms/step - loss: nan - val_loss: nan\n"
     ]
    },
    {
     "data": {
      "text/plain": [
       "<tensorflow.python.keras.callbacks.History at 0x7fe9c2db6290>"
      ]
     },
     "execution_count": 204,
     "metadata": {},
     "output_type": "execute_result"
    }
   ],
   "source": [
    "model.fit(X_train.values, y_train.values, validation_data=(X_test.values, y_test.values), epochs=10, batch_size=10)"
   ]
  },
  {
   "cell_type": "code",
   "execution_count": 200,
   "metadata": {},
   "outputs": [
    {
     "data": {
      "text/plain": [
       "288752301"
      ]
     },
     "execution_count": 200,
     "metadata": {},
     "output_type": "execute_result"
    }
   ],
   "source": [
    "int(y_train.values[0])"
   ]
  },
  {
   "cell_type": "code",
   "execution_count": null,
   "metadata": {},
   "outputs": [],
   "source": []
  }
 ],
 "metadata": {
  "kernelspec": {
   "display_name": "Python 3",
   "language": "python",
   "name": "python3"
  },
  "language_info": {
   "codemirror_mode": {
    "name": "ipython",
    "version": 3
   },
   "file_extension": ".py",
   "mimetype": "text/x-python",
   "name": "python",
   "nbconvert_exporter": "python",
   "pygments_lexer": "ipython3",
   "version": "3.7.6"
  }
 },
 "nbformat": 4,
 "nbformat_minor": 4
}
