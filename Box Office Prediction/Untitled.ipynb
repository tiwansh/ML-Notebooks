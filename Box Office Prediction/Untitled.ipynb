{
 "cells": [
  {
   "cell_type": "code",
   "execution_count": 1,
   "metadata": {},
   "outputs": [],
   "source": [
    "# https://www.kaggle.com/c/tmdb-box-office-prediction/data?select=train.csv"
   ]
  },
  {
   "cell_type": "code",
   "execution_count": 114,
   "metadata": {},
   "outputs": [],
   "source": [
    "import pandas as pd\n",
    "import numpy as np"
   ]
  },
  {
   "cell_type": "code",
   "execution_count": 115,
   "metadata": {},
   "outputs": [],
   "source": [
    "# Read the train and test dataframe"
   ]
  },
  {
   "cell_type": "code",
   "execution_count": 116,
   "metadata": {},
   "outputs": [
    {
     "data": {
      "text/plain": [
       "Index(['id', 'belongs_to_collection', 'budget', 'genres', 'homepage',\n",
       "       'imdb_id', 'original_language', 'original_title', 'overview',\n",
       "       'popularity', 'poster_path', 'production_companies',\n",
       "       'production_countries', 'release_date', 'runtime', 'spoken_languages',\n",
       "       'status', 'tagline', 'title', 'Keywords', 'cast', 'crew', 'revenue'],\n",
       "      dtype='object')"
      ]
     },
     "execution_count": 116,
     "metadata": {},
     "output_type": "execute_result"
    }
   ],
   "source": [
    "train_df = pd.read_csv(\"train.csv\")\n",
    "test_df = pd.read_csv(\"test.csv\")\n",
    "train_df.columns"
   ]
  },
  {
   "cell_type": "markdown",
   "metadata": {},
   "source": [
    "# Analyse the data"
   ]
  },
  {
   "cell_type": "code",
   "execution_count": 117,
   "metadata": {},
   "outputs": [
    {
     "data": {
      "text/plain": [
       "((3000, 23), (4398, 22))"
      ]
     },
     "execution_count": 117,
     "metadata": {},
     "output_type": "execute_result"
    }
   ],
   "source": [
    "train_df.shape, test_df.shape"
   ]
  },
  {
   "cell_type": "code",
   "execution_count": 118,
   "metadata": {},
   "outputs": [],
   "source": [
    "# train_df.info(), test_df.info()"
   ]
  },
  {
   "cell_type": "code",
   "execution_count": 126,
   "metadata": {},
   "outputs": [
    {
     "data": {
      "text/plain": [
       "15"
      ]
     },
     "execution_count": 126,
     "metadata": {},
     "output_type": "execute_result"
    }
   ],
   "source": [
    "# Analyse and add other columns accordingly \n",
    "# Remove status and impute others\n",
    "drop_cols = [\"id\", \"belongs_to_collection\", \"homepage\", \"imdb_id\", \"original_title\", \"overview\", \"poster_path\", \"production_companies\", \"spoken_languages\", \"status\", \"Keywords\", \"cast\", \"crew\", \"tagline\", \"title\"]\n",
    "cols_to_drop_after_preprocessing = []\n",
    "len(drop_cols)"
   ]
  },
  {
   "cell_type": "code",
   "execution_count": 129,
   "metadata": {},
   "outputs": [],
   "source": [
    "numerical_categories = []\n",
    "categorical_categories = []"
   ]
  },
  {
   "cell_type": "code",
   "execution_count": 120,
   "metadata": {},
   "outputs": [
    {
     "name": "stdout",
     "output_type": "stream",
     "text": [
      "<class 'pandas.core.frame.DataFrame'>\n",
      "RangeIndex: 3000 entries, 0 to 2999\n",
      "Data columns (total 8 columns):\n",
      " #   Column                Non-Null Count  Dtype  \n",
      "---  ------                --------------  -----  \n",
      " 0   budget                3000 non-null   int64  \n",
      " 1   genres                2993 non-null   object \n",
      " 2   original_language     3000 non-null   object \n",
      " 3   popularity            3000 non-null   float64\n",
      " 4   production_countries  2945 non-null   object \n",
      " 5   release_date          3000 non-null   object \n",
      " 6   runtime               2998 non-null   float64\n",
      " 7   revenue               3000 non-null   int64  \n",
      "dtypes: float64(2), int64(2), object(4)\n",
      "memory usage: 187.6+ KB\n",
      "<class 'pandas.core.frame.DataFrame'>\n",
      "RangeIndex: 4398 entries, 0 to 4397\n",
      "Data columns (total 7 columns):\n",
      " #   Column                Non-Null Count  Dtype  \n",
      "---  ------                --------------  -----  \n",
      " 0   budget                4398 non-null   int64  \n",
      " 1   genres                4382 non-null   object \n",
      " 2   original_language     4398 non-null   object \n",
      " 3   popularity            4398 non-null   float64\n",
      " 4   production_countries  4296 non-null   object \n",
      " 5   release_date          4397 non-null   object \n",
      " 6   runtime               4394 non-null   float64\n",
      "dtypes: float64(2), int64(1), object(4)\n",
      "memory usage: 240.6+ KB\n"
     ]
    },
    {
     "data": {
      "text/plain": [
       "(None, None)"
      ]
     },
     "execution_count": 120,
     "metadata": {},
     "output_type": "execute_result"
    }
   ],
   "source": [
    "train_df.drop(drop_cols, axis = 1, inplace=True)\n",
    "test_df.drop(drop_cols, axis = 1, inplace=True)\n",
    "train_df.info(), test_df.info()"
   ]
  },
  {
   "cell_type": "code",
   "execution_count": 121,
   "metadata": {},
   "outputs": [],
   "source": [
    "# Useful_columns\n",
    "# No preprocessing required\n",
    "useful_no_preprocessing_cols = [\"budget\", \"popularity\", \"runtime\"]"
   ]
  },
  {
   "cell_type": "code",
   "execution_count": 131,
   "metadata": {},
   "outputs": [],
   "source": [
    "# Feature 1. Budget : Put mean of budget if budget is empty\n",
    "numerical_categories.append(\"budget\")"
   ]
  },
  {
   "cell_type": "code",
   "execution_count": 123,
   "metadata": {},
   "outputs": [],
   "source": [
    "budget_mean_train = train_df[train_df.budget != 0].budget.mean()\n",
    "train_df.budget = train_df.budget.apply(lambda x : budget_mean_train if x == 0 else x)"
   ]
  },
  {
   "cell_type": "code",
   "execution_count": 124,
   "metadata": {},
   "outputs": [],
   "source": [
    "budget_mean_test = test_df[test_df.budget != 0].budget.mean()\n",
    "test_df.budget = test_df.budget.apply(lambda x : budget_mean_test if x == 0 else x)"
   ]
  },
  {
   "cell_type": "code",
   "execution_count": 125,
   "metadata": {},
   "outputs": [
    {
     "data": {
      "text/html": [
       "<div>\n",
       "<style scoped>\n",
       "    .dataframe tbody tr th:only-of-type {\n",
       "        vertical-align: middle;\n",
       "    }\n",
       "\n",
       "    .dataframe tbody tr th {\n",
       "        vertical-align: top;\n",
       "    }\n",
       "\n",
       "    .dataframe thead th {\n",
       "        text-align: right;\n",
       "    }\n",
       "</style>\n",
       "<table border=\"1\" class=\"dataframe\">\n",
       "  <thead>\n",
       "    <tr style=\"text-align: right;\">\n",
       "      <th></th>\n",
       "      <th>budget</th>\n",
       "      <th>genres</th>\n",
       "      <th>original_language</th>\n",
       "      <th>popularity</th>\n",
       "      <th>production_countries</th>\n",
       "      <th>release_date</th>\n",
       "      <th>runtime</th>\n",
       "      <th>revenue</th>\n",
       "      <th>genres_list</th>\n",
       "    </tr>\n",
       "  </thead>\n",
       "  <tbody>\n",
       "    <tr>\n",
       "      <th>0</th>\n",
       "      <td>1.400000e+07</td>\n",
       "      <td>[{'id': 35, 'name': 'Comedy'}]</td>\n",
       "      <td>en</td>\n",
       "      <td>6.575393</td>\n",
       "      <td>[{'iso_3166_1': 'US', 'name': 'United States o...</td>\n",
       "      <td>2/20/15</td>\n",
       "      <td>93.0</td>\n",
       "      <td>12314651</td>\n",
       "      <td>(Comedy,)</td>\n",
       "    </tr>\n",
       "    <tr>\n",
       "      <th>1</th>\n",
       "      <td>4.000000e+07</td>\n",
       "      <td>[{'id': 35, 'name': 'Comedy'}, {'id': 18, 'nam...</td>\n",
       "      <td>en</td>\n",
       "      <td>8.248895</td>\n",
       "      <td>[{'iso_3166_1': 'US', 'name': 'United States o...</td>\n",
       "      <td>8/6/04</td>\n",
       "      <td>113.0</td>\n",
       "      <td>95149435</td>\n",
       "      <td>(Comedy, Drama, Family, Romance)</td>\n",
       "    </tr>\n",
       "    <tr>\n",
       "      <th>2</th>\n",
       "      <td>3.300000e+06</td>\n",
       "      <td>[{'id': 18, 'name': 'Drama'}]</td>\n",
       "      <td>en</td>\n",
       "      <td>64.299990</td>\n",
       "      <td>[{'iso_3166_1': 'US', 'name': 'United States o...</td>\n",
       "      <td>10/10/14</td>\n",
       "      <td>105.0</td>\n",
       "      <td>13092000</td>\n",
       "      <td>(Drama,)</td>\n",
       "    </tr>\n",
       "    <tr>\n",
       "      <th>3</th>\n",
       "      <td>1.200000e+06</td>\n",
       "      <td>[{'id': 53, 'name': 'Thriller'}, {'id': 18, 'n...</td>\n",
       "      <td>hi</td>\n",
       "      <td>3.174936</td>\n",
       "      <td>[{'iso_3166_1': 'IN', 'name': 'India'}]</td>\n",
       "      <td>3/9/12</td>\n",
       "      <td>122.0</td>\n",
       "      <td>16000000</td>\n",
       "      <td>(Thriller, Drama)</td>\n",
       "    </tr>\n",
       "    <tr>\n",
       "      <th>4</th>\n",
       "      <td>3.089305e+07</td>\n",
       "      <td>[{'id': 28, 'name': 'Action'}, {'id': 53, 'nam...</td>\n",
       "      <td>ko</td>\n",
       "      <td>1.148070</td>\n",
       "      <td>[{'iso_3166_1': 'KR', 'name': 'South Korea'}]</td>\n",
       "      <td>2/5/09</td>\n",
       "      <td>118.0</td>\n",
       "      <td>3923970</td>\n",
       "      <td>(Action, Thriller)</td>\n",
       "    </tr>\n",
       "    <tr>\n",
       "      <th>...</th>\n",
       "      <td>...</td>\n",
       "      <td>...</td>\n",
       "      <td>...</td>\n",
       "      <td>...</td>\n",
       "      <td>...</td>\n",
       "      <td>...</td>\n",
       "      <td>...</td>\n",
       "      <td>...</td>\n",
       "      <td>...</td>\n",
       "    </tr>\n",
       "    <tr>\n",
       "      <th>2995</th>\n",
       "      <td>3.089305e+07</td>\n",
       "      <td>[{'id': 35, 'name': 'Comedy'}, {'id': 10749, '...</td>\n",
       "      <td>en</td>\n",
       "      <td>9.853270</td>\n",
       "      <td>[{'iso_3166_1': 'US', 'name': 'United States o...</td>\n",
       "      <td>4/22/94</td>\n",
       "      <td>102.0</td>\n",
       "      <td>1596687</td>\n",
       "      <td>(Comedy, Romance)</td>\n",
       "    </tr>\n",
       "    <tr>\n",
       "      <th>2996</th>\n",
       "      <td>3.089305e+07</td>\n",
       "      <td>[{'id': 18, 'name': 'Drama'}, {'id': 10402, 'n...</td>\n",
       "      <td>sv</td>\n",
       "      <td>3.727996</td>\n",
       "      <td>[{'iso_3166_1': 'DK', 'name': 'Denmark'}, {'is...</td>\n",
       "      <td>3/28/13</td>\n",
       "      <td>102.0</td>\n",
       "      <td>180590</td>\n",
       "      <td>(Drama, Music)</td>\n",
       "    </tr>\n",
       "    <tr>\n",
       "      <th>2997</th>\n",
       "      <td>6.500000e+07</td>\n",
       "      <td>[{'id': 80, 'name': 'Crime'}, {'id': 28, 'name...</td>\n",
       "      <td>en</td>\n",
       "      <td>14.482345</td>\n",
       "      <td>[{'iso_3166_1': 'US', 'name': 'United States o...</td>\n",
       "      <td>10/11/96</td>\n",
       "      <td>120.0</td>\n",
       "      <td>89456761</td>\n",
       "      <td>(Crime, Action, Mystery, Thriller)</td>\n",
       "    </tr>\n",
       "    <tr>\n",
       "      <th>2998</th>\n",
       "      <td>4.200000e+07</td>\n",
       "      <td>[{'id': 35, 'name': 'Comedy'}, {'id': 10749, '...</td>\n",
       "      <td>en</td>\n",
       "      <td>15.725542</td>\n",
       "      <td>[{'iso_3166_1': 'US', 'name': 'United States o...</td>\n",
       "      <td>1/16/04</td>\n",
       "      <td>90.0</td>\n",
       "      <td>171963386</td>\n",
       "      <td>(Comedy, Romance)</td>\n",
       "    </tr>\n",
       "    <tr>\n",
       "      <th>2999</th>\n",
       "      <td>3.500000e+07</td>\n",
       "      <td>[{'id': 53, 'name': 'Thriller'}, {'id': 28, 'n...</td>\n",
       "      <td>en</td>\n",
       "      <td>10.512109</td>\n",
       "      <td>[{'iso_3166_1': 'US', 'name': 'United States o...</td>\n",
       "      <td>9/22/11</td>\n",
       "      <td>106.0</td>\n",
       "      <td>82087155</td>\n",
       "      <td>(Thriller, Action, Mystery)</td>\n",
       "    </tr>\n",
       "  </tbody>\n",
       "</table>\n",
       "<p>3000 rows × 9 columns</p>\n",
       "</div>"
      ],
      "text/plain": [
       "            budget                                             genres  \\\n",
       "0     1.400000e+07                     [{'id': 35, 'name': 'Comedy'}]   \n",
       "1     4.000000e+07  [{'id': 35, 'name': 'Comedy'}, {'id': 18, 'nam...   \n",
       "2     3.300000e+06                      [{'id': 18, 'name': 'Drama'}]   \n",
       "3     1.200000e+06  [{'id': 53, 'name': 'Thriller'}, {'id': 18, 'n...   \n",
       "4     3.089305e+07  [{'id': 28, 'name': 'Action'}, {'id': 53, 'nam...   \n",
       "...            ...                                                ...   \n",
       "2995  3.089305e+07  [{'id': 35, 'name': 'Comedy'}, {'id': 10749, '...   \n",
       "2996  3.089305e+07  [{'id': 18, 'name': 'Drama'}, {'id': 10402, 'n...   \n",
       "2997  6.500000e+07  [{'id': 80, 'name': 'Crime'}, {'id': 28, 'name...   \n",
       "2998  4.200000e+07  [{'id': 35, 'name': 'Comedy'}, {'id': 10749, '...   \n",
       "2999  3.500000e+07  [{'id': 53, 'name': 'Thriller'}, {'id': 28, 'n...   \n",
       "\n",
       "     original_language  popularity  \\\n",
       "0                   en    6.575393   \n",
       "1                   en    8.248895   \n",
       "2                   en   64.299990   \n",
       "3                   hi    3.174936   \n",
       "4                   ko    1.148070   \n",
       "...                ...         ...   \n",
       "2995                en    9.853270   \n",
       "2996                sv    3.727996   \n",
       "2997                en   14.482345   \n",
       "2998                en   15.725542   \n",
       "2999                en   10.512109   \n",
       "\n",
       "                                   production_countries release_date  runtime  \\\n",
       "0     [{'iso_3166_1': 'US', 'name': 'United States o...      2/20/15     93.0   \n",
       "1     [{'iso_3166_1': 'US', 'name': 'United States o...       8/6/04    113.0   \n",
       "2     [{'iso_3166_1': 'US', 'name': 'United States o...     10/10/14    105.0   \n",
       "3               [{'iso_3166_1': 'IN', 'name': 'India'}]       3/9/12    122.0   \n",
       "4         [{'iso_3166_1': 'KR', 'name': 'South Korea'}]       2/5/09    118.0   \n",
       "...                                                 ...          ...      ...   \n",
       "2995  [{'iso_3166_1': 'US', 'name': 'United States o...      4/22/94    102.0   \n",
       "2996  [{'iso_3166_1': 'DK', 'name': 'Denmark'}, {'is...      3/28/13    102.0   \n",
       "2997  [{'iso_3166_1': 'US', 'name': 'United States o...     10/11/96    120.0   \n",
       "2998  [{'iso_3166_1': 'US', 'name': 'United States o...      1/16/04     90.0   \n",
       "2999  [{'iso_3166_1': 'US', 'name': 'United States o...      9/22/11    106.0   \n",
       "\n",
       "        revenue                         genres_list  \n",
       "0      12314651                           (Comedy,)  \n",
       "1      95149435    (Comedy, Drama, Family, Romance)  \n",
       "2      13092000                            (Drama,)  \n",
       "3      16000000                   (Thriller, Drama)  \n",
       "4       3923970                  (Action, Thriller)  \n",
       "...         ...                                 ...  \n",
       "2995    1596687                   (Comedy, Romance)  \n",
       "2996     180590                      (Drama, Music)  \n",
       "2997   89456761  (Crime, Action, Mystery, Thriller)  \n",
       "2998  171963386                   (Comedy, Romance)  \n",
       "2999   82087155         (Thriller, Action, Mystery)  \n",
       "\n",
       "[3000 rows x 9 columns]"
      ]
     },
     "execution_count": 125,
     "metadata": {},
     "output_type": "execute_result"
    }
   ],
   "source": [
    "# 2. Genres\n",
    "import json\n",
    "# Creat complete list of the possible genres and then one hot encode it\n",
    "def get_genres(genres_string):\n",
    "    all_genres = []\n",
    "    if pd.isna(genres_string):\n",
    "        return []\n",
    "#     print(f\"processing {type(genres_string)}\")\n",
    "    for genre in json.loads(genres_string.replace(\"'\", \"\\\"\")):\n",
    "        all_genres.append(genre.get(\"name\"))\n",
    "    return tuple(all_genres)\n",
    "train_df[\"genres_list\"] = train_df.genres.apply(lambda x : get_genres(x))\n",
    "\n",
    "train_df"
   ]
  },
  {
   "cell_type": "code",
   "execution_count": 130,
   "metadata": {},
   "outputs": [],
   "source": [
    "# Feature 2 : Genres\n",
    "categorical_categories.append(\"genres_list\")"
   ]
  },
  {
   "cell_type": "code",
   "execution_count": 108,
   "metadata": {},
   "outputs": [
    {
     "data": {
      "text/plain": [
       "{'Action',\n",
       " 'Adventure',\n",
       " 'Animation',\n",
       " 'Comedy',\n",
       " 'Crime',\n",
       " 'Documentary',\n",
       " 'Drama',\n",
       " 'Family',\n",
       " 'Fantasy',\n",
       " 'Foreign',\n",
       " 'History',\n",
       " 'Horror',\n",
       " 'Music',\n",
       " 'Mystery',\n",
       " 'Romance',\n",
       " 'Science Fiction',\n",
       " 'TV Movie',\n",
       " 'Thriller',\n",
       " 'War',\n",
       " 'Western'}"
      ]
     },
     "execution_count": 108,
     "metadata": {},
     "output_type": "execute_result"
    }
   ],
   "source": [
    "# Create a complete list of all the possible genres\n",
    "all_genres_set = set()\n",
    "for genres_list in train_df.genres_list:\n",
    "    for genre in genres_list:\n",
    "        all_genres_set.add(genre)\n",
    "        \n",
    "all_genres_set"
   ]
  },
  {
   "cell_type": "code",
   "execution_count": 127,
   "metadata": {},
   "outputs": [],
   "source": [
    "cols_to_drop_after_preprocessing.append(\"genres\")"
   ]
  },
  {
   "cell_type": "code",
   "execution_count": 128,
   "metadata": {},
   "outputs": [],
   "source": [
    "# # One hot encode the genres\n",
    "# from sklearn.preprocessing import OneHotEncoder\n",
    "# one_hot_encoder = OneHotEncoder()\n",
    "# one_hot_encoder.fit_transform(train_df[\"genres_list\"])\n",
    "# # X = pd.get_dummies(train_df)\n",
    "# # X"
   ]
  },
  {
   "cell_type": "code",
   "execution_count": 133,
   "metadata": {},
   "outputs": [],
   "source": [
    "# 3. Original_language\n",
    "categorical_categories.append(\"original_language\")"
   ]
  },
  {
   "cell_type": "code",
   "execution_count": 136,
   "metadata": {},
   "outputs": [
    {
     "data": {
      "text/plain": [
       "False"
      ]
     },
     "execution_count": 136,
     "metadata": {},
     "output_type": "execute_result"
    }
   ],
   "source": [
    "# No empty language\n",
    "train_df.original_language.isna().any()"
   ]
  },
  {
   "cell_type": "code",
   "execution_count": 143,
   "metadata": {},
   "outputs": [],
   "source": [
    "# 4. popularity\n",
    "numerical_categories.append(\"popularity\")"
   ]
  },
  {
   "cell_type": "code",
   "execution_count": 147,
   "metadata": {},
   "outputs": [
    {
     "data": {
      "text/plain": [
       "False"
      ]
     },
     "execution_count": 147,
     "metadata": {},
     "output_type": "execute_result"
    }
   ],
   "source": [
    "# No empty popularity\n",
    "train_df.popularity.isna().any()"
   ]
  },
  {
   "cell_type": "code",
   "execution_count": 148,
   "metadata": {},
   "outputs": [
    {
     "data": {
      "text/plain": [
       "0       [{'iso_3166_1': 'US', 'name': 'United States o...\n",
       "1       [{'iso_3166_1': 'US', 'name': 'United States o...\n",
       "2       [{'iso_3166_1': 'US', 'name': 'United States o...\n",
       "3                 [{'iso_3166_1': 'IN', 'name': 'India'}]\n",
       "4           [{'iso_3166_1': 'KR', 'name': 'South Korea'}]\n",
       "                              ...                        \n",
       "2995    [{'iso_3166_1': 'US', 'name': 'United States o...\n",
       "2996    [{'iso_3166_1': 'DK', 'name': 'Denmark'}, {'is...\n",
       "2997    [{'iso_3166_1': 'US', 'name': 'United States o...\n",
       "2998    [{'iso_3166_1': 'US', 'name': 'United States o...\n",
       "2999    [{'iso_3166_1': 'US', 'name': 'United States o...\n",
       "Name: production_countries, Length: 3000, dtype: object"
      ]
     },
     "execution_count": 148,
     "metadata": {},
     "output_type": "execute_result"
    }
   ],
   "source": [
    "# 5. production_countries\n",
    "train_df[\"production_countries\"]"
   ]
  },
  {
   "cell_type": "code",
   "execution_count": null,
   "metadata": {},
   "outputs": [],
   "source": []
  }
 ],
 "metadata": {
  "kernelspec": {
   "display_name": "Python 3",
   "language": "python",
   "name": "python3"
  },
  "language_info": {
   "codemirror_mode": {
    "name": "ipython",
    "version": 3
   },
   "file_extension": ".py",
   "mimetype": "text/x-python",
   "name": "python",
   "nbconvert_exporter": "python",
   "pygments_lexer": "ipython3",
   "version": "3.7.6"
  }
 },
 "nbformat": 4,
 "nbformat_minor": 4
}
