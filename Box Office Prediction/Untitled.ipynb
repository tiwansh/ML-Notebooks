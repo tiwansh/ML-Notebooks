{
 "cells": [
  {
   "cell_type": "code",
   "execution_count": 1,
   "metadata": {},
   "outputs": [],
   "source": [
    "# https://www.kaggle.com/c/tmdb-box-office-prediction/data?select=train.csv"
   ]
  },
  {
   "cell_type": "code",
   "execution_count": null,
   "metadata": {},
   "outputs": [],
   "source": [
    "import pandas as pd\n",
    "import numpy as np\n",
    "import json"
   ]
  },
  {
   "cell_type": "code",
   "execution_count": 3,
   "metadata": {},
   "outputs": [],
   "source": [
    "# Read the train and test dataframe"
   ]
  },
  {
   "cell_type": "code",
   "execution_count": 4,
   "metadata": {},
   "outputs": [
    {
     "data": {
      "text/plain": [
       "Index(['id', 'belongs_to_collection', 'budget', 'genres', 'homepage',\n",
       "       'imdb_id', 'original_language', 'original_title', 'overview',\n",
       "       'popularity', 'poster_path', 'production_companies',\n",
       "       'production_countries', 'release_date', 'runtime', 'spoken_languages',\n",
       "       'status', 'tagline', 'title', 'Keywords', 'cast', 'crew', 'revenue'],\n",
       "      dtype='object')"
      ]
     },
     "execution_count": 4,
     "metadata": {},
     "output_type": "execute_result"
    }
   ],
   "source": [
    "train_df = pd.read_csv(\"train.csv\")\n",
    "test_df = pd.read_csv(\"test.csv\")\n",
    "train_df.columns"
   ]
  },
  {
   "cell_type": "markdown",
   "metadata": {},
   "source": [
    "# Analyse the data"
   ]
  },
  {
   "cell_type": "code",
   "execution_count": 5,
   "metadata": {},
   "outputs": [
    {
     "data": {
      "text/plain": [
       "((3000, 23), (4398, 22))"
      ]
     },
     "execution_count": 5,
     "metadata": {},
     "output_type": "execute_result"
    }
   ],
   "source": [
    "train_df.shape, test_df.shape"
   ]
  },
  {
   "cell_type": "code",
   "execution_count": 6,
   "metadata": {},
   "outputs": [],
   "source": [
    "# train_df.info(), test_df.info()"
   ]
  },
  {
   "cell_type": "code",
   "execution_count": 7,
   "metadata": {},
   "outputs": [
    {
     "data": {
      "text/plain": [
       "15"
      ]
     },
     "execution_count": 7,
     "metadata": {},
     "output_type": "execute_result"
    }
   ],
   "source": [
    "# Analyse and add other columns accordingly \n",
    "# Remove status and impute others\n",
    "drop_cols = [\"id\", \"belongs_to_collection\", \"homepage\", \"imdb_id\", \"original_title\", \"overview\", \"poster_path\", \"production_companies\", \"spoken_languages\", \"status\", \"Keywords\", \"cast\", \"crew\", \"tagline\", \"title\"]\n",
    "cols_to_drop_after_preprocessing = []\n",
    "len(drop_cols)"
   ]
  },
  {
   "cell_type": "code",
   "execution_count": 8,
   "metadata": {},
   "outputs": [],
   "source": [
    "numerical_categories = []\n",
    "categorical_categories = []"
   ]
  },
  {
   "cell_type": "code",
   "execution_count": 9,
   "metadata": {},
   "outputs": [
    {
     "name": "stdout",
     "output_type": "stream",
     "text": [
      "<class 'pandas.core.frame.DataFrame'>\n",
      "RangeIndex: 3000 entries, 0 to 2999\n",
      "Data columns (total 8 columns):\n",
      " #   Column                Non-Null Count  Dtype  \n",
      "---  ------                --------------  -----  \n",
      " 0   budget                3000 non-null   int64  \n",
      " 1   genres                2993 non-null   object \n",
      " 2   original_language     3000 non-null   object \n",
      " 3   popularity            3000 non-null   float64\n",
      " 4   production_countries  2945 non-null   object \n",
      " 5   release_date          3000 non-null   object \n",
      " 6   runtime               2998 non-null   float64\n",
      " 7   revenue               3000 non-null   int64  \n",
      "dtypes: float64(2), int64(2), object(4)\n",
      "memory usage: 187.6+ KB\n",
      "<class 'pandas.core.frame.DataFrame'>\n",
      "RangeIndex: 4398 entries, 0 to 4397\n",
      "Data columns (total 7 columns):\n",
      " #   Column                Non-Null Count  Dtype  \n",
      "---  ------                --------------  -----  \n",
      " 0   budget                4398 non-null   int64  \n",
      " 1   genres                4382 non-null   object \n",
      " 2   original_language     4398 non-null   object \n",
      " 3   popularity            4398 non-null   float64\n",
      " 4   production_countries  4296 non-null   object \n",
      " 5   release_date          4397 non-null   object \n",
      " 6   runtime               4394 non-null   float64\n",
      "dtypes: float64(2), int64(1), object(4)\n",
      "memory usage: 240.6+ KB\n"
     ]
    },
    {
     "data": {
      "text/plain": [
       "(None, None)"
      ]
     },
     "execution_count": 9,
     "metadata": {},
     "output_type": "execute_result"
    }
   ],
   "source": [
    "train_df.drop(drop_cols, axis = 1, inplace=True)\n",
    "test_df.drop(drop_cols, axis = 1, inplace=True)\n",
    "train_df.info(), test_df.info()"
   ]
  },
  {
   "cell_type": "markdown",
   "metadata": {},
   "source": [
    "# Feature 1. Budget : Put mean of budget if budget is empty"
   ]
  },
  {
   "cell_type": "code",
   "execution_count": 10,
   "metadata": {},
   "outputs": [],
   "source": [
    "# Add budget to numerical category\n",
    "numerical_categories.append(\"budget\")"
   ]
  },
  {
   "cell_type": "code",
   "execution_count": 11,
   "metadata": {},
   "outputs": [],
   "source": [
    "# Use mean budget if budget is empty/0\n",
    "budget_mean_train = train_df[train_df.budget != 0].budget.mean()\n",
    "train_df.budget = train_df.budget.apply(lambda x : budget_mean_train if x == 0 else x)"
   ]
  },
  {
   "cell_type": "code",
   "execution_count": 12,
   "metadata": {},
   "outputs": [],
   "source": [
    "# Do the same for test data\n",
    "budget_mean_test = test_df[test_df.budget != 0].budget.mean()\n",
    "test_df.budget = test_df.budget.apply(lambda x : budget_mean_test if x == 0 else x)"
   ]
  },
  {
   "cell_type": "markdown",
   "metadata": {},
   "source": [
    "# Feature 2. Genres"
   ]
  },
  {
   "cell_type": "code",
   "execution_count": 13,
   "metadata": {},
   "outputs": [],
   "source": [
    "# Add genres_list to categorical_category\n",
    "categorical_categories.append(\"genres_list\")"
   ]
  },
  {
   "cell_type": "code",
   "execution_count": 14,
   "metadata": {},
   "outputs": [],
   "source": [
    "# Create a list of genres instead of the string\n",
    "\n",
    "def get_genres(genres_string):\n",
    "    \"\"\"Returns tuple of genres generated from the passed genres string\"\"\"\n",
    "    all_genres = []\n",
    "    if pd.isna(genres_string):\n",
    "        return []\n",
    "#     print(f\"processing {type(genres_string)}\")\n",
    "    for genre in json.loads(genres_string.replace(\"'\", \"\\\"\")):\n",
    "        all_genres.append(genre.get(\"name\"))\n",
    "    return tuple(all_genres)\n",
    "\n",
    "train_df[\"genres_list\"] = train_df.genres.apply(lambda x : get_genres(x))"
   ]
  },
  {
   "cell_type": "code",
   "execution_count": 15,
   "metadata": {},
   "outputs": [],
   "source": [
    "# Perform the same operation on test dataframe\n",
    "test_df[\"genres_list\"] = test_df.genres.apply(lambda x : get_genres(x))"
   ]
  },
  {
   "cell_type": "code",
   "execution_count": 16,
   "metadata": {},
   "outputs": [],
   "source": [
    "# Create a complete list of all the possible genres\n",
    "all_genres_set = set()\n",
    "for genres_list in train_df.genres_list:\n",
    "    for genre in genres_list:\n",
    "        all_genres_set.add(genre)\n",
    "\n",
    "for genres_list in test_df.genres_list:\n",
    "    for genre in genres_list:\n",
    "        all_genres_set.add(genre)\n",
    "        \n",
    "# all_genres_set"
   ]
  },
  {
   "cell_type": "code",
   "execution_count": 17,
   "metadata": {},
   "outputs": [],
   "source": [
    "cols_to_drop_after_preprocessing.append(\"genres\")"
   ]
  },
  {
   "cell_type": "markdown",
   "metadata": {},
   "source": [
    "# Feature 3. Original_language"
   ]
  },
  {
   "cell_type": "code",
   "execution_count": 18,
   "metadata": {},
   "outputs": [],
   "source": [
    "# Add original_language to categorical_category\n",
    "categorical_categories.append(\"original_language\")"
   ]
  },
  {
   "cell_type": "code",
   "execution_count": 19,
   "metadata": {},
   "outputs": [
    {
     "data": {
      "text/plain": [
       "(False, False)"
      ]
     },
     "execution_count": 19,
     "metadata": {},
     "output_type": "execute_result"
    }
   ],
   "source": [
    "# No empty language, so proceed\n",
    "train_df.original_language.isna().any(), test_df.original_language.isna().any()"
   ]
  },
  {
   "cell_type": "markdown",
   "metadata": {},
   "source": [
    "# Feature 4. Popularity"
   ]
  },
  {
   "cell_type": "code",
   "execution_count": 20,
   "metadata": {},
   "outputs": [],
   "source": [
    "# Add popularity to numerical_category\n",
    "numerical_categories.append(\"popularity\")"
   ]
  },
  {
   "cell_type": "code",
   "execution_count": 21,
   "metadata": {},
   "outputs": [
    {
     "data": {
      "text/plain": [
       "(False, False)"
      ]
     },
     "execution_count": 21,
     "metadata": {},
     "output_type": "execute_result"
    }
   ],
   "source": [
    "# No empty popularity, so proceed\n",
    "train_df.popularity.isna().any(), test_df.popularity.isna().any()"
   ]
  },
  {
   "cell_type": "markdown",
   "metadata": {},
   "source": [
    "# Feature 5. production_countries"
   ]
  },
  {
   "cell_type": "code",
   "execution_count": 22,
   "metadata": {},
   "outputs": [],
   "source": [
    "# Add production_countries_list to categorical_category\n",
    "categorical_categories.append(\"production_countries_list\")"
   ]
  },
  {
   "cell_type": "code",
   "execution_count": 23,
   "metadata": {},
   "outputs": [],
   "source": [
    "import json\n",
    "from ast import literal_eval\n",
    "# Creat complete list of the possible genres and then one hot encode it\n",
    "def get_production_countries(production_string):\n",
    "    all_production_countries = []\n",
    "    if pd.isna(production_string):\n",
    "        return []\n",
    "    for country in literal_eval(production_string):\n",
    "        all_production_countries.append(country.get(\"iso_3166_1\"))\n",
    "    return tuple(all_production_countries)\n",
    "\n",
    "train_df[\"production_countries_list\"] = train_df.production_countries.apply(lambda x : get_production_countries(x))"
   ]
  },
  {
   "cell_type": "code",
   "execution_count": 24,
   "metadata": {},
   "outputs": [],
   "source": [
    "test_df[\"production_countries_list\"] = test_df.production_countries.apply(lambda x : get_production_countries(x))"
   ]
  },
  {
   "cell_type": "code",
   "execution_count": 25,
   "metadata": {},
   "outputs": [],
   "source": [
    "# Create a complete list of all the possible production countries\n",
    "all_production_countries_set = set()\n",
    "for production_countries_list in train_df.production_countries_list:\n",
    "    for country in production_countries_list:\n",
    "        all_production_countries_set.add(country)\n",
    "        \n",
    "for production_countries_list in test_df.production_countries_list:\n",
    "    for country in production_countries_list:\n",
    "        all_production_countries_set.add(country)\n",
    "# all_production_countries_set"
   ]
  },
  {
   "cell_type": "code",
   "execution_count": 26,
   "metadata": {},
   "outputs": [],
   "source": [
    "cols_to_drop_after_preprocessing.append(\"production_countries\")"
   ]
  },
  {
   "cell_type": "markdown",
   "metadata": {},
   "source": [
    "# Feature 5. Release date needs to be converted to age feature"
   ]
  },
  {
   "cell_type": "code",
   "execution_count": 27,
   "metadata": {},
   "outputs": [],
   "source": [
    "# Add age to numerical category\n",
    "numerical_categories.append(\"age\")"
   ]
  },
  {
   "cell_type": "code",
   "execution_count": 28,
   "metadata": {},
   "outputs": [],
   "source": [
    "from datetime import datetime\n",
    "train_df[\"age\"] = train_df.release_date.apply(lambda x : datetime.now().year - datetime.strptime(x, '%m/%d/%y').year)"
   ]
  },
  {
   "cell_type": "code",
   "execution_count": 29,
   "metadata": {},
   "outputs": [],
   "source": [
    "# Perform the same on test dataframe\n",
    "test_df[\"age\"] = test_df.release_date.apply(lambda x : datetime.now().year - datetime.strptime(x, '%m/%d/%y').year if pd.isna(x) is False else train_df.age.mean())"
   ]
  },
  {
   "cell_type": "code",
   "execution_count": 30,
   "metadata": {},
   "outputs": [],
   "source": [
    "cols_to_drop_after_preprocessing.append(\"release_date\")"
   ]
  },
  {
   "cell_type": "markdown",
   "metadata": {},
   "source": [
    "# Feature 6. Add runtime to numerical categories"
   ]
  },
  {
   "cell_type": "code",
   "execution_count": 31,
   "metadata": {},
   "outputs": [],
   "source": [
    "numerical_categories.append(\"runtime\")"
   ]
  },
  {
   "cell_type": "markdown",
   "metadata": {},
   "source": [
    "# Drop the columns not required"
   ]
  },
  {
   "cell_type": "code",
   "execution_count": 32,
   "metadata": {},
   "outputs": [],
   "source": [
    "train_df.drop(cols_to_drop_after_preprocessing, axis=1, inplace=True)\n",
    "test_df.drop(cols_to_drop_after_preprocessing, axis=1, inplace=True)"
   ]
  },
  {
   "cell_type": "code",
   "execution_count": 33,
   "metadata": {},
   "outputs": [
    {
     "name": "stdout",
     "output_type": "stream",
     "text": [
      "<class 'pandas.core.frame.DataFrame'>\n",
      "RangeIndex: 3000 entries, 0 to 2999\n",
      "Data columns (total 8 columns):\n",
      " #   Column                     Non-Null Count  Dtype  \n",
      "---  ------                     --------------  -----  \n",
      " 0   budget                     3000 non-null   float64\n",
      " 1   original_language          3000 non-null   object \n",
      " 2   popularity                 3000 non-null   float64\n",
      " 3   runtime                    2998 non-null   float64\n",
      " 4   revenue                    3000 non-null   int64  \n",
      " 5   genres_list                3000 non-null   object \n",
      " 6   production_countries_list  3000 non-null   object \n",
      " 7   age                        3000 non-null   int64  \n",
      "dtypes: float64(3), int64(2), object(3)\n",
      "memory usage: 187.6+ KB\n",
      "<class 'pandas.core.frame.DataFrame'>\n",
      "RangeIndex: 4398 entries, 0 to 4397\n",
      "Data columns (total 7 columns):\n",
      " #   Column                     Non-Null Count  Dtype  \n",
      "---  ------                     --------------  -----  \n",
      " 0   budget                     4398 non-null   float64\n",
      " 1   original_language          4398 non-null   object \n",
      " 2   popularity                 4398 non-null   float64\n",
      " 3   runtime                    4394 non-null   float64\n",
      " 4   genres_list                4398 non-null   object \n",
      " 5   production_countries_list  4398 non-null   object \n",
      " 6   age                        4398 non-null   float64\n",
      "dtypes: float64(4), object(3)\n",
      "memory usage: 240.6+ KB\n"
     ]
    },
    {
     "data": {
      "text/plain": [
       "(None, None)"
      ]
     },
     "execution_count": 33,
     "metadata": {},
     "output_type": "execute_result"
    }
   ],
   "source": [
    "train_df.info(), test_df.info()"
   ]
  },
  {
   "cell_type": "code",
   "execution_count": 34,
   "metadata": {},
   "outputs": [
    {
     "data": {
      "text/plain": [
       "(['genres_list', 'original_language', 'production_countries_list'],\n",
       " ['budget', 'popularity', 'age', 'runtime'])"
      ]
     },
     "execution_count": 34,
     "metadata": {},
     "output_type": "execute_result"
    }
   ],
   "source": [
    "categorical_categories, numerical_categories"
   ]
  },
  {
   "cell_type": "markdown",
   "metadata": {},
   "source": [
    "# Create a pipeline to scale data"
   ]
  },
  {
   "cell_type": "code",
   "execution_count": 35,
   "metadata": {},
   "outputs": [],
   "source": [
    "from sklearn.preprocessing import StandardScaler\n",
    "scaler = StandardScaler()"
   ]
  },
  {
   "cell_type": "code",
   "execution_count": 36,
   "metadata": {},
   "outputs": [],
   "source": [
    "# Scale the numerical categories\n",
    "train_numerical_data = scaler.fit_transform(train_df[numerical_categories])\n",
    "test_numerical_data = scaler.fit_transform(test_df[numerical_categories])"
   ]
  },
  {
   "cell_type": "code",
   "execution_count": 42,
   "metadata": {},
   "outputs": [],
   "source": [
    "# One Hot Encode the categorical categories\n",
    "from sklearn.preprocessing import MultiLabelBinarizer\n",
    "multilabelbinarizer = MultiLabelBinarizer()"
   ]
  },
  {
   "cell_type": "code",
   "execution_count": 46,
   "metadata": {},
   "outputs": [
    {
     "data": {
      "text/plain": [
       "['genres_list', 'original_language', 'production_countries_list']"
      ]
     },
     "execution_count": 46,
     "metadata": {},
     "output_type": "execute_result"
    }
   ],
   "source": [
    "categorical_categories"
   ]
  },
  {
   "cell_type": "code",
   "execution_count": 47,
   "metadata": {},
   "outputs": [
    {
     "data": {
      "text/plain": [
       "array([7, 7, 7, ..., 7, 7, 7])"
      ]
     },
     "execution_count": 47,
     "metadata": {},
     "output_type": "execute_result"
    }
   ],
   "source": []
  },
  {
   "cell_type": "code",
   "execution_count": null,
   "metadata": {},
   "outputs": [],
   "source": []
  }
 ],
 "metadata": {
  "kernelspec": {
   "display_name": "Python 3",
   "language": "python",
   "name": "python3"
  },
  "language_info": {
   "codemirror_mode": {
    "name": "ipython",
    "version": 3
   },
   "file_extension": ".py",
   "mimetype": "text/x-python",
   "name": "python",
   "nbconvert_exporter": "python",
   "pygments_lexer": "ipython3",
   "version": "3.7.6"
  }
 },
 "nbformat": 4,
 "nbformat_minor": 4
}
